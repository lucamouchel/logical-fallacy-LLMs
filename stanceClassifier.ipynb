{
 "cells": [
  {
   "cell_type": "code",
   "execution_count": 1,
   "metadata": {},
   "outputs": [],
   "source": [
    "from transformers import  utils, Trainer, TrainingArguments, ElectraTokenizer, ElectraForSequenceClassification\n",
    "from sklearn.metrics import accuracy_score, precision_recall_fscore_support\n",
    "from sklearn.metrics import accuracy_score, precision_score, recall_score, f1_score\n",
    "from sklearn.preprocessing import LabelEncoder\n",
    "import pandas as pd\n",
    "import numpy as np\n",
    "from datasets import Dataset, DatasetDict\n",
    "import torch\n",
    "from accelerate import Accelerator\n",
    "import os\n",
    "from performance import PerformanceSaver\n",
    "from bertviz import model_view\n",
    "utils.logging.set_verbosity_error()\n",
    "import warnings\n",
    "warnings.filterwarnings(\"ignore\")\n"
   ]
  },
  {
   "cell_type": "code",
   "execution_count": 2,
   "metadata": {},
   "outputs": [],
   "source": [
    "LOAD_SAVED_MODEL = False\n",
    "AUGMENT_WITH_NEUTRAL = True\n",
    "saved_model_path = \"models/binary/electra_classifier\"\n",
    "model_name = \"howey/electra-base-mnli\"\n",
    "data_dir = \"data/argumentation\"\n",
    "\n",
    "train_df = pd.read_csv(os.path.join(data_dir, 'train_iam.tsv'), sep='\\t')\n",
    "dev_df = pd.read_csv(os.path.join(data_dir, 'dev_iam.txt'), sep='\\t')\n",
    "test_df = pd.read_csv(os.path.join(data_dir, 'test_iam.txt'), sep='\\t')\n",
    "all_claims = pd.read_csv(os.path.join(data_dir, 'claims.txt'), sep='\\t')\n",
    "np.random.seed(42)\n",
    "\n",
    "if AUGMENT_WITH_NEUTRAL:\n",
    "    neutral_claims = all_claims[all_claims.type=='O'] \n",
    "    lower_bound = 0\n",
    "    \n",
    "    min_train_label = min(train_df['label'].value_counts())\n",
    "    train_sample = neutral_claims.iloc[:min_train_label]\n",
    "    train_df = pd.concat([train_df, train_sample]).sample(frac=1)\n",
    "    lower_bound = min_train_label\n",
    "    \n",
    "    min_dev_label = min(dev_df['label'].value_counts())\n",
    "    dev_sample = neutral_claims.iloc[lower_bound: lower_bound + min_dev_label]    \n",
    "    dev_df = pd.concat([dev_df, dev_sample]).sample(frac=1)\n",
    "    lower_bound = lower_bound + min_dev_label\n",
    "    \n",
    "    min_test_label = min(test_df['label'].value_counts())\n",
    "    test_sample = neutral_claims.iloc[lower_bound: lower_bound + min_test_label]    \n",
    "    test_df = pd.concat([test_df, test_sample]).sample(frac=1)\n",
    "    \n",
    "    \n",
    "label_encoder = LabelEncoder()\n",
    "label_encoder.fit(train_df['label'])\n",
    "train_df['label'] = label_encoder.transform(train_df['label'])\n",
    "dev_df['label'] = label_encoder.transform(dev_df['label'])\n",
    "test_df['label'] = label_encoder.transform(test_df['label'])\n",
    "\n",
    "dataset = DatasetDict({\n",
    "    'train': Dataset.from_pandas(train_df),\n",
    "    'validation': Dataset.from_pandas(dev_df),\n",
    "    'test': Dataset.from_pandas(test_df)\n",
    "})"
   ]
  },
  {
   "cell_type": "code",
   "execution_count": 3,
   "metadata": {},
   "outputs": [
    {
     "name": "stdout",
     "output_type": "stream",
     "text": [
      "1694    2\n",
      "599     1\n",
      "3297    2\n",
      "121     1\n",
      "307     1\n",
      "       ..\n",
      "3772    0\n",
      "1407    1\n",
      "1443    1\n",
      "1609    1\n",
      "860     0\n",
      "Name: label, Length: 5644, dtype: int64\n"
     ]
    }
   ],
   "source": [
    "print(train_df['label'])"
   ]
  },
  {
   "cell_type": "code",
   "execution_count": 31,
   "metadata": {},
   "outputs": [],
   "source": [
    "num_labels=len(label_encoder.classes_)\n",
    "ignore_mismatched_sizes=True\n",
    "#classifier_dropout=0.1\n",
    "output_attentions=False\n",
    "\n",
    "if LOAD_SAVED_MODEL:\n",
    "    tokenizer = ElectraTokenizer.from_pretrained(saved_model_path)\n",
    "    model = ElectraForSequenceClassification.from_pretrained(saved_model_path, num_labels=num_labels, ignore_mismatched_sizes=ignore_mismatched_sizes, output_attentions=output_attentions)\n",
    "else:\n",
    "    tokenizer = ElectraTokenizer.from_pretrained(model_name)\n",
    "    model = ElectraForSequenceClassification.from_pretrained(model_name, num_labels=num_labels, ignore_mismatched_sizes=ignore_mismatched_sizes, output_attentions=output_attentions)\n",
    "    \n",
    "if torch.cuda.is_available():\n",
    "        model = model.to(device='cuda')"
   ]
  },
  {
   "cell_type": "code",
   "execution_count": 32,
   "metadata": {},
   "outputs": [
    {
     "data": {
      "application/vnd.jupyter.widget-view+json": {
       "model_id": "0a5c3989d3874020987b4f7cda9ececf",
       "version_major": 2,
       "version_minor": 0
      },
      "text/plain": [
       "Map:   0%|          | 0/5644 [00:00<?, ? examples/s]"
      ]
     },
     "metadata": {},
     "output_type": "display_data"
    },
    {
     "data": {
      "application/vnd.jupyter.widget-view+json": {
       "model_id": "412025d7439e43109a8e7829019bf3de",
       "version_major": 2,
       "version_minor": 0
      },
      "text/plain": [
       "Map:   0%|          | 0/725 [00:00<?, ? examples/s]"
      ]
     },
     "metadata": {},
     "output_type": "display_data"
    },
    {
     "data": {
      "application/vnd.jupyter.widget-view+json": {
       "model_id": "c8fca20d46f74f6bb2266151c530a0ff",
       "version_major": 2,
       "version_minor": 0
      },
      "text/plain": [
       "Map:   0%|          | 0/783 [00:00<?, ? examples/s]"
      ]
     },
     "metadata": {},
     "output_type": "display_data"
    }
   ],
   "source": [
    "def process(batch):\n",
    "    inputs = tokenizer(batch[\"argument\"], truncation=True, padding=\"max_length\")\n",
    "    return {\n",
    "            \"input_ids\": inputs[\"input_ids\"],\n",
    "            \"attention_mask\": inputs[\"attention_mask\"],\n",
    "            \"labels\": batch[\"label\"],\n",
    "        }\n",
    "    \n",
    "tokenized_dataset = dataset.map(process, batched=True, remove_columns=dataset['train'].column_names)"
   ]
  },
  {
   "cell_type": "code",
   "execution_count": 33,
   "metadata": {},
   "outputs": [],
   "source": [
    "training_args = TrainingArguments(\n",
    "            output_dir='./results',\n",
    "            do_eval=True,\n",
    "            do_train=True,\n",
    "            num_train_epochs=4,\n",
    "            save_total_limit=2,\n",
    "            load_best_model_at_end=True,\n",
    "            learning_rate=1e-1,\n",
    "            per_device_train_batch_size=8,\n",
    "            per_device_eval_batch_size=8,\n",
    "            save_strategy=\"steps\",\n",
    "            logging_strategy=\"steps\",\n",
    "            evaluation_strategy=\"steps\",\n",
    "            logging_steps=100,\n",
    "            eval_steps=100,\n",
    "            save_steps=100,\n",
    "        )\n",
    "\n",
    "def compute_metrics(pred):\n",
    "            print(\"======================================\")\n",
    "            labels = pred.label_ids\n",
    "            preds = pred.predictions.argmax(-1)\n",
    "            precision, recall, f1, _ = precision_recall_fscore_support(\n",
    "                labels, preds, average=\"weighted\"\n",
    "            )\n",
    "            acc = accuracy_score(labels, preds)\n",
    "            print(f'ACCURACY:- {acc}\\nF1:- {f1}\\nPRECISION:- {precision}\\nRECALL:- {recall}')\n",
    "            return {\"accuracy\": acc, \"f1\": f1, \"precision\": precision, \"recall\": recall}"
   ]
  },
  {
   "cell_type": "code",
   "execution_count": 34,
   "metadata": {},
   "outputs": [],
   "source": [
    "trainer = Trainer(\n",
    "            model=model,\n",
    "            args=training_args,\n",
    "            compute_metrics=compute_metrics,\n",
    "            train_dataset=tokenized_dataset[\"train\"],\n",
    "            eval_dataset=tokenized_dataset[\"validation\"],\n",
    "            tokenizer=tokenizer,\n",
    "        )"
   ]
  },
  {
   "cell_type": "code",
   "execution_count": 35,
   "metadata": {},
   "outputs": [
    {
     "name": "stdout",
     "output_type": "stream",
     "text": [
      "{'loss': 55.3373, 'learning_rate': 0.09291784702549576, 'epoch': 0.28}\n",
      "======================================\n",
      "ACCURACY:- 0.35724137931034483\n",
      "F1:- 0.18805999439304738\n",
      "PRECISION:- 0.12762140309155767\n",
      "RECALL:- 0.35724137931034483\n",
      "{'eval_loss': 1.1031620502471924, 'eval_accuracy': 0.35724137931034483, 'eval_f1': 0.18805999439304738, 'eval_precision': 0.12762140309155767, 'eval_recall': 0.35724137931034483, 'eval_runtime': 13.8649, 'eval_samples_per_second': 52.29, 'eval_steps_per_second': 3.318, 'epoch': 0.28}\n",
      "{'loss': 1.0987, 'learning_rate': 0.0858356940509915, 'epoch': 0.57}\n",
      "======================================\n",
      "ACCURACY:- 0.3213793103448276\n",
      "F1:- 0.15632855805917503\n",
      "PRECISION:- 0.103284661117717\n",
      "RECALL:- 0.3213793103448276\n",
      "{'eval_loss': 1.1021512746810913, 'eval_accuracy': 0.3213793103448276, 'eval_f1': 0.15632855805917503, 'eval_precision': 0.103284661117717, 'eval_recall': 0.3213793103448276, 'eval_runtime': 13.9167, 'eval_samples_per_second': 52.096, 'eval_steps_per_second': 3.305, 'epoch': 0.57}\n",
      "{'loss': 1.1061, 'learning_rate': 0.07875354107648726, 'epoch': 0.85}\n",
      "======================================\n",
      "ACCURACY:- 0.35724137931034483\n",
      "F1:- 0.18805999439304738\n",
      "PRECISION:- 0.12762140309155767\n",
      "RECALL:- 0.35724137931034483\n",
      "{'eval_loss': 1.0973559617996216, 'eval_accuracy': 0.35724137931034483, 'eval_f1': 0.18805999439304738, 'eval_precision': 0.12762140309155767, 'eval_recall': 0.35724137931034483, 'eval_runtime': 13.8396, 'eval_samples_per_second': 52.386, 'eval_steps_per_second': 3.324, 'epoch': 0.85}\n",
      "{'loss': 1.1031, 'learning_rate': 0.07167138810198301, 'epoch': 1.13}\n",
      "======================================\n",
      "ACCURACY:- 0.35724137931034483\n",
      "F1:- 0.18805999439304738\n",
      "PRECISION:- 0.12762140309155767\n",
      "RECALL:- 0.35724137931034483\n",
      "{'eval_loss': 1.1024119853973389, 'eval_accuracy': 0.35724137931034483, 'eval_f1': 0.18805999439304738, 'eval_precision': 0.12762140309155767, 'eval_recall': 0.35724137931034483, 'eval_runtime': 13.9118, 'eval_samples_per_second': 52.114, 'eval_steps_per_second': 3.307, 'epoch': 1.13}\n",
      "{'loss': 1.0972, 'learning_rate': 0.06458923512747876, 'epoch': 1.42}\n",
      "======================================\n",
      "ACCURACY:- 0.35724137931034483\n",
      "F1:- 0.18805999439304738\n",
      "PRECISION:- 0.12762140309155767\n",
      "RECALL:- 0.35724137931034483\n",
      "{'eval_loss': 1.1023625135421753, 'eval_accuracy': 0.35724137931034483, 'eval_f1': 0.18805999439304738, 'eval_precision': 0.12762140309155767, 'eval_recall': 0.35724137931034483, 'eval_runtime': 13.893, 'eval_samples_per_second': 52.185, 'eval_steps_per_second': 3.311, 'epoch': 1.42}\n",
      "{'loss': 1.1021, 'learning_rate': 0.05750708215297451, 'epoch': 1.7}\n",
      "======================================\n",
      "ACCURACY:- 0.35724137931034483\n",
      "F1:- 0.18805999439304738\n",
      "PRECISION:- 0.12762140309155767\n",
      "RECALL:- 0.35724137931034483\n",
      "{'eval_loss': 1.1017957925796509, 'eval_accuracy': 0.35724137931034483, 'eval_f1': 0.18805999439304738, 'eval_precision': 0.12762140309155767, 'eval_recall': 0.35724137931034483, 'eval_runtime': 13.8875, 'eval_samples_per_second': 52.205, 'eval_steps_per_second': 3.312, 'epoch': 1.7}\n",
      "{'loss': 1.1031, 'learning_rate': 0.05042492917847026, 'epoch': 1.98}\n",
      "======================================\n",
      "ACCURACY:- 0.35724137931034483\n",
      "F1:- 0.18805999439304738\n",
      "PRECISION:- 0.12762140309155767\n",
      "RECALL:- 0.35724137931034483\n",
      "{'eval_loss': 1.106177568435669, 'eval_accuracy': 0.35724137931034483, 'eval_f1': 0.18805999439304738, 'eval_precision': 0.12762140309155767, 'eval_recall': 0.35724137931034483, 'eval_runtime': 13.8637, 'eval_samples_per_second': 52.295, 'eval_steps_per_second': 3.318, 'epoch': 1.98}\n",
      "{'loss': 1.0956, 'learning_rate': 0.04334277620396601, 'epoch': 2.27}\n",
      "======================================\n",
      "ACCURACY:- 0.35724137931034483\n",
      "F1:- 0.18805999439304738\n",
      "PRECISION:- 0.12762140309155767\n",
      "RECALL:- 0.35724137931034483\n",
      "{'eval_loss': 1.1005483865737915, 'eval_accuracy': 0.35724137931034483, 'eval_f1': 0.18805999439304738, 'eval_precision': 0.12762140309155767, 'eval_recall': 0.35724137931034483, 'eval_runtime': 13.8882, 'eval_samples_per_second': 52.203, 'eval_steps_per_second': 3.312, 'epoch': 2.27}\n",
      "{'loss': 1.1022, 'learning_rate': 0.03626062322946176, 'epoch': 2.55}\n",
      "======================================\n",
      "ACCURACY:- 0.35724137931034483\n",
      "F1:- 0.18805999439304738\n",
      "PRECISION:- 0.12762140309155767\n",
      "RECALL:- 0.35724137931034483\n",
      "{'eval_loss': 1.1039029359817505, 'eval_accuracy': 0.35724137931034483, 'eval_f1': 0.18805999439304738, 'eval_precision': 0.12762140309155767, 'eval_recall': 0.35724137931034483, 'eval_runtime': 13.8073, 'eval_samples_per_second': 52.508, 'eval_steps_per_second': 3.332, 'epoch': 2.55}\n",
      "{'loss': 1.098, 'learning_rate': 0.029178470254957508, 'epoch': 2.83}\n",
      "======================================\n",
      "ACCURACY:- 0.35724137931034483\n",
      "F1:- 0.18805999439304738\n",
      "PRECISION:- 0.12762140309155767\n",
      "RECALL:- 0.35724137931034483\n",
      "{'eval_loss': 1.1003392934799194, 'eval_accuracy': 0.35724137931034483, 'eval_f1': 0.18805999439304738, 'eval_precision': 0.12762140309155767, 'eval_recall': 0.35724137931034483, 'eval_runtime': 13.9001, 'eval_samples_per_second': 52.158, 'eval_steps_per_second': 3.309, 'epoch': 2.83}\n",
      "{'loss': 1.0997, 'learning_rate': 0.02209631728045326, 'epoch': 3.12}\n",
      "======================================\n",
      "ACCURACY:- 0.3213793103448276\n",
      "F1:- 0.15632855805917503\n",
      "PRECISION:- 0.103284661117717\n",
      "RECALL:- 0.3213793103448276\n",
      "{'eval_loss': 1.0987565517425537, 'eval_accuracy': 0.3213793103448276, 'eval_f1': 0.15632855805917503, 'eval_precision': 0.103284661117717, 'eval_recall': 0.3213793103448276, 'eval_runtime': 13.8683, 'eval_samples_per_second': 52.277, 'eval_steps_per_second': 3.317, 'epoch': 3.12}\n",
      "{'loss': 1.0989, 'learning_rate': 0.015014164305949011, 'epoch': 3.4}\n",
      "======================================\n",
      "ACCURACY:- 0.35724137931034483\n",
      "F1:- 0.18805999439304738\n",
      "PRECISION:- 0.12762140309155767\n",
      "RECALL:- 0.35724137931034483\n",
      "{'eval_loss': 1.0979162454605103, 'eval_accuracy': 0.35724137931034483, 'eval_f1': 0.18805999439304738, 'eval_precision': 0.12762140309155767, 'eval_recall': 0.35724137931034483, 'eval_runtime': 13.9217, 'eval_samples_per_second': 52.077, 'eval_steps_per_second': 3.304, 'epoch': 3.4}\n",
      "{'loss': 1.093, 'learning_rate': 0.00793201133144476, 'epoch': 3.68}\n"
     ]
    }
   ],
   "source": [
    "from tqdm.notebook import tqdm\n",
    "if not LOAD_SAVED_MODEL:\n",
    "    trainer.train()\n",
    "    trainer.save_model(\"models/binary/electra_classifier\")\n",
    "    predictions = trainer.predict(tokenized_dataset[\"test\"])\n",
    "    print(predictions.metrics)"
   ]
  },
  {
   "cell_type": "code",
   "execution_count": null,
   "metadata": {},
   "outputs": [],
   "source": []
  },
  {
   "cell_type": "code",
   "execution_count": null,
   "metadata": {},
   "outputs": [],
   "source": []
  }
 ],
 "metadata": {
  "kernelspec": {
   "display_name": "logicalfallacies",
   "language": "python",
   "name": "python3"
  },
  "language_info": {
   "codemirror_mode": {
    "name": "ipython",
    "version": 3
   },
   "file_extension": ".py",
   "mimetype": "text/x-python",
   "name": "python",
   "nbconvert_exporter": "python",
   "pygments_lexer": "ipython3",
   "version": "3.8.10"
  }
 },
 "nbformat": 4,
 "nbformat_minor": 2
}
