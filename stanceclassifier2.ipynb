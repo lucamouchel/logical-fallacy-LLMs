{
 "cells": [
  {
   "cell_type": "code",
   "execution_count": 8,
   "metadata": {},
   "outputs": [],
   "source": [
    "from simpletransformers.classification import ClassificationModel\n",
    "import pandas as pd\n",
    "from sklearn.metrics import classification_report\n",
    "import logging\n",
    "import csv\n",
    "import os\n",
    "import numpy as np\n",
    "from transformers import  utils, Trainer, TrainingArguments, ElectraTokenizer, ElectraForSequenceClassification\n"
   ]
  },
  {
   "cell_type": "code",
   "execution_count": 3,
   "metadata": {},
   "outputs": [],
   "source": [
    "logging.basicConfig(level=logging.INFO)\n",
    "transformers_logger = logging.getLogger(\"transformers\")\n",
    "transformers_logger.setLevel(logging.WARNING)\n"
   ]
  },
  {
   "cell_type": "code",
   "execution_count": 14,
   "metadata": {},
   "outputs": [
    {
     "data": {
      "text/plain": [
       "226    -1\n",
       "1947    0\n",
       "217     1\n",
       "239    -1\n",
       "433     1\n",
       "       ..\n",
       "163     1\n",
       "95     -1\n",
       "439     1\n",
       "355     1\n",
       "2013    0\n",
       "Name: labels, Length: 725, dtype: int64"
      ]
     },
     "execution_count": 14,
     "metadata": {},
     "output_type": "execute_result"
    }
   ],
   "source": [
    "LOAD_SAVED_MODEL = False\n",
    "AUGMENT_WITH_NEUTRAL = True\n",
    "saved_model_path = \"models/binary/electra_classifier\"\n",
    "model_name = \"howey/electra-base-mnli\"\n",
    "data_dir = \"data/argumentation\"\n",
    "\n",
    "train_df = pd.read_csv(os.path.join(data_dir, 'train_iam.tsv'), sep='\\t')\n",
    "dev_df = pd.read_csv(os.path.join(data_dir, 'dev_iam.txt'), sep='\\t')\n",
    "test_df = pd.read_csv(os.path.join(data_dir, 'test_iam.txt'), sep='\\t')\n",
    "all_claims = pd.read_csv(os.path.join(data_dir, 'claims.txt'), sep='\\t')\n",
    "np.random.seed(42)\n",
    "\n",
    "if AUGMENT_WITH_NEUTRAL:\n",
    "    neutral_claims = all_claims[all_claims.type=='O'] \n",
    "    lower_bound = 0\n",
    "    \n",
    "    min_train_label = min(train_df['label'].value_counts())\n",
    "    train_sample = neutral_claims.iloc[:min_train_label]\n",
    "    train_df = pd.concat([train_df, train_sample]).sample(frac=1)\n",
    "    lower_bound = min_train_label\n",
    "    \n",
    "    min_dev_label = min(dev_df['label'].value_counts())\n",
    "    dev_sample = neutral_claims.iloc[lower_bound: lower_bound + min_dev_label]    \n",
    "    dev_df = pd.concat([dev_df, dev_sample]).sample(frac=1)\n",
    "    lower_bound = lower_bound + min_dev_label\n",
    "    \n",
    "    min_test_label = min(test_df['label'].value_counts())\n",
    "    test_sample = neutral_claims.iloc[lower_bound: lower_bound + min_test_label]    \n",
    "    test_df = pd.concat([test_df, test_sample]).sample(frac=1)\n",
    "    \n",
    "    \n",
    "train_df.columns = ['claim_label', 'text_a', 'text_b', 'id', 'labels']\n",
    "train_df = train_df[['text_a', 'text_b', 'labels']]\n",
    "\n",
    "dev_df.columns = ['claim_label', 'text_a', 'text_b', 'id', 'labels']\n",
    "dev_df = dev_df[['text_a', 'text_b', 'labels']]\n",
    "\n",
    "test_df.columns = ['claim_label', 'text_a', 'text_b', 'id', 'labels']\n",
    "test_df = dev_df[['text_a', 'text_b', 'labels']]\n",
    "\n",
    "test_df['labels'].value_counts()"
   ]
  },
  {
   "cell_type": "code",
   "execution_count": 15,
   "metadata": {},
   "outputs": [
    {
     "name": "stderr",
     "output_type": "stream",
     "text": [
      "Some weights of BertForSequenceClassification were not initialized from the model checkpoint at bert-base-cased and are newly initialized: ['classifier.bias', 'classifier.weight']\n",
      "You should probably TRAIN this model on a down-stream task to be able to use it for predictions and inference.\n",
      "INFO:simpletransformers.classification.classification_utils: Converting to features started. Cache is not used.\n",
      "INFO:simpletransformers.classification.classification_utils: Saving features into cached file cache_dir/cached_train_bert_128_3_3\n"
     ]
    },
    {
     "data": {
      "application/vnd.jupyter.widget-view+json": {
       "model_id": "d453a096289643ff9c6c917f2b652bb2",
       "version_major": 2,
       "version_minor": 0
      },
      "text/plain": [
       "Epoch:   0%|          | 0/10 [00:00<?, ?it/s]"
      ]
     },
     "metadata": {},
     "output_type": "display_data"
    },
    {
     "data": {
      "application/vnd.jupyter.widget-view+json": {
       "model_id": "1d8dfc671acc4ee5a5012451b2535c66",
       "version_major": 2,
       "version_minor": 0
      },
      "text/plain": [
       "Running Epoch 0 of 10:   0%|          | 0/353 [00:00<?, ?it/s]"
      ]
     },
     "metadata": {},
     "output_type": "display_data"
    },
    {
     "name": "stderr",
     "output_type": "stream",
     "text": [
      "INFO:simpletransformers.classification.classification_utils: Converting to features started. Cache is not used.\n",
      "INFO:simpletransformers.classification.classification_utils: Saving features into cached file cache_dir/cached_dev_bert_128_3_3\n",
      "INFO:simpletransformers.classification.classification_model:{'mcc': 0.3098273119471111, 'clf_report': {'0.0': {'precision': 0.5252808988764045, 'recall': 0.722007722007722, 'f1-score': 0.608130081300813, 'support': 259.0}, '1.0': {'precision': 0.87, 'recall': 0.37339055793991416, 'f1-score': 0.5225225225225225, 'support': 233.0}, '2.0': {'precision': 0.42379182156133827, 'recall': 0.4892703862660944, 'f1-score': 0.4541832669322709, 'support': 233.0}, 'accuracy': 0.5351724137931034, 'macro avg': {'precision': 0.6063575734792476, 'recall': 0.5282228887379102, 'f1-score': 0.5282786235852022, 'support': 725.0}, 'weighted avg': {'precision': 0.6034499961831458, 'recall': 0.5351724137931034, 'f1-score': 0.5311422620687966, 'support': 725.0}}, 'eval_loss': 1.1546853204349896}\n"
     ]
    },
    {
     "data": {
      "application/vnd.jupyter.widget-view+json": {
       "model_id": "3387a3328f2d45edb738d14ac97b6d22",
       "version_major": 2,
       "version_minor": 0
      },
      "text/plain": [
       "Running Epoch 1 of 10:   0%|          | 0/353 [00:00<?, ?it/s]"
      ]
     },
     "metadata": {},
     "output_type": "display_data"
    },
    {
     "name": "stderr",
     "output_type": "stream",
     "text": [
      "INFO:simpletransformers.classification.classification_utils: Converting to features started. Cache is not used.\n",
      "INFO:simpletransformers.classification.classification_utils: Saving features into cached file cache_dir/cached_dev_bert_128_3_3\n",
      "INFO:simpletransformers.classification.classification_model:{'mcc': 0.42219189999587475, 'clf_report': {'0.0': {'precision': 0.5805471124620061, 'recall': 0.7374517374517374, 'f1-score': 0.6496598639455782, 'support': 259.0}, '1.0': {'precision': 0.7167630057803468, 'recall': 0.5321888412017167, 'f1-score': 0.6108374384236452, 'support': 233.0}, '2.0': {'precision': 0.5829596412556054, 'recall': 0.5579399141630901, 'f1-score': 0.5701754385964912, 'support': 233.0}, 'accuracy': 0.6137931034482759, 'macro avg': {'precision': 0.6267565864993193, 'recall': 0.6091934976055148, 'f1-score': 0.6102242469885716, 'support': 725.0}, 'weighted avg': {'precision': 0.625099419154533, 'recall': 0.6137931034482759, 'f1-score': 0.6116384898035815, 'support': 725.0}}, 'eval_loss': 1.1674227242941384}\n"
     ]
    },
    {
     "data": {
      "application/vnd.jupyter.widget-view+json": {
       "model_id": "541b832a1d784b6cad76df442dd57138",
       "version_major": 2,
       "version_minor": 0
      },
      "text/plain": [
       "Running Epoch 2 of 10:   0%|          | 0/353 [00:00<?, ?it/s]"
      ]
     },
     "metadata": {},
     "output_type": "display_data"
    },
    {
     "name": "stderr",
     "output_type": "stream",
     "text": [
      "INFO:simpletransformers.classification.classification_utils: Converting to features started. Cache is not used.\n",
      "INFO:simpletransformers.classification.classification_utils: Saving features into cached file cache_dir/cached_dev_bert_128_3_3\n",
      "INFO:simpletransformers.classification.classification_model:{'mcc': 0.4875585841617746, 'clf_report': {'0.0': {'precision': 0.591715976331361, 'recall': 0.7722007722007722, 'f1-score': 0.6700167504187604, 'support': 259.0}, '1.0': {'precision': 0.8014184397163121, 'recall': 0.48497854077253216, 'f1-score': 0.6042780748663101, 'support': 233.0}, '2.0': {'precision': 0.6544715447154471, 'recall': 0.6909871244635193, 'f1-score': 0.6722338204592903, 'support': 233.0}, 'accuracy': 0.6537931034482759, 'macro avg': {'precision': 0.6825353202543734, 'recall': 0.6493888124789412, 'f1-score': 0.648842881914787, 'support': 725.0}, 'weighted avg': {'precision': 0.6792783506792033, 'recall': 0.6537931034482759, 'f1-score': 0.6496022206473432, 'support': 725.0}}, 'eval_loss': 1.2823674292354794}\n"
     ]
    },
    {
     "data": {
      "application/vnd.jupyter.widget-view+json": {
       "model_id": "e093f09e5a8c4d08b190e9eb2a63b507",
       "version_major": 2,
       "version_minor": 0
      },
      "text/plain": [
       "Running Epoch 3 of 10:   0%|          | 0/353 [00:00<?, ?it/s]"
      ]
     },
     "metadata": {},
     "output_type": "display_data"
    },
    {
     "name": "stderr",
     "output_type": "stream",
     "text": [
      "INFO:simpletransformers.classification.classification_utils: Converting to features started. Cache is not used.\n",
      "INFO:simpletransformers.classification.classification_utils: Saving features into cached file cache_dir/cached_dev_bert_128_3_3\n",
      "INFO:simpletransformers.classification.classification_model:{'mcc': 0.4987124090289529, 'clf_report': {'0.0': {'precision': 0.6875, 'recall': 0.806949806949807, 'f1-score': 0.7424511545293073, 'support': 259.0}, '1.0': {'precision': 0.8787878787878788, 'recall': 0.37339055793991416, 'f1-score': 0.5240963855421688, 'support': 233.0}, '2.0': {'precision': 0.5527950310559007, 'recall': 0.7639484978540773, 'f1-score': 0.6414414414414416, 'support': 233.0}, 'accuracy': 0.6537931034482759, 'macro avg': {'precision': 0.7063609699479265, 'recall': 0.6480962875812661, 'f1-score': 0.6359963271709725, 'support': 725.0}, 'weighted avg': {'precision': 0.7056845765428974, 'recall': 0.6537931034482759, 'f1-score': 0.6398140175314094, 'support': 725.0}}, 'eval_loss': 1.8515023621884021}\n"
     ]
    },
    {
     "data": {
      "application/vnd.jupyter.widget-view+json": {
       "model_id": "0cb15c6a0d5147a7a3c79138b45a820a",
       "version_major": 2,
       "version_minor": 0
      },
      "text/plain": [
       "Running Epoch 4 of 10:   0%|          | 0/353 [00:00<?, ?it/s]"
      ]
     },
     "metadata": {},
     "output_type": "display_data"
    },
    {
     "name": "stderr",
     "output_type": "stream",
     "text": [
      "INFO:simpletransformers.classification.classification_utils: Converting to features started. Cache is not used.\n",
      "INFO:simpletransformers.classification.classification_utils: Saving features into cached file cache_dir/cached_dev_bert_128_3_3\n",
      "INFO:simpletransformers.classification.classification_model:{'mcc': 0.49085421677469643, 'clf_report': {'0.0': {'precision': 0.6011080332409973, 'recall': 0.8378378378378378, 'f1-score': 0.7, 'support': 259.0}, '1.0': {'precision': 0.875, 'recall': 0.45064377682403434, 'f1-score': 0.5949008498583569, 'support': 233.0}, '2.0': {'precision': 0.6188524590163934, 'recall': 0.648068669527897, 'f1-score': 0.6331236897274634, 'support': 233.0}, 'accuracy': 0.6524137931034483, 'macro avg': {'precision': 0.6983201640857969, 'recall': 0.6455167613965896, 'f1-score': 0.6426748465286067, 'support': 725.0}, 'weighted avg': {'precision': 0.6948339359451559, 'recall': 0.6524137931034483, 'f1-score': 0.6447306451358567, 'support': 725.0}}, 'eval_loss': 2.2263998982015547}\n"
     ]
    },
    {
     "data": {
      "application/vnd.jupyter.widget-view+json": {
       "model_id": "cf5a06ac88e14f358ad30938fd9e413f",
       "version_major": 2,
       "version_minor": 0
      },
      "text/plain": [
       "Running Epoch 5 of 10:   0%|          | 0/353 [00:00<?, ?it/s]"
      ]
     },
     "metadata": {},
     "output_type": "display_data"
    },
    {
     "name": "stderr",
     "output_type": "stream",
     "text": [
      "INFO:simpletransformers.classification.classification_utils: Converting to features started. Cache is not used.\n",
      "INFO:simpletransformers.classification.classification_utils: Saving features into cached file cache_dir/cached_dev_bert_128_3_3\n",
      "INFO:simpletransformers.classification.classification_model:{'mcc': 0.5182434694531054, 'clf_report': {'0.0': {'precision': 0.688135593220339, 'recall': 0.7837837837837838, 'f1-score': 0.7328519855595668, 'support': 259.0}, '1.0': {'precision': 0.8372093023255814, 'recall': 0.463519313304721, 'f1-score': 0.5966850828729282, 'support': 233.0}, '2.0': {'precision': 0.584717607973422, 'recall': 0.7553648068669528, 'f1-score': 0.659176029962547, 'support': 233.0}, 'accuracy': 0.6717241379310345, 'macro avg': {'precision': 0.7033541678397809, 'recall': 0.6675559679851526, 'f1-score': 0.6629043661316807, 'support': 725.0}, 'weighted avg': {'precision': 0.7028083982672215, 'recall': 0.6717241379310345, 'f1-score': 0.6654128324835773, 'support': 725.0}}, 'eval_loss': 2.2873151441524318}\n"
     ]
    },
    {
     "data": {
      "application/vnd.jupyter.widget-view+json": {
       "model_id": "3d066e51f1e84703a9487968c0538f4b",
       "version_major": 2,
       "version_minor": 0
      },
      "text/plain": [
       "Running Epoch 6 of 10:   0%|          | 0/353 [00:00<?, ?it/s]"
      ]
     },
     "metadata": {},
     "output_type": "display_data"
    },
    {
     "name": "stderr",
     "output_type": "stream",
     "text": [
      "INFO:simpletransformers.classification.classification_utils: Converting to features started. Cache is not used.\n",
      "INFO:simpletransformers.classification.classification_utils: Saving features into cached file cache_dir/cached_dev_bert_128_3_3\n",
      "INFO:simpletransformers.classification.classification_model:{'mcc': 0.4776364370939345, 'clf_report': {'0.0': {'precision': 0.6111111111111112, 'recall': 0.8494208494208494, 'f1-score': 0.7108239095315023, 'support': 259.0}, '1.0': {'precision': 0.8636363636363636, 'recall': 0.40772532188841204, 'f1-score': 0.553935860058309, 'support': 233.0}, '2.0': {'precision': 0.592156862745098, 'recall': 0.648068669527897, 'f1-score': 0.6188524590163934, 'support': 233.0}, 'accuracy': 0.6427586206896552, 'macro avg': {'precision': 0.6889681124975243, 'recall': 0.6350716136123862, 'f1-score': 0.6278707428687348, 'support': 725.0}, 'weighted avg': {'precision': 0.6861759993443564, 'recall': 0.6427586206896552, 'f1-score': 0.6308456150525031, 'support': 725.0}}, 'eval_loss': 2.6770877723510447}\n"
     ]
    },
    {
     "data": {
      "application/vnd.jupyter.widget-view+json": {
       "model_id": "de0cfb74567c4a84a7757e7f998a8da7",
       "version_major": 2,
       "version_minor": 0
      },
      "text/plain": [
       "Running Epoch 7 of 10:   0%|          | 0/353 [00:00<?, ?it/s]"
      ]
     },
     "metadata": {},
     "output_type": "display_data"
    },
    {
     "name": "stderr",
     "output_type": "stream",
     "text": [
      "INFO:simpletransformers.classification.classification_utils: Converting to features started. Cache is not used.\n",
      "INFO:simpletransformers.classification.classification_utils: Saving features into cached file cache_dir/cached_dev_bert_128_3_3\n",
      "INFO:simpletransformers.classification.classification_model:{'mcc': 0.5021316554570409, 'clf_report': {'0.0': {'precision': 0.6304985337243402, 'recall': 0.8301158301158301, 'f1-score': 0.7166666666666667, 'support': 259.0}, '1.0': {'precision': 0.8677685950413223, 'recall': 0.45064377682403434, 'f1-score': 0.5932203389830508, 'support': 233.0}, '2.0': {'precision': 0.6045627376425855, 'recall': 0.6824034334763949, 'f1-score': 0.6411290322580645, 'support': 233.0}, 'accuracy': 0.6606896551724138, 'macro avg': {'precision': 0.7009432888027494, 'recall': 0.654387680138753, 'f1-score': 0.6503386793025939, 'support': 725.0}, 'weighted avg': {'precision': 0.6984169941378685, 'recall': 0.6606896551724138, 'f1-score': 0.6527173381597884, 'support': 725.0}}, 'eval_loss': 2.554198077583051}\n"
     ]
    },
    {
     "data": {
      "application/vnd.jupyter.widget-view+json": {
       "model_id": "3b2733c96db846edbb31d13cb014d07a",
       "version_major": 2,
       "version_minor": 0
      },
      "text/plain": [
       "Running Epoch 8 of 10:   0%|          | 0/353 [00:00<?, ?it/s]"
      ]
     },
     "metadata": {},
     "output_type": "display_data"
    },
    {
     "name": "stderr",
     "output_type": "stream",
     "text": [
      "INFO:simpletransformers.classification.classification_utils: Converting to features started. Cache is not used.\n",
      "INFO:simpletransformers.classification.classification_utils: Saving features into cached file cache_dir/cached_dev_bert_128_3_3\n",
      "INFO:simpletransformers.classification.classification_model:{'mcc': 0.49789721475017157, 'clf_report': {'0.0': {'precision': 0.6426426426426426, 'recall': 0.8262548262548263, 'f1-score': 0.7229729729729729, 'support': 259.0}, '1.0': {'precision': 0.8738738738738738, 'recall': 0.41630901287553645, 'f1-score': 0.5639534883720929, 'support': 233.0}, '2.0': {'precision': 0.5871886120996441, 'recall': 0.7081545064377682, 'f1-score': 0.642023346303502, 'support': 233.0}, 'accuracy': 0.6565517241379311, 'macro avg': {'precision': 0.7012350428720535, 'recall': 0.6502394485227102, 'f1-score': 0.6429832692161893, 'support': 725.0}, 'weighted avg': {'precision': 0.6991337981741711, 'recall': 0.6565517241379311, 'f1-score': 0.6458518654888463, 'support': 725.0}}, 'eval_loss': 2.7575792486851034}\n"
     ]
    },
    {
     "data": {
      "application/vnd.jupyter.widget-view+json": {
       "model_id": "062527845dcf4519b83a735da54f4937",
       "version_major": 2,
       "version_minor": 0
      },
      "text/plain": [
       "Running Epoch 9 of 10:   0%|          | 0/353 [00:00<?, ?it/s]"
      ]
     },
     "metadata": {},
     "output_type": "display_data"
    },
    {
     "name": "stderr",
     "output_type": "stream",
     "text": [
      "INFO:simpletransformers.classification.classification_utils: Converting to features started. Cache is not used.\n",
      "INFO:simpletransformers.classification.classification_utils: Saving features into cached file cache_dir/cached_dev_bert_128_3_3\n",
      "INFO:simpletransformers.classification.classification_model:{'mcc': 0.4869243614691068, 'clf_report': {'0.0': {'precision': 0.6184971098265896, 'recall': 0.8262548262548263, 'f1-score': 0.7074380165289257, 'support': 259.0}, '1.0': {'precision': 0.8761061946902655, 'recall': 0.4248927038626609, 'f1-score': 0.5722543352601156, 'support': 233.0}, '2.0': {'precision': 0.5939849624060151, 'recall': 0.6781115879828327, 'f1-score': 0.6332665330661323, 'support': 233.0}, 'accuracy': 0.6496551724137931, 'macro avg': {'precision': 0.6961960889742901, 'recall': 0.6430863727001066, 'f1-score': 0.6376529616183912, 'support': 725.0}, 'weighted avg': {'precision': 0.693409642825545, 'recall': 0.6496551724137931, 'f1-score': 0.6401555980703552, 'support': 725.0}}, 'eval_loss': 2.7530164230655836}\n",
      "INFO:simpletransformers.classification.classification_model: Training of bert model complete. Saved to outputs/.\n"
     ]
    },
    {
     "data": {
      "text/plain": [
       "(3530,\n",
       " defaultdict(list,\n",
       "             {'global_step': [353,\n",
       "               706,\n",
       "               1059,\n",
       "               1412,\n",
       "               1765,\n",
       "               2118,\n",
       "               2471,\n",
       "               2824,\n",
       "               3177,\n",
       "               3530],\n",
       "              'train_loss': [0.5000143051147461,\n",
       "               0.4420318603515625,\n",
       "               0.501922070980072,\n",
       "               0.056644558906555176,\n",
       "               0.0009263952379114926,\n",
       "               0.0024284522514790297,\n",
       "               0.00035910806036554277,\n",
       "               0.0001368423254461959,\n",
       "               0.00012917320418637246,\n",
       "               0.00024039547133725137],\n",
       "              'mcc': [0.3098273119471111,\n",
       "               0.42219189999587475,\n",
       "               0.4875585841617746,\n",
       "               0.4987124090289529,\n",
       "               0.49085421677469643,\n",
       "               0.5182434694531054,\n",
       "               0.4776364370939345,\n",
       "               0.5021316554570409,\n",
       "               0.49789721475017157,\n",
       "               0.4869243614691068],\n",
       "              'clf_report': [{'0.0': {'precision': 0.5252808988764045,\n",
       "                 'recall': 0.722007722007722,\n",
       "                 'f1-score': 0.608130081300813,\n",
       "                 'support': 259.0},\n",
       "                '1.0': {'precision': 0.87,\n",
       "                 'recall': 0.37339055793991416,\n",
       "                 'f1-score': 0.5225225225225225,\n",
       "                 'support': 233.0},\n",
       "                '2.0': {'precision': 0.42379182156133827,\n",
       "                 'recall': 0.4892703862660944,\n",
       "                 'f1-score': 0.4541832669322709,\n",
       "                 'support': 233.0},\n",
       "                'accuracy': 0.5351724137931034,\n",
       "                'macro avg': {'precision': 0.6063575734792476,\n",
       "                 'recall': 0.5282228887379102,\n",
       "                 'f1-score': 0.5282786235852022,\n",
       "                 'support': 725.0},\n",
       "                'weighted avg': {'precision': 0.6034499961831458,\n",
       "                 'recall': 0.5351724137931034,\n",
       "                 'f1-score': 0.5311422620687966,\n",
       "                 'support': 725.0}},\n",
       "               {'0.0': {'precision': 0.5805471124620061,\n",
       "                 'recall': 0.7374517374517374,\n",
       "                 'f1-score': 0.6496598639455782,\n",
       "                 'support': 259.0},\n",
       "                '1.0': {'precision': 0.7167630057803468,\n",
       "                 'recall': 0.5321888412017167,\n",
       "                 'f1-score': 0.6108374384236452,\n",
       "                 'support': 233.0},\n",
       "                '2.0': {'precision': 0.5829596412556054,\n",
       "                 'recall': 0.5579399141630901,\n",
       "                 'f1-score': 0.5701754385964912,\n",
       "                 'support': 233.0},\n",
       "                'accuracy': 0.6137931034482759,\n",
       "                'macro avg': {'precision': 0.6267565864993193,\n",
       "                 'recall': 0.6091934976055148,\n",
       "                 'f1-score': 0.6102242469885716,\n",
       "                 'support': 725.0},\n",
       "                'weighted avg': {'precision': 0.625099419154533,\n",
       "                 'recall': 0.6137931034482759,\n",
       "                 'f1-score': 0.6116384898035815,\n",
       "                 'support': 725.0}},\n",
       "               {'0.0': {'precision': 0.591715976331361,\n",
       "                 'recall': 0.7722007722007722,\n",
       "                 'f1-score': 0.6700167504187604,\n",
       "                 'support': 259.0},\n",
       "                '1.0': {'precision': 0.8014184397163121,\n",
       "                 'recall': 0.48497854077253216,\n",
       "                 'f1-score': 0.6042780748663101,\n",
       "                 'support': 233.0},\n",
       "                '2.0': {'precision': 0.6544715447154471,\n",
       "                 'recall': 0.6909871244635193,\n",
       "                 'f1-score': 0.6722338204592903,\n",
       "                 'support': 233.0},\n",
       "                'accuracy': 0.6537931034482759,\n",
       "                'macro avg': {'precision': 0.6825353202543734,\n",
       "                 'recall': 0.6493888124789412,\n",
       "                 'f1-score': 0.648842881914787,\n",
       "                 'support': 725.0},\n",
       "                'weighted avg': {'precision': 0.6792783506792033,\n",
       "                 'recall': 0.6537931034482759,\n",
       "                 'f1-score': 0.6496022206473432,\n",
       "                 'support': 725.0}},\n",
       "               {'0.0': {'precision': 0.6875,\n",
       "                 'recall': 0.806949806949807,\n",
       "                 'f1-score': 0.7424511545293073,\n",
       "                 'support': 259.0},\n",
       "                '1.0': {'precision': 0.8787878787878788,\n",
       "                 'recall': 0.37339055793991416,\n",
       "                 'f1-score': 0.5240963855421688,\n",
       "                 'support': 233.0},\n",
       "                '2.0': {'precision': 0.5527950310559007,\n",
       "                 'recall': 0.7639484978540773,\n",
       "                 'f1-score': 0.6414414414414416,\n",
       "                 'support': 233.0},\n",
       "                'accuracy': 0.6537931034482759,\n",
       "                'macro avg': {'precision': 0.7063609699479265,\n",
       "                 'recall': 0.6480962875812661,\n",
       "                 'f1-score': 0.6359963271709725,\n",
       "                 'support': 725.0},\n",
       "                'weighted avg': {'precision': 0.7056845765428974,\n",
       "                 'recall': 0.6537931034482759,\n",
       "                 'f1-score': 0.6398140175314094,\n",
       "                 'support': 725.0}},\n",
       "               {'0.0': {'precision': 0.6011080332409973,\n",
       "                 'recall': 0.8378378378378378,\n",
       "                 'f1-score': 0.7,\n",
       "                 'support': 259.0},\n",
       "                '1.0': {'precision': 0.875,\n",
       "                 'recall': 0.45064377682403434,\n",
       "                 'f1-score': 0.5949008498583569,\n",
       "                 'support': 233.0},\n",
       "                '2.0': {'precision': 0.6188524590163934,\n",
       "                 'recall': 0.648068669527897,\n",
       "                 'f1-score': 0.6331236897274634,\n",
       "                 'support': 233.0},\n",
       "                'accuracy': 0.6524137931034483,\n",
       "                'macro avg': {'precision': 0.6983201640857969,\n",
       "                 'recall': 0.6455167613965896,\n",
       "                 'f1-score': 0.6426748465286067,\n",
       "                 'support': 725.0},\n",
       "                'weighted avg': {'precision': 0.6948339359451559,\n",
       "                 'recall': 0.6524137931034483,\n",
       "                 'f1-score': 0.6447306451358567,\n",
       "                 'support': 725.0}},\n",
       "               {'0.0': {'precision': 0.688135593220339,\n",
       "                 'recall': 0.7837837837837838,\n",
       "                 'f1-score': 0.7328519855595668,\n",
       "                 'support': 259.0},\n",
       "                '1.0': {'precision': 0.8372093023255814,\n",
       "                 'recall': 0.463519313304721,\n",
       "                 'f1-score': 0.5966850828729282,\n",
       "                 'support': 233.0},\n",
       "                '2.0': {'precision': 0.584717607973422,\n",
       "                 'recall': 0.7553648068669528,\n",
       "                 'f1-score': 0.659176029962547,\n",
       "                 'support': 233.0},\n",
       "                'accuracy': 0.6717241379310345,\n",
       "                'macro avg': {'precision': 0.7033541678397809,\n",
       "                 'recall': 0.6675559679851526,\n",
       "                 'f1-score': 0.6629043661316807,\n",
       "                 'support': 725.0},\n",
       "                'weighted avg': {'precision': 0.7028083982672215,\n",
       "                 'recall': 0.6717241379310345,\n",
       "                 'f1-score': 0.6654128324835773,\n",
       "                 'support': 725.0}},\n",
       "               {'0.0': {'precision': 0.6111111111111112,\n",
       "                 'recall': 0.8494208494208494,\n",
       "                 'f1-score': 0.7108239095315023,\n",
       "                 'support': 259.0},\n",
       "                '1.0': {'precision': 0.8636363636363636,\n",
       "                 'recall': 0.40772532188841204,\n",
       "                 'f1-score': 0.553935860058309,\n",
       "                 'support': 233.0},\n",
       "                '2.0': {'precision': 0.592156862745098,\n",
       "                 'recall': 0.648068669527897,\n",
       "                 'f1-score': 0.6188524590163934,\n",
       "                 'support': 233.0},\n",
       "                'accuracy': 0.6427586206896552,\n",
       "                'macro avg': {'precision': 0.6889681124975243,\n",
       "                 'recall': 0.6350716136123862,\n",
       "                 'f1-score': 0.6278707428687348,\n",
       "                 'support': 725.0},\n",
       "                'weighted avg': {'precision': 0.6861759993443564,\n",
       "                 'recall': 0.6427586206896552,\n",
       "                 'f1-score': 0.6308456150525031,\n",
       "                 'support': 725.0}},\n",
       "               {'0.0': {'precision': 0.6304985337243402,\n",
       "                 'recall': 0.8301158301158301,\n",
       "                 'f1-score': 0.7166666666666667,\n",
       "                 'support': 259.0},\n",
       "                '1.0': {'precision': 0.8677685950413223,\n",
       "                 'recall': 0.45064377682403434,\n",
       "                 'f1-score': 0.5932203389830508,\n",
       "                 'support': 233.0},\n",
       "                '2.0': {'precision': 0.6045627376425855,\n",
       "                 'recall': 0.6824034334763949,\n",
       "                 'f1-score': 0.6411290322580645,\n",
       "                 'support': 233.0},\n",
       "                'accuracy': 0.6606896551724138,\n",
       "                'macro avg': {'precision': 0.7009432888027494,\n",
       "                 'recall': 0.654387680138753,\n",
       "                 'f1-score': 0.6503386793025939,\n",
       "                 'support': 725.0},\n",
       "                'weighted avg': {'precision': 0.6984169941378685,\n",
       "                 'recall': 0.6606896551724138,\n",
       "                 'f1-score': 0.6527173381597884,\n",
       "                 'support': 725.0}},\n",
       "               {'0.0': {'precision': 0.6426426426426426,\n",
       "                 'recall': 0.8262548262548263,\n",
       "                 'f1-score': 0.7229729729729729,\n",
       "                 'support': 259.0},\n",
       "                '1.0': {'precision': 0.8738738738738738,\n",
       "                 'recall': 0.41630901287553645,\n",
       "                 'f1-score': 0.5639534883720929,\n",
       "                 'support': 233.0},\n",
       "                '2.0': {'precision': 0.5871886120996441,\n",
       "                 'recall': 0.7081545064377682,\n",
       "                 'f1-score': 0.642023346303502,\n",
       "                 'support': 233.0},\n",
       "                'accuracy': 0.6565517241379311,\n",
       "                'macro avg': {'precision': 0.7012350428720535,\n",
       "                 'recall': 0.6502394485227102,\n",
       "                 'f1-score': 0.6429832692161893,\n",
       "                 'support': 725.0},\n",
       "                'weighted avg': {'precision': 0.6991337981741711,\n",
       "                 'recall': 0.6565517241379311,\n",
       "                 'f1-score': 0.6458518654888463,\n",
       "                 'support': 725.0}},\n",
       "               {'0.0': {'precision': 0.6184971098265896,\n",
       "                 'recall': 0.8262548262548263,\n",
       "                 'f1-score': 0.7074380165289257,\n",
       "                 'support': 259.0},\n",
       "                '1.0': {'precision': 0.8761061946902655,\n",
       "                 'recall': 0.4248927038626609,\n",
       "                 'f1-score': 0.5722543352601156,\n",
       "                 'support': 233.0},\n",
       "                '2.0': {'precision': 0.5939849624060151,\n",
       "                 'recall': 0.6781115879828327,\n",
       "                 'f1-score': 0.6332665330661323,\n",
       "                 'support': 233.0},\n",
       "                'accuracy': 0.6496551724137931,\n",
       "                'macro avg': {'precision': 0.6961960889742901,\n",
       "                 'recall': 0.6430863727001066,\n",
       "                 'f1-score': 0.6376529616183912,\n",
       "                 'support': 725.0},\n",
       "                'weighted avg': {'precision': 0.693409642825545,\n",
       "                 'recall': 0.6496551724137931,\n",
       "                 'f1-score': 0.6401555980703552,\n",
       "                 'support': 725.0}}],\n",
       "              'eval_loss': [1.1546853204349896,\n",
       "               1.1674227242941384,\n",
       "               1.2823674292354794,\n",
       "               1.8515023621884021,\n",
       "               2.2263998982015547,\n",
       "               2.2873151441524318,\n",
       "               2.6770877723510447,\n",
       "               2.554198077583051,\n",
       "               2.7575792486851034,\n",
       "               2.7530164230655836]}))"
      ]
     },
     "execution_count": 15,
     "metadata": {},
     "output_type": "execute_result"
    }
   ],
   "source": [
    "train_args = {\n",
    "    'evaluate_during_training': True,\n",
    "    'evaluate_during_training_verbose': True,\n",
    "    'max_seq_length': 128,\n",
    "    'num_train_epochs': 10,\n",
    "    'train_batch_size': 16,\n",
    "    'labels_list': [1, 0, -1],\n",
    "    'use_multiprocessing': False,\n",
    "    'use_multiprocessing_for_evaluation': False,\n",
    "    'overwrite_output_dir': True,\n",
    "    'evaluate_during_training_steps': 100000\n",
    "}\n",
    "\n",
    "model = ClassificationModel('bert', 'bert-base-cased', num_labels=3, args=train_args, use_cuda=True)\n",
    "\n",
    "# Define metric\n",
    "def clf_report(labels, preds):\n",
    "    return classification_report(labels, preds, output_dict=True, labels = [1, 0, -1] ,target_names=['supporting', 'neutral', 'counter'])\n",
    "\n",
    "\n",
    "model.train_model(train_df, eval_df=dev_df, clf_report=clf_report)"
   ]
  }
 ],
 "metadata": {
  "kernelspec": {
   "display_name": "logicalfallacies",
   "language": "python",
   "name": "python3"
  },
  "language_info": {
   "codemirror_mode": {
    "name": "ipython",
    "version": 3
   },
   "file_extension": ".py",
   "mimetype": "text/x-python",
   "name": "python",
   "nbconvert_exporter": "python",
   "pygments_lexer": "ipython3",
   "version": "3.8.10"
  }
 },
 "nbformat": 4,
 "nbformat_minor": 2
}
