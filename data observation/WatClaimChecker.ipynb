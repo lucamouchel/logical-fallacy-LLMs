{
 "cells": [
  {
   "cell_type": "code",
   "execution_count": 42,
   "metadata": {},
   "outputs": [],
   "source": [
    "import pandas as pd\n",
    "pd.set_option('display.max_colwidth', 500)"
   ]
  },
  {
   "cell_type": "code",
   "execution_count": 43,
   "metadata": {},
   "outputs": [],
   "source": [
    "df = pd.read_json('../data/WatClaimCheck data/train.json')"
   ]
  },
  {
   "cell_type": "code",
   "execution_count": 44,
   "metadata": {},
   "outputs": [
    {
     "data": {
      "text/plain": [
       "26976"
      ]
     },
     "execution_count": 44,
     "metadata": {},
     "output_type": "execute_result"
    }
   ],
   "source": [
    "len(df)"
   ]
  },
  {
   "cell_type": "code",
   "execution_count": 45,
   "metadata": {},
   "outputs": [],
   "source": [
    "df.head()\n",
    "df = df[df.apply(lambda x: 'original_rating' in x['label'] and x['label']['original_rating'] == 'false', axis=1)]"
   ]
  },
  {
   "cell_type": "code",
   "execution_count": 46,
   "metadata": {},
   "outputs": [
    {
     "data": {
      "text/plain": [
       "11267"
      ]
     },
     "execution_count": 46,
     "metadata": {},
     "output_type": "execute_result"
    }
   ],
   "source": [
    "len(df)"
   ]
  },
  {
   "cell_type": "code",
   "execution_count": 47,
   "metadata": {},
   "outputs": [
    {
     "data": {
      "text/html": [
       "<div>\n",
       "<style scoped>\n",
       "    .dataframe tbody tr th:only-of-type {\n",
       "        vertical-align: middle;\n",
       "    }\n",
       "\n",
       "    .dataframe tbody tr th {\n",
       "        vertical-align: top;\n",
       "    }\n",
       "\n",
       "    .dataframe thead th {\n",
       "        text-align: right;\n",
       "    }\n",
       "</style>\n",
       "<table border=\"1\" class=\"dataframe\">\n",
       "  <thead>\n",
       "    <tr style=\"text-align: right;\">\n",
       "      <th></th>\n",
       "      <th>metadata</th>\n",
       "      <th>label</th>\n",
       "    </tr>\n",
       "  </thead>\n",
       "  <tbody>\n",
       "    <tr>\n",
       "      <th>0</th>\n",
       "      <td>{'claimant': 'Faisal Al Qasimi, Carolina Monteiro', 'claim': 'OpIndia claimed Greta Thunberg's real name is Ghazala bhat', 'claim_date': '2016-06-20', 'review_date': '2021-02-06', 'id': 1, 'premise_articles': {'https://web.archive.org/web/20210206135409/https://twitter.com/omar_quraishi/status/1357926247414845441': '1_1.json', 'https://web.archive.org/web/20210206083718/https://twitter.com/runcaralisarun/status/1357714907249086465': '1_2.json', 'https://www.facebook.com/search/photos/?q=opin...</td>\n",
       "      <td>{'reviewer_name': 'Alt News', 'reviewer_site': 'altnews.in', 'review_url': 'https://www.altnews.in/morphed-opindia-screengrab-claims-greta-thunbergs-real-name-is-ghazala-bhat/', 'rating': 0, 'original_rating': 'false', 'id': 1, 'review_article': '1.json'}</td>\n",
       "    </tr>\n",
       "    <tr>\n",
       "      <th>3</th>\n",
       "      <td>{'claimant': None, 'claim': 'A 4-year-old boy was accused of hacking the FBI's databases.', 'claim_date': None, 'review_date': '2016-08-12', 'id': 4, 'premise_articles': {'http://www.snopes.com/2016/07/25/what-we-know-so-far-about-wikileaks-dncleaks/': '4_1.json', 'http://www.snopes.com/stigmata-baby-philippines/': '4_2.json', 'http://www.snopes.com/lottery-winner-dies-gold-plating/': '4_3.json', 'http://www.snopes.com/14-year-old-pregnant-flu-shot/': '4_4.json', 'http://www.snopes.com/slaug...</td>\n",
       "      <td>{'reviewer_name': 'Snopes', 'reviewer_site': 'snopes.com', 'review_url': 'https://www.snopes.com/fact-check/4-year-old-boy-accused-of-hacking-fbi-database/', 'rating': 0, 'original_rating': 'false', 'id': 4, 'review_article': '4.json'}</td>\n",
       "    </tr>\n",
       "    <tr>\n",
       "      <th>5</th>\n",
       "      <td>{'claimant': None, 'claim': 'A video shows Muslims \"marching for Sharia law\" in England.', 'claim_date': None, 'review_date': '2017-11-15', 'id': 6, 'premise_articles': {'http://www.aljazeera.com/indepth/inpictures/2016/10/muslims-worldwide-mark-ashoura-161011162814209.html': '6_1.json', 'http://www.downvids.net/burka-women-bradford-uk-2016-918589.html': '6_2.json', 'https://youtu.be/aF2PC12BW2U?t=45m48s': '6_3.json', 'https://youtu.be/qUvOSK9XCBU?t=1h28m18s': '6_4.json', 'https://www.youtub...</td>\n",
       "      <td>{'reviewer_name': 'Snopes', 'reviewer_site': 'snopes.com', 'review_url': 'https://www.snopes.com/fact-check/video-muslims-sharia-ashoura/', 'rating': 0, 'original_rating': 'false', 'id': 6, 'review_article': '6.json'}</td>\n",
       "    </tr>\n",
       "    <tr>\n",
       "      <th>10</th>\n",
       "      <td>{'claimant': None, 'claim': 'New York State Gov. Andrew Cuomo issued a multi-state \"travel ban\" involving states with \"lax gun laws.\"', 'claim_date': None, 'review_date': '2016-04-12', 'id': 11, 'premise_articles': {'https://t.co/nGicsQul2m': '11_1.json', 'https://t.co/UsvBkvfx2Q': '11_2.json', 'https://twitter.com/NYGovCuomo/status/717476740814123008': '11_3.json', 'https://twitter.com/NYGovCuomo/status/717477261771808768': '11_4.json', 'https://www.governor.ny.gov/news/governor-cuomo-bans-...</td>\n",
       "      <td>{'reviewer_name': 'Snopes', 'reviewer_site': 'snopes.com', 'review_url': 'https://www.snopes.com/fact-check/new-york-state-gun-travel-ban/', 'rating': 0, 'original_rating': 'false', 'id': 11, 'review_article': '11.json'}</td>\n",
       "    </tr>\n",
       "    <tr>\n",
       "      <th>11</th>\n",
       "      <td>{'claimant': None, 'claim': 'Vanilla ice cream was originally a deep, dark black color before white people demanded it be changed in 1912.', 'claim_date': None, 'review_date': '2017-01-18', 'id': 12, 'premise_articles': {'http://www.photohistory-sussex.co.uk/BTNBeachBolla&amp;Biucchi.htm': '12_1.json', 'https://www.kshs.org/p/carry-a-nation-introduction/10588': '12_2.json', 'http://www.gettyimages.com/detail/news-photo/madame-charalambos-simopoulos-wife-the-minister-of-greece-news-photo/51488110...</td>\n",
       "      <td>{'reviewer_name': 'Snopes', 'reviewer_site': 'snopes.com', 'review_url': 'https://www.snopes.com/fact-check/vanilla-ice-cream-black/', 'rating': 0, 'original_rating': 'false', 'id': 12, 'review_article': '12.json'}</td>\n",
       "    </tr>\n",
       "  </tbody>\n",
       "</table>\n",
       "</div>"
      ],
      "text/plain": [
       "                                                                                                                                                                                                                                                                                                                                                                                                                                                                                                               metadata  \\\n",
       "0   {'claimant': 'Faisal Al Qasimi, Carolina Monteiro', 'claim': 'OpIndia claimed Greta Thunberg's real name is Ghazala bhat', 'claim_date': '2016-06-20', 'review_date': '2021-02-06', 'id': 1, 'premise_articles': {'https://web.archive.org/web/20210206135409/https://twitter.com/omar_quraishi/status/1357926247414845441': '1_1.json', 'https://web.archive.org/web/20210206083718/https://twitter.com/runcaralisarun/status/1357714907249086465': '1_2.json', 'https://www.facebook.com/search/photos/?q=opin...   \n",
       "3   {'claimant': None, 'claim': 'A 4-year-old boy was accused of hacking the FBI's databases.', 'claim_date': None, 'review_date': '2016-08-12', 'id': 4, 'premise_articles': {'http://www.snopes.com/2016/07/25/what-we-know-so-far-about-wikileaks-dncleaks/': '4_1.json', 'http://www.snopes.com/stigmata-baby-philippines/': '4_2.json', 'http://www.snopes.com/lottery-winner-dies-gold-plating/': '4_3.json', 'http://www.snopes.com/14-year-old-pregnant-flu-shot/': '4_4.json', 'http://www.snopes.com/slaug...   \n",
       "5   {'claimant': None, 'claim': 'A video shows Muslims \"marching for Sharia law\" in England.', 'claim_date': None, 'review_date': '2017-11-15', 'id': 6, 'premise_articles': {'http://www.aljazeera.com/indepth/inpictures/2016/10/muslims-worldwide-mark-ashoura-161011162814209.html': '6_1.json', 'http://www.downvids.net/burka-women-bradford-uk-2016-918589.html': '6_2.json', 'https://youtu.be/aF2PC12BW2U?t=45m48s': '6_3.json', 'https://youtu.be/qUvOSK9XCBU?t=1h28m18s': '6_4.json', 'https://www.youtub...   \n",
       "10  {'claimant': None, 'claim': 'New York State Gov. Andrew Cuomo issued a multi-state \"travel ban\" involving states with \"lax gun laws.\"', 'claim_date': None, 'review_date': '2016-04-12', 'id': 11, 'premise_articles': {'https://t.co/nGicsQul2m': '11_1.json', 'https://t.co/UsvBkvfx2Q': '11_2.json', 'https://twitter.com/NYGovCuomo/status/717476740814123008': '11_3.json', 'https://twitter.com/NYGovCuomo/status/717477261771808768': '11_4.json', 'https://www.governor.ny.gov/news/governor-cuomo-bans-...   \n",
       "11  {'claimant': None, 'claim': 'Vanilla ice cream was originally a deep, dark black color before white people demanded it be changed in 1912.', 'claim_date': None, 'review_date': '2017-01-18', 'id': 12, 'premise_articles': {'http://www.photohistory-sussex.co.uk/BTNBeachBolla&Biucchi.htm': '12_1.json', 'https://www.kshs.org/p/carry-a-nation-introduction/10588': '12_2.json', 'http://www.gettyimages.com/detail/news-photo/madame-charalambos-simopoulos-wife-the-minister-of-greece-news-photo/51488110...   \n",
       "\n",
       "                                                                                                                                                                                                                                                              label  \n",
       "0   {'reviewer_name': 'Alt News', 'reviewer_site': 'altnews.in', 'review_url': 'https://www.altnews.in/morphed-opindia-screengrab-claims-greta-thunbergs-real-name-is-ghazala-bhat/', 'rating': 0, 'original_rating': 'false', 'id': 1, 'review_article': '1.json'}  \n",
       "3                       {'reviewer_name': 'Snopes', 'reviewer_site': 'snopes.com', 'review_url': 'https://www.snopes.com/fact-check/4-year-old-boy-accused-of-hacking-fbi-database/', 'rating': 0, 'original_rating': 'false', 'id': 4, 'review_article': '4.json'}  \n",
       "5                                         {'reviewer_name': 'Snopes', 'reviewer_site': 'snopes.com', 'review_url': 'https://www.snopes.com/fact-check/video-muslims-sharia-ashoura/', 'rating': 0, 'original_rating': 'false', 'id': 6, 'review_article': '6.json'}  \n",
       "10                                     {'reviewer_name': 'Snopes', 'reviewer_site': 'snopes.com', 'review_url': 'https://www.snopes.com/fact-check/new-york-state-gun-travel-ban/', 'rating': 0, 'original_rating': 'false', 'id': 11, 'review_article': '11.json'}  \n",
       "11                                           {'reviewer_name': 'Snopes', 'reviewer_site': 'snopes.com', 'review_url': 'https://www.snopes.com/fact-check/vanilla-ice-cream-black/', 'rating': 0, 'original_rating': 'false', 'id': 12, 'review_article': '12.json'}  "
      ]
     },
     "execution_count": 47,
     "metadata": {},
     "output_type": "execute_result"
    }
   ],
   "source": [
    "df.head()\n"
   ]
  },
  {
   "cell_type": "code",
   "execution_count": 48,
   "metadata": {},
   "outputs": [],
   "source": [
    "df['metadata']=df['metadata'].apply(lambda x: x['claim'])"
   ]
  },
  {
   "cell_type": "code",
   "execution_count": 49,
   "metadata": {},
   "outputs": [
    {
     "data": {
      "text/html": [
       "<div>\n",
       "<style scoped>\n",
       "    .dataframe tbody tr th:only-of-type {\n",
       "        vertical-align: middle;\n",
       "    }\n",
       "\n",
       "    .dataframe tbody tr th {\n",
       "        vertical-align: top;\n",
       "    }\n",
       "\n",
       "    .dataframe thead th {\n",
       "        text-align: right;\n",
       "    }\n",
       "</style>\n",
       "<table border=\"1\" class=\"dataframe\">\n",
       "  <thead>\n",
       "    <tr style=\"text-align: right;\">\n",
       "      <th></th>\n",
       "      <th>metadata</th>\n",
       "      <th>label</th>\n",
       "    </tr>\n",
       "  </thead>\n",
       "  <tbody>\n",
       "    <tr>\n",
       "      <th>2284</th>\n",
       "      <td>When John Hancock affixed his famously large signature to the Declaration of Independence, he proclaimed, \"There, I guess King George will be able to read that!\"</td>\n",
       "      <td>{'reviewer_name': 'Snopes', 'reviewer_site': 'snopes.com', 'review_url': 'https://www.snopes.com/fact-check/john-hancock-and-bull-story/', 'rating': 0, 'original_rating': 'false', 'id': 2285, 'review_article': '2285.json'}</td>\n",
       "    </tr>\n",
       "    <tr>\n",
       "      <th>3098</th>\n",
       "      <td>A photo of the Kumbh Mela, a Hindu festival in north India?</td>\n",
       "      <td>{'reviewer_name': 'AFP Fact Check', 'reviewer_site': 'factcheck.afp.com', 'review_url': 'https://factcheck.afp.com/no-not-photo-kumbh-mela-hindu-festival-north-india', 'rating': 0, 'original_rating': 'false', 'id': 3099, 'review_article': '3099.json'}</td>\n",
       "    </tr>\n",
       "    <tr>\n",
       "      <th>4645</th>\n",
       "      <td>Tata Salt contains deadly cyanides according to US report</td>\n",
       "      <td>{'reviewer_name': 'Alt News', 'reviewer_site': 'altnews.in', 'review_url': 'https://www.altnews.in/false-allegations-of-toxins-and-harmful-chemicals-in-indias-widely-sold-commercial-salt-brands/', 'rating': 0, 'original_rating': 'false', 'id': 4646, 'review_article': '4646.json'}</td>\n",
       "    </tr>\n",
       "    <tr>\n",
       "      <th>5716</th>\n",
       "      <td>\"Libya supplies the oil for China. We get no oil from Libya.\"</td>\n",
       "      <td>{'reviewer_name': 'PolitiFact', 'reviewer_site': 'politifact.com', 'review_url': 'https://www.politifact.com/factchecks/2011/apr/11/donald-trump/libya-sells-most-its-oil-europe-not-china/', 'rating': 0, 'original_rating': 'false', 'id': 5717, 'review_article': '5717.json'}</td>\n",
       "    </tr>\n",
       "    <tr>\n",
       "      <th>7771</th>\n",
       "      <td>Drinking vegetable juice, bitter gourd, can cure COVID-19</td>\n",
       "      <td>{'reviewer_name': 'AFP Fact Check', 'reviewer_site': 'factcheck.afp.com', 'review_url': 'https://factcheck.afp.com/indian-health-authorities-refute-myth-juiced-vegetables-can-cure-covid-19', 'rating': 0, 'original_rating': 'false', 'id': 7772, 'review_article': '7772.json'}</td>\n",
       "    </tr>\n",
       "    <tr>\n",
       "      <th>14192</th>\n",
       "      <td>Indian Muslim women prepare to renounce their faith and Hindu men</td>\n",
       "      <td>{'reviewer_name': 'AFP Fact Check', 'reviewer_site': 'factcheck.afp.com', 'review_url': 'https://factcheck.afp.com/video-actually-shows-muslim-women-participating-event-promote-religious-harmony', 'rating': 0, 'original_rating': 'false', 'id': 14193, 'review_article': '14193.json'}</td>\n",
       "    </tr>\n",
       "    <tr>\n",
       "      <th>24702</th>\n",
       "      <td>There is \"no system to vet\" refugees from the Middle East.</td>\n",
       "      <td>{'reviewer_name': 'PolitiFact', 'reviewer_site': 'politifact.com', 'review_url': 'https://www.politifact.com/factchecks/2016/jun/13/donald-trump/wrong-donald-trump-says-theres-no-system-vet-refug/', 'rating': 0, 'original_rating': 'false', 'id': 24703, 'review_article': '24703.json'}</td>\n",
       "    </tr>\n",
       "    <tr>\n",
       "      <th>17681</th>\n",
       "      <td>MP Congress candidate Phool Singh Baraiya was thrashed by a crowd</td>\n",
       "      <td>{'reviewer_name': 'Alt News', 'reviewer_site': 'altnews.in', 'review_url': 'https://www.altnews.in/4-year-old-video-from-west-bengal-shared-as-congress-canditate-beaten-up-in-madhya-pradesh-before-poll-election/', 'rating': 0, 'original_rating': 'false', 'id': 17682, 'review_article': '17682.json'}</td>\n",
       "    </tr>\n",
       "    <tr>\n",
       "      <th>23870</th>\n",
       "      <td>\"West Virginia is second in the nation in the percentage increase of GDP.\"</td>\n",
       "      <td>{'reviewer_name': 'FactCheck.org', 'reviewer_site': 'factcheck.org', 'review_url': 'https://www.factcheck.org/2018/07/trump-overstates-west-virginia-gains/', 'rating': 0, 'original_rating': 'false', 'id': 23871, 'review_article': '23871.json'}</td>\n",
       "    </tr>\n",
       "    <tr>\n",
       "      <th>21728</th>\n",
       "      <td>Image of Indian Muslims offering a namaz on their terrace amidst the nationwide lockdown</td>\n",
       "      <td>{'reviewer_name': 'Alt News', 'reviewer_site': 'altnews.in', 'review_url': 'https://www.altnews.in/image-of-muslims-offering-namaz-on-rooftops-in-groups-in-from-dubai/', 'rating': 0, 'original_rating': 'false', 'id': 21729, 'review_article': '21729.json'}</td>\n",
       "    </tr>\n",
       "    <tr>\n",
       "      <th>14924</th>\n",
       "      <td>A man deleted his entire company with one line of code.</td>\n",
       "      <td>{'reviewer_name': 'Snopes', 'reviewer_site': 'snopes.com', 'review_url': 'https://www.snopes.com/fact-check/man-deletes-company-code/', 'rating': 0, 'original_rating': 'false', 'id': 14925, 'review_article': '14925.json'}</td>\n",
       "    </tr>\n",
       "    <tr>\n",
       "      <th>14514</th>\n",
       "      <td>Text with a viral video about \"making America Muslim\" identifies the speaker as “the new congresswoman from Michigan.”</td>\n",
       "      <td>{'reviewer_name': 'FactCheck.org', 'reviewer_site': 'factcheck.org', 'review_url': 'https://www.factcheck.org/2019/05/decades-old-video-doesnt-show-congresswoman/', 'rating': 0, 'original_rating': 'false', 'id': 14515, 'review_article': '14515.json'}</td>\n",
       "    </tr>\n",
       "    <tr>\n",
       "      <th>2825</th>\n",
       "      <td>RBI to discontinue Rs.2000 currency note</td>\n",
       "      <td>{'reviewer_name': 'Alt News', 'reviewer_site': 'altnews.in', 'review_url': 'https://www.altnews.in/no-rbi-is-not-going-to-discontinue-rs-2000-currency-notes-false-message-viral/', 'rating': 0, 'original_rating': 'false', 'id': 2826, 'review_article': '2826.json'}</td>\n",
       "    </tr>\n",
       "    <tr>\n",
       "      <th>6660</th>\n",
       "      <td>\"During the proceedings that took place before the Judiciary Committee, the president was denied the right to cross-examine witnesses, the president was denied the right to access evidence, and the president was denied the right to have counsel present at hearings.\"</td>\n",
       "      <td>{'reviewer_name': 'FactCheck.org', 'reviewer_site': 'factcheck.org', 'review_url': 'https://www.factcheck.org/2020/01/false-and-misleading-claims-at-impeachment-trial/', 'rating': 0, 'original_rating': 'false', 'id': 6661, 'review_article': '6661.json'}</td>\n",
       "    </tr>\n",
       "    <tr>\n",
       "      <th>26698</th>\n",
       "      <td>A study ranked Florida \"No. 1 in government corruption\" under Gov. Rick Scott.</td>\n",
       "      <td>{'reviewer_name': 'PolitiFact', 'reviewer_site': 'politifact.com', 'review_url': 'https://www.politifact.com/factchecks/2013/jun/20/florida-democratic-party/florida-democrats-link-states-no-1-corruption-rank/', 'rating': 0, 'original_rating': 'false', 'id': 26699, 'review_article': '26699.json'}</td>\n",
       "    </tr>\n",
       "    <tr>\n",
       "      <th>26429</th>\n",
       "      <td>Swayam Sevak's father murdered by extremists, Muslims in Kumbakonam</td>\n",
       "      <td>{'reviewer_name': 'Alt News', 'reviewer_site': 'altnews.in', 'review_url': 'https://www.altnews.in/murder-of-rss-worker-by-alleged-bjp-member-in-tamil-nadu-shared-with-false-claims/', 'rating': 0, 'original_rating': 'false', 'id': 26430, 'review_article': '26430.json'}</td>\n",
       "    </tr>\n",
       "    <tr>\n",
       "      <th>5184</th>\n",
       "      <td>The pattern on Melania Trump's New Year's Eve 2017 dress closely resembled the design on a shower curtain.</td>\n",
       "      <td>{'reviewer_name': 'Snopes', 'reviewer_site': 'snopes.com', 'review_url': 'https://www.snopes.com/fact-check/melania-trump-wore-shower-curtains/', 'rating': 0, 'original_rating': 'false', 'id': 5185, 'review_article': '5185.json'}</td>\n",
       "    </tr>\n",
       "    <tr>\n",
       "      <th>8758</th>\n",
       "      <td>A man turned himself in to police for killing his make-believe companion.</td>\n",
       "      <td>{'reviewer_name': 'Snopes', 'reviewer_site': 'snopes.com', 'review_url': 'https://www.snopes.com/fact-check/florida-man-turns-murdering-imaginary-friend/', 'rating': 0, 'original_rating': 'false', 'id': 8759, 'review_article': '8759.json'}</td>\n",
       "    </tr>\n",
       "    <tr>\n",
       "      <th>466</th>\n",
       "      <td>“We have to break up families” entering the country illegally, because of “bad laws that the Democrats gave us.”</td>\n",
       "      <td>{'reviewer_name': 'FactCheck.org', 'reviewer_site': 'factcheck.org', 'review_url': 'https://www.factcheck.org/2018/05/trump-blames-own-border-policy-on-democrats/', 'rating': 0, 'original_rating': 'false', 'id': 467, 'review_article': '467.json'}</td>\n",
       "    </tr>\n",
       "    <tr>\n",
       "      <th>20887</th>\n",
       "      <td>Says \"Pelosi blackmails Congress! She demands mail-in voting or no 2nd stimulus for you and your family.”</td>\n",
       "      <td>{'reviewer_name': 'PolitiFact', 'reviewer_site': 'politifact.com', 'review_url': 'https://www.politifact.com/factchecks/2020/aug/07/facebook-posts/heroes-act-includes-more-election-funding-does-not/', 'rating': 0, 'original_rating': 'false', 'id': 20888, 'review_article': '20888.json'}</td>\n",
       "    </tr>\n",
       "  </tbody>\n",
       "</table>\n",
       "</div>"
      ],
      "text/plain": [
       "                                                                                                                                                                                                                                                                         metadata  \\\n",
       "2284                                                                                                            When John Hancock affixed his famously large signature to the Declaration of Independence, he proclaimed, \"There, I guess King George will be able to read that!\"   \n",
       "3098                                                                                                                                                                                                                  A photo of the Kumbh Mela, a Hindu festival in north India?   \n",
       "4645                                                                                                                                                                                                                    Tata Salt contains deadly cyanides according to US report   \n",
       "5716                                                                                                                                                                                                                \"Libya supplies the oil for China. We get no oil from Libya.\"   \n",
       "7771                                                                                                                                                                                                                    Drinking vegetable juice, bitter gourd, can cure COVID-19   \n",
       "14192                                                                                                                                                                                                           Indian Muslim women prepare to renounce their faith and Hindu men   \n",
       "24702                                                                                                                                                                                                                  There is \"no system to vet\" refugees from the Middle East.   \n",
       "17681                                                                                                                                                                                                           MP Congress candidate Phool Singh Baraiya was thrashed by a crowd   \n",
       "23870                                                                                                                                                                                                  \"West Virginia is second in the nation in the percentage increase of GDP.\"   \n",
       "21728                                                                                                                                                                                    Image of Indian Muslims offering a namaz on their terrace amidst the nationwide lockdown   \n",
       "14924                                                                                                                                                                                                                     A man deleted his entire company with one line of code.   \n",
       "14514                                                                                                                                                      Text with a viral video about \"making America Muslim\" identifies the speaker as “the new congresswoman from Michigan.”   \n",
       "2825                                                                                                                                                                                                                                     RBI to discontinue Rs.2000 currency note   \n",
       "6660   \"During the proceedings that took place before the Judiciary Committee, the president was denied the right to cross-examine witnesses, the president was denied the right to access evidence, and the president was denied the right to have counsel present at hearings.\"   \n",
       "26698                                                                                                                                                                                              A study ranked Florida \"No. 1 in government corruption\" under Gov. Rick Scott.   \n",
       "26429                                                                                                                                                                                                         Swayam Sevak's father murdered by extremists, Muslims in Kumbakonam   \n",
       "5184                                                                                                                                                                   The pattern on Melania Trump's New Year's Eve 2017 dress closely resembled the design on a shower curtain.   \n",
       "8758                                                                                                                                                                                                    A man turned himself in to police for killing his make-believe companion.   \n",
       "466                                                                                                                                                              “We have to break up families” entering the country illegally, because of “bad laws that the Democrats gave us.”   \n",
       "20887                                                                                                                                                                   Says \"Pelosi blackmails Congress! She demands mail-in voting or no 2nd stimulus for you and your family.”   \n",
       "\n",
       "                                                                                                                                                                                                                                                                                                             label  \n",
       "2284                                                                                {'reviewer_name': 'Snopes', 'reviewer_site': 'snopes.com', 'review_url': 'https://www.snopes.com/fact-check/john-hancock-and-bull-story/', 'rating': 0, 'original_rating': 'false', 'id': 2285, 'review_article': '2285.json'}  \n",
       "3098                                                   {'reviewer_name': 'AFP Fact Check', 'reviewer_site': 'factcheck.afp.com', 'review_url': 'https://factcheck.afp.com/no-not-photo-kumbh-mela-hindu-festival-north-india', 'rating': 0, 'original_rating': 'false', 'id': 3099, 'review_article': '3099.json'}  \n",
       "4645                      {'reviewer_name': 'Alt News', 'reviewer_site': 'altnews.in', 'review_url': 'https://www.altnews.in/false-allegations-of-toxins-and-harmful-chemicals-in-indias-widely-sold-commercial-salt-brands/', 'rating': 0, 'original_rating': 'false', 'id': 4646, 'review_article': '4646.json'}  \n",
       "5716                             {'reviewer_name': 'PolitiFact', 'reviewer_site': 'politifact.com', 'review_url': 'https://www.politifact.com/factchecks/2011/apr/11/donald-trump/libya-sells-most-its-oil-europe-not-china/', 'rating': 0, 'original_rating': 'false', 'id': 5717, 'review_article': '5717.json'}  \n",
       "7771                            {'reviewer_name': 'AFP Fact Check', 'reviewer_site': 'factcheck.afp.com', 'review_url': 'https://factcheck.afp.com/indian-health-authorities-refute-myth-juiced-vegetables-can-cure-covid-19', 'rating': 0, 'original_rating': 'false', 'id': 7772, 'review_article': '7772.json'}  \n",
       "14192                   {'reviewer_name': 'AFP Fact Check', 'reviewer_site': 'factcheck.afp.com', 'review_url': 'https://factcheck.afp.com/video-actually-shows-muslim-women-participating-event-promote-religious-harmony', 'rating': 0, 'original_rating': 'false', 'id': 14193, 'review_article': '14193.json'}  \n",
       "24702                 {'reviewer_name': 'PolitiFact', 'reviewer_site': 'politifact.com', 'review_url': 'https://www.politifact.com/factchecks/2016/jun/13/donald-trump/wrong-donald-trump-says-theres-no-system-vet-refug/', 'rating': 0, 'original_rating': 'false', 'id': 24703, 'review_article': '24703.json'}  \n",
       "17681  {'reviewer_name': 'Alt News', 'reviewer_site': 'altnews.in', 'review_url': 'https://www.altnews.in/4-year-old-video-from-west-bengal-shared-as-congress-canditate-beaten-up-in-madhya-pradesh-before-poll-election/', 'rating': 0, 'original_rating': 'false', 'id': 17682, 'review_article': '17682.json'}  \n",
       "23870                                                          {'reviewer_name': 'FactCheck.org', 'reviewer_site': 'factcheck.org', 'review_url': 'https://www.factcheck.org/2018/07/trump-overstates-west-virginia-gains/', 'rating': 0, 'original_rating': 'false', 'id': 23871, 'review_article': '23871.json'}  \n",
       "21728                                              {'reviewer_name': 'Alt News', 'reviewer_site': 'altnews.in', 'review_url': 'https://www.altnews.in/image-of-muslims-offering-namaz-on-rooftops-in-groups-in-from-dubai/', 'rating': 0, 'original_rating': 'false', 'id': 21729, 'review_article': '21729.json'}  \n",
       "14924                                                                                {'reviewer_name': 'Snopes', 'reviewer_site': 'snopes.com', 'review_url': 'https://www.snopes.com/fact-check/man-deletes-company-code/', 'rating': 0, 'original_rating': 'false', 'id': 14925, 'review_article': '14925.json'}  \n",
       "14514                                                   {'reviewer_name': 'FactCheck.org', 'reviewer_site': 'factcheck.org', 'review_url': 'https://www.factcheck.org/2019/05/decades-old-video-doesnt-show-congresswoman/', 'rating': 0, 'original_rating': 'false', 'id': 14515, 'review_article': '14515.json'}  \n",
       "2825                                       {'reviewer_name': 'Alt News', 'reviewer_site': 'altnews.in', 'review_url': 'https://www.altnews.in/no-rbi-is-not-going-to-discontinue-rs-2000-currency-notes-false-message-viral/', 'rating': 0, 'original_rating': 'false', 'id': 2826, 'review_article': '2826.json'}  \n",
       "6660                                                 {'reviewer_name': 'FactCheck.org', 'reviewer_site': 'factcheck.org', 'review_url': 'https://www.factcheck.org/2020/01/false-and-misleading-claims-at-impeachment-trial/', 'rating': 0, 'original_rating': 'false', 'id': 6661, 'review_article': '6661.json'}  \n",
       "26698     {'reviewer_name': 'PolitiFact', 'reviewer_site': 'politifact.com', 'review_url': 'https://www.politifact.com/factchecks/2013/jun/20/florida-democratic-party/florida-democrats-link-states-no-1-corruption-rank/', 'rating': 0, 'original_rating': 'false', 'id': 26699, 'review_article': '26699.json'}  \n",
       "26429                                {'reviewer_name': 'Alt News', 'reviewer_site': 'altnews.in', 'review_url': 'https://www.altnews.in/murder-of-rss-worker-by-alleged-bjp-member-in-tamil-nadu-shared-with-false-claims/', 'rating': 0, 'original_rating': 'false', 'id': 26430, 'review_article': '26430.json'}  \n",
       "5184                                                                         {'reviewer_name': 'Snopes', 'reviewer_site': 'snopes.com', 'review_url': 'https://www.snopes.com/fact-check/melania-trump-wore-shower-curtains/', 'rating': 0, 'original_rating': 'false', 'id': 5185, 'review_article': '5185.json'}  \n",
       "8758                                                               {'reviewer_name': 'Snopes', 'reviewer_site': 'snopes.com', 'review_url': 'https://www.snopes.com/fact-check/florida-man-turns-murdering-imaginary-friend/', 'rating': 0, 'original_rating': 'false', 'id': 8759, 'review_article': '8759.json'}  \n",
       "466                                                         {'reviewer_name': 'FactCheck.org', 'reviewer_site': 'factcheck.org', 'review_url': 'https://www.factcheck.org/2018/05/trump-blames-own-border-policy-on-democrats/', 'rating': 0, 'original_rating': 'false', 'id': 467, 'review_article': '467.json'}  \n",
       "20887               {'reviewer_name': 'PolitiFact', 'reviewer_site': 'politifact.com', 'review_url': 'https://www.politifact.com/factchecks/2020/aug/07/facebook-posts/heroes-act-includes-more-election-funding-does-not/', 'rating': 0, 'original_rating': 'false', 'id': 20888, 'review_article': '20888.json'}  "
      ]
     },
     "execution_count": 49,
     "metadata": {},
     "output_type": "execute_result"
    }
   ],
   "source": [
    "df.sample(20)"
   ]
  }
 ],
 "metadata": {
  "kernelspec": {
   "display_name": "title",
   "language": "python",
   "name": "python3"
  },
  "language_info": {
   "codemirror_mode": {
    "name": "ipython",
    "version": 3
   },
   "file_extension": ".py",
   "mimetype": "text/x-python",
   "name": "python",
   "nbconvert_exporter": "python",
   "pygments_lexer": "ipython3",
   "version": "3.9.18"
  }
 },
 "nbformat": 4,
 "nbformat_minor": 2
}
