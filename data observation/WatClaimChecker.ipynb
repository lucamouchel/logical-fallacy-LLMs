{
 "cells": [
  {
   "cell_type": "code",
   "execution_count": 248,
   "metadata": {},
   "outputs": [],
   "source": [
    "import pandas as pd\n",
    "pd.set_option('display.max_colwidth', 500)"
   ]
  },
  {
   "cell_type": "code",
   "execution_count": 249,
   "metadata": {},
   "outputs": [
    {
     "data": {
      "text/plain": [
       "4316"
      ]
     },
     "execution_count": 249,
     "metadata": {},
     "output_type": "execute_result"
    }
   ],
   "source": [
    "332 + 3653 + 331"
   ]
  },
  {
   "cell_type": "code",
   "execution_count": 250,
   "metadata": {},
   "outputs": [
    {
     "data": {
      "text/plain": [
       "331"
      ]
     },
     "execution_count": 250,
     "metadata": {},
     "output_type": "execute_result"
    }
   ],
   "source": [
    "df_train = pd.read_json('../data/watclaimcheck data/train.json')\n",
    "df_test = pd.read_json('../data/watclaimcheck data/test.json')\n",
    "df_dev = pd.read_json('../data/watclaimcheck data/valid.json')\n",
    "\n",
    "df = pd.concat([df_train, df_test, df_dev])\n",
    "df1 = pd.read_csv('../data/dev.csv')\n",
    "df2 = pd.read_csv('../data/train.csv')\n",
    "df3 = pd.read_csv('../data/test.csv')\n",
    "df_logic = pd.concat([df1, df2, df3])\n",
    "len(df3)"
   ]
  },
  {
   "cell_type": "code",
   "execution_count": 251,
   "metadata": {},
   "outputs": [],
   "source": [
    "num_dev = 500\n",
    "num_test = 500\n",
    "num_train = 4000"
   ]
  },
  {
   "cell_type": "code",
   "execution_count": null,
   "metadata": {},
   "outputs": [],
   "source": []
  },
  {
   "cell_type": "code",
   "execution_count": 252,
   "metadata": {},
   "outputs": [
    {
     "data": {
      "text/plain": [
       "33721"
      ]
     },
     "execution_count": 252,
     "metadata": {},
     "output_type": "execute_result"
    }
   ],
   "source": [
    "len(df)"
   ]
  },
  {
   "cell_type": "code",
   "execution_count": 253,
   "metadata": {},
   "outputs": [],
   "source": [
    "df.head()\n",
    "df = df[df.apply(lambda x: 'original_rating' in x['label'] and (x['label']['original_rating'] == 'true' or x['label']['original_rating'] == 'mostly-true' ) , axis=1)]"
   ]
  },
  {
   "cell_type": "code",
   "execution_count": 254,
   "metadata": {},
   "outputs": [
    {
     "data": {
      "text/plain": [
       "5772"
      ]
     },
     "execution_count": 254,
     "metadata": {},
     "output_type": "execute_result"
    }
   ],
   "source": [
    "len(df)"
   ]
  },
  {
   "cell_type": "code",
   "execution_count": 255,
   "metadata": {},
   "outputs": [],
   "source": [
    "logic_text = pd.DataFrame(df_logic['text'])\n",
    "logic_text['label'] = 1"
   ]
  },
  {
   "cell_type": "code",
   "execution_count": 256,
   "metadata": {},
   "outputs": [],
   "source": [
    "df['metadata']=df['metadata'].apply(lambda x: x['claim'])"
   ]
  },
  {
   "cell_type": "code",
   "execution_count": 257,
   "metadata": {},
   "outputs": [],
   "source": [
    "df = df.rename(columns={'metadata': 'text'})\n",
    "df = pd.DataFrame(df['text'])\n",
    "df['label'] = 0"
   ]
  },
  {
   "cell_type": "code",
   "execution_count": 258,
   "metadata": {},
   "outputs": [
    {
     "name": "stdout",
     "output_type": "stream",
     "text": [
      "                                                                                                                                            text  \\\n",
      "12                                                        \"In 30 states, average teacher pay is less than the living wage for a family of four.\"   \n",
      "13                                                                                    Says that U.S. Rep. Allen West is \"a constituent of mine.\"   \n",
      "14                   \"The average margin of victory in the House of Representatives was 37%\" for Democrats and Republicans in the 2016 election.   \n",
      "18  Says Texas House rules authorized by the Texas Constitution supersede the state law permitting anyone to record a public government meeting.   \n",
      "25                                                                          \"Not a single Democrat opposed Neil Gorsuch's confirmation in 2006.\"   \n",
      "\n",
      "    label  \n",
      "12      0  \n",
      "13      0  \n",
      "14      0  \n",
      "18      0  \n",
      "25      0   5772\n"
     ]
    }
   ],
   "source": [
    "print(df.head(), len(df))"
   ]
  },
  {
   "cell_type": "code",
   "execution_count": 259,
   "metadata": {},
   "outputs": [
    {
     "data": {
      "text/plain": [
       "4316"
      ]
     },
     "execution_count": 259,
     "metadata": {},
     "output_type": "execute_result"
    }
   ],
   "source": [
    "logic_text.head()\n",
    "len(logic_text)"
   ]
  },
  {
   "cell_type": "code",
   "execution_count": 260,
   "metadata": {},
   "outputs": [
    {
     "data": {
      "text/html": [
       "<div>\n",
       "<style scoped>\n",
       "    .dataframe tbody tr th:only-of-type {\n",
       "        vertical-align: middle;\n",
       "    }\n",
       "\n",
       "    .dataframe tbody tr th {\n",
       "        vertical-align: top;\n",
       "    }\n",
       "\n",
       "    .dataframe thead th {\n",
       "        text-align: right;\n",
       "    }\n",
       "</style>\n",
       "<table border=\"1\" class=\"dataframe\">\n",
       "  <thead>\n",
       "    <tr style=\"text-align: right;\">\n",
       "      <th></th>\n",
       "      <th>text</th>\n",
       "      <th>label</th>\n",
       "    </tr>\n",
       "  </thead>\n",
       "  <tbody>\n",
       "    <tr>\n",
       "      <th>0</th>\n",
       "      <td>McDonald's Hamburgers, over 99 billion served.</td>\n",
       "      <td>1</td>\n",
       "    </tr>\n",
       "    <tr>\n",
       "      <th>1</th>\n",
       "      <td>\"Dad, it's difficult to make a living on my salary.\" \"Consider yourself lucky. When I was your age, I was living on $40 a week.\"</td>\n",
       "      <td>1</td>\n",
       "    </tr>\n",
       "    <tr>\n",
       "      <th>2</th>\n",
       "      <td>\"You're not Kenyan enough to be a good leader in Kenya.\"</td>\n",
       "      <td>1</td>\n",
       "    </tr>\n",
       "    <tr>\n",
       "      <th>3</th>\n",
       "      <td>It is possible to fake the moon landing through special effects. Therefore, the moon landing was a fake using special effects.</td>\n",
       "      <td>1</td>\n",
       "    </tr>\n",
       "    <tr>\n",
       "      <th>4</th>\n",
       "      <td>The time that children are vaccinated and the time they're diagnosed do closely correlate, however, leading upset parents to assign blame to the immunizations, for lack of a better explanation.</td>\n",
       "      <td>1</td>\n",
       "    </tr>\n",
       "    <tr>\n",
       "      <th>...</th>\n",
       "      <td>...</td>\n",
       "      <td>...</td>\n",
       "    </tr>\n",
       "    <tr>\n",
       "      <th>326</th>\n",
       "      <td>Everyone is against child pornography. I asked Mrs. Smith and Mr. Jones at the PTA meeting and they are definitely against it.</td>\n",
       "      <td>1</td>\n",
       "    </tr>\n",
       "    <tr>\n",
       "      <th>327</th>\n",
       "      <td>Sometimes kids ride skateboards and fall off, breaking their arms or legs. Clearly, riding a skateboard is extremely dangerous. Don’t you think skateboards should be banned?</td>\n",
       "      <td>1</td>\n",
       "    </tr>\n",
       "    <tr>\n",
       "      <th>328</th>\n",
       "      <td>Encourages the audience to become part of a group or act because other people are acting in the same way.</td>\n",
       "      <td>1</td>\n",
       "    </tr>\n",
       "    <tr>\n",
       "      <th>329</th>\n",
       "      <td>\"Every 0.008 seconds in the United States, a teen accidentally shatters his/her phone screen. You can help put an end to these devastating tragedies: donate now to my Kickstarter fund, the new Bubble-wrap Phone Case X.\"</td>\n",
       "      <td>1</td>\n",
       "    </tr>\n",
       "    <tr>\n",
       "      <th>330</th>\n",
       "      <td>My way of responding to difficult patients is by far the most ethical because no other way is so ethical and it is the only way that is completely ethical.</td>\n",
       "      <td>1</td>\n",
       "    </tr>\n",
       "  </tbody>\n",
       "</table>\n",
       "<p>4316 rows × 2 columns</p>\n",
       "</div>"
      ],
      "text/plain": [
       "                                                                                                                                                                                                                            text  \\\n",
       "0                                                                                                                                                                                 McDonald's Hamburgers, over 99 billion served.   \n",
       "1                                                                                               \"Dad, it's difficult to make a living on my salary.\" \"Consider yourself lucky. When I was your age, I was living on $40 a week.\"   \n",
       "2                                                                                                                                                                       \"You're not Kenyan enough to be a good leader in Kenya.\"   \n",
       "3                                                                                                 It is possible to fake the moon landing through special effects. Therefore, the moon landing was a fake using special effects.   \n",
       "4                             The time that children are vaccinated and the time they're diagnosed do closely correlate, however, leading upset parents to assign blame to the immunizations, for lack of a better explanation.    \n",
       "..                                                                                                                                                                                                                           ...   \n",
       "326                                                                                               Everyone is against child pornography. I asked Mrs. Smith and Mr. Jones at the PTA meeting and they are definitely against it.   \n",
       "327                                                Sometimes kids ride skateboards and fall off, breaking their arms or legs. Clearly, riding a skateboard is extremely dangerous. Don’t you think skateboards should be banned?   \n",
       "328                                                                                                                    Encourages the audience to become part of a group or act because other people are acting in the same way.   \n",
       "329  \"Every 0.008 seconds in the United States, a teen accidentally shatters his/her phone screen. You can help put an end to these devastating tragedies: donate now to my Kickstarter fund, the new Bubble-wrap Phone Case X.\"   \n",
       "330                                                                  My way of responding to difficult patients is by far the most ethical because no other way is so ethical and it is the only way that is completely ethical.   \n",
       "\n",
       "     label  \n",
       "0        1  \n",
       "1        1  \n",
       "2        1  \n",
       "3        1  \n",
       "4        1  \n",
       "..     ...  \n",
       "326      1  \n",
       "327      1  \n",
       "328      1  \n",
       "329      1  \n",
       "330      1  \n",
       "\n",
       "[4316 rows x 2 columns]"
      ]
     },
     "execution_count": 260,
     "metadata": {},
     "output_type": "execute_result"
    }
   ],
   "source": [
    "logic_text"
   ]
  },
  {
   "cell_type": "code",
   "execution_count": 261,
   "metadata": {},
   "outputs": [],
   "source": [
    "DF = pd.concat([logic_text, df], ignore_index=True)"
   ]
  },
  {
   "cell_type": "code",
   "execution_count": 262,
   "metadata": {},
   "outputs": [],
   "source": [
    "from sklearn import model_selection\n",
    "\n",
    "X = DF.drop('label', axis=1)  # Features\n",
    "y = DF['label']  # Target variable\n",
    "\n",
    "# Split the data into a training set and a testing set (e.g., 80% train, 20% test)\n",
    "X_train, X_test, y_train, y_test = model_selection.train_test_split(X, y, test_size=0.2, random_state=42)\n"
   ]
  },
  {
   "cell_type": "code",
   "execution_count": 273,
   "metadata": {},
   "outputs": [
    {
     "data": {
      "text/html": [
       "<div>\n",
       "<style scoped>\n",
       "    .dataframe tbody tr th:only-of-type {\n",
       "        vertical-align: middle;\n",
       "    }\n",
       "\n",
       "    .dataframe tbody tr th {\n",
       "        vertical-align: top;\n",
       "    }\n",
       "\n",
       "    .dataframe thead th {\n",
       "        text-align: right;\n",
       "    }\n",
       "</style>\n",
       "<table border=\"1\" class=\"dataframe\">\n",
       "  <thead>\n",
       "    <tr style=\"text-align: right;\">\n",
       "      <th></th>\n",
       "      <th>text</th>\n",
       "      <th>label</th>\n",
       "    </tr>\n",
       "  </thead>\n",
       "  <tbody>\n",
       "    <tr>\n",
       "      <th>12</th>\n",
       "      <td>\"In 30 states, average teacher pay is less than the living wage for a family of four.\"</td>\n",
       "      <td>0</td>\n",
       "    </tr>\n",
       "    <tr>\n",
       "      <th>13</th>\n",
       "      <td>Says that U.S. Rep. Allen West is \"a constituent of mine.\"</td>\n",
       "      <td>0</td>\n",
       "    </tr>\n",
       "    <tr>\n",
       "      <th>14</th>\n",
       "      <td>\"The average margin of victory in the House of Representatives was 37%\" for Democrats and Republicans in the 2016 election.</td>\n",
       "      <td>0</td>\n",
       "    </tr>\n",
       "    <tr>\n",
       "      <th>18</th>\n",
       "      <td>Says Texas House rules authorized by the Texas Constitution supersede the state law permitting anyone to record a public government meeting.</td>\n",
       "      <td>0</td>\n",
       "    </tr>\n",
       "    <tr>\n",
       "      <th>25</th>\n",
       "      <td>\"Not a single Democrat opposed Neil Gorsuch's confirmation in 2006.\"</td>\n",
       "      <td>0</td>\n",
       "    </tr>\n",
       "    <tr>\n",
       "      <th>...</th>\n",
       "      <td>...</td>\n",
       "      <td>...</td>\n",
       "    </tr>\n",
       "    <tr>\n",
       "      <th>3336</th>\n",
       "      <td>\"Since 2000, only 10 cases of in-person voter fraud have been proven nationally.\"</td>\n",
       "      <td>0</td>\n",
       "    </tr>\n",
       "    <tr>\n",
       "      <th>3343</th>\n",
       "      <td>Facebook posts by commercial flight attendants describe their experiences working on flights transporting unaccompanied immigrant children to detention facilities.</td>\n",
       "      <td>0</td>\n",
       "    </tr>\n",
       "    <tr>\n",
       "      <th>3344</th>\n",
       "      <td>\"President Obama decided not to meet with Prime Minister Benjamin Netanyahu in New York.\"</td>\n",
       "      <td>0</td>\n",
       "    </tr>\n",
       "    <tr>\n",
       "      <th>3367</th>\n",
       "      <td>\"The President wants to cut 3 MILLION people from SNAP, including children, seniors and veterans.\"</td>\n",
       "      <td>0</td>\n",
       "    </tr>\n",
       "    <tr>\n",
       "      <th>3371</th>\n",
       "      <td>Says President Barack Obama’s approval rating \"gained 3 points in the last couple months.\"</td>\n",
       "      <td>0</td>\n",
       "    </tr>\n",
       "  </tbody>\n",
       "</table>\n",
       "<p>5772 rows × 2 columns</p>\n",
       "</div>"
      ],
      "text/plain": [
       "                                                                                                                                                                     text  \\\n",
       "12                                                                                 \"In 30 states, average teacher pay is less than the living wage for a family of four.\"   \n",
       "13                                                                                                             Says that U.S. Rep. Allen West is \"a constituent of mine.\"   \n",
       "14                                            \"The average margin of victory in the House of Representatives was 37%\" for Democrats and Republicans in the 2016 election.   \n",
       "18                           Says Texas House rules authorized by the Texas Constitution supersede the state law permitting anyone to record a public government meeting.   \n",
       "25                                                                                                   \"Not a single Democrat opposed Neil Gorsuch's confirmation in 2006.\"   \n",
       "...                                                                                                                                                                   ...   \n",
       "3336                                                                                    \"Since 2000, only 10 cases of in-person voter fraud have been proven nationally.\"   \n",
       "3343  Facebook posts by commercial flight attendants describe their experiences working on flights transporting unaccompanied immigrant children to detention facilities.   \n",
       "3344                                                                            \"President Obama decided not to meet with Prime Minister Benjamin Netanyahu in New York.\"   \n",
       "3367                                                                   \"The President wants to cut 3 MILLION people from SNAP, including children, seniors and veterans.\"   \n",
       "3371                                                                           Says President Barack Obama’s approval rating \"gained 3 points in the last couple months.\"   \n",
       "\n",
       "      label  \n",
       "12        0  \n",
       "13        0  \n",
       "14        0  \n",
       "18        0  \n",
       "25        0  \n",
       "...     ...  \n",
       "3336      0  \n",
       "3343      0  \n",
       "3344      0  \n",
       "3367      0  \n",
       "3371      0  \n",
       "\n",
       "[5772 rows x 2 columns]"
      ]
     },
     "execution_count": 273,
     "metadata": {},
     "output_type": "execute_result"
    }
   ],
   "source": [
    "df"
   ]
  },
  {
   "cell_type": "code",
   "execution_count": 300,
   "metadata": {},
   "outputs": [],
   "source": [
    "df = df.drop_duplicates()"
   ]
  },
  {
   "cell_type": "code",
   "execution_count": 301,
   "metadata": {},
   "outputs": [],
   "source": [
    "df = df.sample(frac=1)"
   ]
  },
  {
   "cell_type": "code",
   "execution_count": 302,
   "metadata": {},
   "outputs": [
    {
     "data": {
      "text/plain": [
       "5768"
      ]
     },
     "execution_count": 302,
     "metadata": {},
     "output_type": "execute_result"
    }
   ],
   "source": [
    "len(df)"
   ]
  },
  {
   "cell_type": "code",
   "execution_count": 303,
   "metadata": {},
   "outputs": [],
   "source": [
    "training_samples = df[:4000]\n",
    "dev_samples = df[4001:4500]\n",
    "test_samples = df[4501:5000]\n",
    "\n",
    "training_text = pd.DataFrame(df2['text'])\n",
    "training_text['label'] = 1\n",
    "training_ = pd.concat([training_text, training_samples])\n",
    "\n",
    "dev_text = pd.DataFrame(df1['text'])\n",
    "dev_text['label'] = 1\n",
    "dev_ = pd.concat([dev_text, dev_samples])\n",
    "\n",
    "test_text = pd.DataFrame(df3['text'])\n",
    "test_text['label'] = 1\n",
    "test_ = pd.concat([test_text, test_samples])\n"
   ]
  },
  {
   "cell_type": "code",
   "execution_count": 304,
   "metadata": {},
   "outputs": [],
   "source": [
    "training_.sample(frac=1, random_state=1).to_csv('../data/binary/train.csv', index=False)\n",
    "dev_.sample(frac=1, random_state=1).to_csv('../data/binary/dev.csv', index=False)\n",
    "test_.sample(frac=1, random_state=1).to_csv('../data/binary/test.csv', index=False)\n"
   ]
  },
  {
   "cell_type": "code",
   "execution_count": 309,
   "metadata": {},
   "outputs": [
    {
     "name": "stdout",
     "output_type": "stream",
     "text": [
      "Empty DataFrame\n",
      "Columns: [text, label]\n",
      "Index: []\n"
     ]
    }
   ],
   "source": [
    "rows = test_.merge(dev_, on=list(test_.columns), how='inner')\n",
    "\n",
    "print(rows)"
   ]
  },
  {
   "cell_type": "code",
   "execution_count": 306,
   "metadata": {},
   "outputs": [],
   "source": [
    "d = d.sample(frac=1)  # frac=1 shuffles all rows, random_state for reproducibility\n"
   ]
  },
  {
   "cell_type": "code",
   "execution_count": 307,
   "metadata": {},
   "outputs": [],
   "source": [
    "d[['text', 'label']].to_csv('../data/binary/train.csv', index=False)"
   ]
  }
 ],
 "metadata": {
  "kernelspec": {
   "display_name": "title",
   "language": "python",
   "name": "python3"
  },
  "language_info": {
   "codemirror_mode": {
    "name": "ipython",
    "version": 3
   },
   "file_extension": ".py",
   "mimetype": "text/x-python",
   "name": "python",
   "nbconvert_exporter": "python",
   "pygments_lexer": "ipython3",
   "version": "3.9.13"
  }
 },
 "nbformat": 4,
 "nbformat_minor": 2
}
