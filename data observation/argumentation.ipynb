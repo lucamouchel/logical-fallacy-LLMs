{
 "cells": [
  {
   "cell_type": "code",
   "execution_count": 7,
   "metadata": {},
   "outputs": [],
   "source": [
    "import pandas as pd\n",
    "import os"
   ]
  },
  {
   "cell_type": "code",
   "execution_count": 8,
   "metadata": {},
   "outputs": [],
   "source": [
    "data_dir = '../data/argumentation/'\n",
    "LOGIC_dir = '../data/LOGIC'"
   ]
  },
  {
   "cell_type": "code",
   "execution_count": 9,
   "metadata": {},
   "outputs": [],
   "source": [
    "df_cckg = pd.read_csv(os.path.join(data_dir, 'train_cckg.tsv'), sep='\\t')\n",
    "df_iam = pd.read_csv(os.path.join(data_dir, 'train_iam.tsv'), sep='\\t')"
   ]
  },
  {
   "cell_type": "code",
   "execution_count": 10,
   "metadata": {},
   "outputs": [],
   "source": [
    "examples = pd.read_json(os.path.join(data_dir, 'fallacies_arguments_support.json'))\n",
    "df_mapping = pd.read_csv(os.path.join(LOGIC_dir, 'mappings.csv'))\n",
    "df_logic = pd.read_csv(os.path.join(LOGIC_dir, 'train.csv'))"
   ]
  },
  {
   "cell_type": "code",
   "execution_count": 11,
   "metadata": {},
   "outputs": [],
   "source": [
    "def generate_prompt(topic, fallacy_type, supporting=True):\n",
    "    example1 = examples[fallacy_type]['example1']\n",
    "    example2 = examples[fallacy_type]['example2'] \n",
    "    fallacies = df_logic[df_logic['label'] == fallacy_type].sample(2)['text'].values\n",
    "    text =  f\"\"\"You are given a topic.  \n",
    "    Your task is to generate a {'supporting' if supporting else 'counter'} {fallacy_type} logical fallacy argument in the context of the topic. \n",
    "    It should not be longer than 25 words. \n",
    "    \n",
    "    {fallacy_type} is defined as: {df_mapping[df_mapping['Original Name']==fallacy_type]['Description'].values[0]}\n",
    "    An example of {fallacy_type} fallacy is: \n",
    "    {fallacies[0]}\n",
    "    {fallacies[1]}\n",
    "    \n",
    "    Here is an example of a supporting {fallacy_type} fallacy: \n",
    "    {example1}\n",
    "    \n",
    "    return \n",
    "    {\"{\"}\n",
    "        \"topic\": {topic},\n",
    "        \"fallacy type\": {fallacy_type},\n",
    "        \"{fallacy_type} fallacy support\": <> \n",
    "    {\"}\"}\n",
    "    \"\"\"\n",
    "    return text"
   ]
  },
  {
   "cell_type": "code",
   "execution_count": 12,
   "metadata": {},
   "outputs": [
    {
     "name": "stdout",
     "output_type": "stream",
     "text": [
      "intentional\n",
      "Assisted suicide is compassionate.\n",
      "\n",
      "You are given a topic.  \n",
      "    Your task is to generate a supporting intentional logical fallacy argument in the context of the topic. \n",
      "    It should not be longer than 25 words. \n",
      "    \n",
      "    intentional is defined as: some intentional (sometimes subconscious) action/choice to incorrectly support an argument\n",
      "    An example of intentional is: \n",
      "    ['Why must you always follow such an stupid and uninformed approach to life?']\n",
      "    ['Why did you guys take so a stupid and uninformed approach to ethics?']\n",
      "    \n",
      "    Here is an example of a supporting intentional fallacies: \n",
      "    {'topic': 'Are aliens real', 'fallacy type': 'intentional fallacy', 'intentional fallacy support': \"You can't prove that aliens don't exist, so they must be real\"}\n",
      "    return \n",
      "    {\n",
      "        \"topic\": Assisted suicide is compassionate.,\n",
      "        \"fallacy type\": intentional,\n",
      "        \"intentional fallacy support\": <> \n",
      "    }\n",
      "    \n"
     ]
    }
   ],
   "source": [
    "topic =  df_cckg.topic.sample(1).values[0]\n",
    "fallacy_types = examples.keys()\n",
    "fallacy_type = fallacy_types[12]\n",
    "print(fallacy_type)\n",
    "prompt = generate_prompt(topic=topic, fallacy_type=fallacy_type)\n",
    "print(topic)\n",
    "print()\n",
    "print(prompt)"
   ]
  },
  {
   "cell_type": "code",
   "execution_count": null,
   "metadata": {},
   "outputs": [],
   "source": []
  }
 ],
 "metadata": {
  "kernelspec": {
   "display_name": "logicalfallacies",
   "language": "python",
   "name": "python3"
  },
  "language_info": {
   "codemirror_mode": {
    "name": "ipython",
    "version": 3
   },
   "file_extension": ".py",
   "mimetype": "text/x-python",
   "name": "python",
   "nbconvert_exporter": "python",
   "pygments_lexer": "ipython3",
   "version": "3.8.10"
  }
 },
 "nbformat": 4,
 "nbformat_minor": 2
}
