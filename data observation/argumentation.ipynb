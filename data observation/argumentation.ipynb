{
 "cells": [
  {
   "cell_type": "code",
   "execution_count": 7,
   "metadata": {},
   "outputs": [],
   "source": [
    "import pandas as pd\n",
    "import os"
   ]
  },
  {
   "cell_type": "code",
   "execution_count": 13,
   "metadata": {},
   "outputs": [],
   "source": [
    "data_dir = '../data/argumentation/'\n",
    "LOGIC_dir = '../data/LOGIC'"
   ]
  },
  {
   "cell_type": "code",
   "execution_count": 55,
   "metadata": {},
   "outputs": [],
   "source": [
    "df = pd.read_csv(os.path.join(data_dir, 'train.tsv'), sep='\\t')"
   ]
  },
  {
   "cell_type": "code",
   "execution_count": 15,
   "metadata": {},
   "outputs": [],
   "source": [
    "examples = pd.read_json(os.path.join(data_dir, 'fallacies_arguments_support.json'))\n",
    "df_mapping = pd.read_csv(os.path.join(LOGIC_dir, 'mappings.csv'))\n",
    "df_logic = pd.read_csv(os.path.join(LOGIC_dir, 'train.csv'))"
   ]
  },
  {
   "cell_type": "code",
   "execution_count": 56,
   "metadata": {},
   "outputs": [
    {
     "data": {
      "text/plain": [
       "Index(['text', 'label', 'structure', 'explanations', 'goals',\n",
       "       'codex_prediction', 'counter'],\n",
       "      dtype='object')"
      ]
     },
     "execution_count": 56,
     "metadata": {},
     "output_type": "execute_result"
    }
   ],
   "source": []
  },
  {
   "cell_type": "code",
   "execution_count": 60,
   "metadata": {},
   "outputs": [],
   "source": [
    "def generate_prompt(topic, fallacy_type, supporting=True):\n",
    "    example1 = examples[fallacy_type]['example1']\n",
    "    example2 = examples[fallacy_type]['example2'] \n",
    "    \n",
    "    return f\"\"\"You are a helpful assistant. \n",
    "    You will be given a topic. \n",
    "    Your task is to generate a {'supporting' if supporting else 'counter'} {fallacy_type} logical fallacy argument in the context of the topic. \n",
    "    It should not be longer than 25 words. \n",
    "    \n",
    "    {fallacy_type} is defined as: {df_mapping[df_mapping['Original Name']==fallacy_type]['Description'].values}\n",
    "    An example of {fallacy_type} is {df_logic[df_logic['label'] == fallacy_type].sample(1)['text'].values}\n",
    "    Here are few examples of supporting {fallacy_type} fallacies: \n",
    "    {example1}\n",
    "    {example2}\n",
    "    \n",
    "    complete the following and return in json format \n",
    "    {\"{\"}\n",
    "        \"topic\": {topic},\n",
    "        \"fallacy type\": {fallacy_type},\n",
    "        \"{fallacy_type} fallacy support\": <> \n",
    "    {\"}\"}\n",
    "    \"\"\"\n",
    "    \n",
    "    return text"
   ]
  },
  {
   "cell_type": "code",
   "execution_count": 61,
   "metadata": {},
   "outputs": [
    {
     "data": {
      "text/plain": [
       "'Factory farming benefits food production.'"
      ]
     },
     "execution_count": 61,
     "metadata": {},
     "output_type": "execute_result"
    }
   ],
   "source": [
    "topic = df.topic\n",
    "topic.sample(1).values[0]"
   ]
  },
  {
   "cell_type": "code",
   "execution_count": 62,
   "metadata": {},
   "outputs": [
    {
     "name": "stdout",
     "output_type": "stream",
     "text": [
      "Factory farming is a source of animal rights abuses.\n",
      "You are a helpful assistant. \n",
      "    You will be given a topic. \n",
      "    Your task is to generate a supporting fallacy of relevance logical fallacy argument in the context of the topic. \n",
      "    It should not be longer than 25 words. \n",
      "    \n",
      "    fallacy of relevance is defined as: ['introducing premises or conclusions that have nothing to do with the subject matter.']\n",
      "    An example of fallacy of relevance is ['I know you want to imprison me for having murdered my parents, but judge, have mercy on me, I’m an orphan!']\n",
      "    Here are few examples of supporting fallacy of relevance fallacies: \n",
      "    {'topic': 'Social Media and Education', 'fallacy type': 'fallacy of relevance', 'fallacy of relevance support': \"We should ignore the negative impact of social media on students' grades because social media platforms are excellent for communication and networking.\"}\n",
      "    {'topic': 'Speed Limits and Car Color', 'fallacy type': 'fallacy of relevance', 'fallacy of relevance support': \"Speeding is not an issue; the color of your car doesn't affect how fast you drive.\"}\n",
      "    \n",
      "    complete the following and return in json format \n",
      "    {\n",
      "        \"topic\": Factory farming is a source of animal rights abuses.,\n",
      "        \"fallacy type\": fallacy of relevance,\n",
      "        \"fallacy of relevance fallacy support\": <> \n",
      "    }\n",
      "    \n"
     ]
    }
   ],
   "source": [
    "topic =  df.topic.sample(1).values[0]\n",
    "prompt= generate_prompt(topic=topic, fallacy_type='fallacy of relevance')\n",
    "print(topic)\n",
    "print(prompt)"
   ]
  },
  {
   "cell_type": "code",
   "execution_count": 41,
   "metadata": {},
   "outputs": [
    {
     "name": "stdout",
     "output_type": "stream",
     "text": [
      "You are a helpful assistant. \n",
      "    You will be given a topic. \n",
      "    Your task is to generate a supporting false causality logical fallacy argument in the context of the topic. \n",
      "    It should not be longer than 25 words. \n",
      "    \n",
      "    false causality is defined as: ['statement that jumps to a conclusion implying a causal relationship without supporting evidence']\n",
      "    \n",
      "    Here are few examples of false causality: \n",
      "    {'topic': 'Should Mathematics be a Compulsory Course', 'fallacy type': 'false causality', 'false causality fallacy support': 'If Mathematics is made compulsory, then it will lead to guaranteed success in unrelated future endeavors.'}\n",
      "    {'topic': 'Should you invest in renewable technologies', 'fallacy type': 'false causality', 'false causality fallacy support': 'If you invest in renewable technologies, then it will guarantee automatic financial gains without concrete evidence or direct causation.'}\n",
      "    \n",
      "    complete the following and return in json format \n",
      "    {\n",
      "        \"topic\": Television can be hazardous to our kids,\n",
      "        \"fallacy type\": false causality,\n",
      "        \"false causality support\": <> \n",
      "    }\n",
      "    \n"
     ]
    }
   ],
   "source": [
    "print(prompt)"
   ]
  },
  {
   "cell_type": "code",
   "execution_count": null,
   "metadata": {},
   "outputs": [],
   "source": []
  }
 ],
 "metadata": {
  "kernelspec": {
   "display_name": "logicalfallacies",
   "language": "python",
   "name": "python3"
  },
  "language_info": {
   "codemirror_mode": {
    "name": "ipython",
    "version": 3
   },
   "file_extension": ".py",
   "mimetype": "text/x-python",
   "name": "python",
   "nbconvert_exporter": "python",
   "pygments_lexer": "ipython3",
   "version": "3.8.10"
  }
 },
 "nbformat": 4,
 "nbformat_minor": 2
}
