{
 "cells": [
  {
   "cell_type": "code",
   "execution_count": 2,
   "metadata": {},
   "outputs": [],
   "source": [
    "import pandas as pd\n",
    "import os"
   ]
  },
  {
   "cell_type": "code",
   "execution_count": 3,
   "metadata": {},
   "outputs": [],
   "source": [
    "data_dir = '../data/argumentation/'\n",
    "LOGIC_dir = '../data/LOGIC'"
   ]
  },
  {
   "cell_type": "code",
   "execution_count": 61,
   "metadata": {},
   "outputs": [],
   "source": [
    "df_cckg = pd.read_csv(os.path.join(data_dir, 'train_cckg.tsv'), sep='\\t')\n",
    "df_iam = pd.read_csv(os.path.join(data_dir, 'train_iam.tsv'), sep='\\t')"
   ]
  },
  {
   "cell_type": "code",
   "execution_count": 62,
   "metadata": {},
   "outputs": [],
   "source": [
    "examples = pd.read_json(os.path.join(data_dir, 'fallacies_arguments_support.json'))\n",
    "df_mapping = pd.read_csv(os.path.join(LOGIC_dir, 'mappings.csv'))\n",
    "df_logic = pd.read_csv(os.path.join(LOGIC_dir, 'train.csv'))"
   ]
  },
  {
   "cell_type": "code",
   "execution_count": 63,
   "metadata": {},
   "outputs": [],
   "source": [
    "def generate_prompt(topic, fallacy_type, supporting=True):\n",
    "    data = examples[fallacy_type]\n",
    "    supporting_args = [data['exampleArg1'], data['exampleArg2']]\n",
    "    fallacies = [data['example1'], data['example2']]\n",
    "    \n",
    "     \n",
    "    text =  f\"\"\"You are given a topic.  \n",
    "    Your task is to generate a {'supporting' if supporting else 'counter'} {fallacy_type} logical fallacy argument in the context of the topic. \n",
    "    It should not be longer than 25 words. \n",
    "    \n",
    "    {fallacy_type} fallacy is defined as: {examples[fallacy_type]['definition']}\n",
    "    examples of {fallacy_type} fallacy are: \n",
    "    {fallacies[0]}\n",
    "    {fallacies[1]}\n",
    "    \n",
    "    Here is an example of a supporting {fallacy_type} fallacy: \n",
    "    {supporting_args[0]}\n",
    "    \n",
    "    return the following:\n",
    "    {\"{\"}\n",
    "        \"topic\": {topic},\n",
    "        \"fallacy type\": {fallacy_type},\n",
    "        \"{fallacy_type} fallacy support\": <> \n",
    "    {\"}\"}\n",
    "    \"\"\"\n",
    "    return text"
   ]
  },
  {
   "cell_type": "code",
   "execution_count": 79,
   "metadata": {},
   "outputs": [
    {
     "name": "stdout",
     "output_type": "stream",
     "text": [
      "intentional\n",
      "Should vaccination be mandatory\n",
      "\n",
      "You are given a topic.  \n",
      "    Your task is to generate a supporting intentional logical fallacy argument in the context of the topic. \n",
      "    It should not be longer than 25 words. \n",
      "    \n",
      "    intentional fallacy is defined as: some intentional (sometimes subconscious) action/choice to incorrectly support an argument\n",
      "    examples of intentional fallacy are: \n",
      "    Yes, I do think that all drunk drivers should go to prison, but your honor, he is my son! He is a good boy who just made a mistake!\n",
      "    Bill: I think that some people have psychic powers.  Jill: What is your proof? Bill: No one has been able to prove that people do not have psychic powers.\n",
      "    \n",
      "    Here is an example of a supporting intentional fallacy: \n",
      "    {'topic': 'Are aliens real', 'fallacy type': 'intentional fallacy', 'intentional fallacy support': \"You can't prove that aliens don't exist, so they must be real\"}\n",
      "    \n",
      "    return \n",
      "    {\n",
      "        \"topic\": Should vaccination be mandatory,\n",
      "        \"fallacy type\": intentional,\n",
      "        \"intentional fallacy support\": <> \n",
      "    }\n",
      "    \n"
     ]
    }
   ],
   "source": [
    "topic =  df_iam.topic.sample(1).values[0]\n",
    "fallacy_types = examples.keys()\n",
    "fallacy_type = fallacy_types[12]\n",
    "print(fallacy_type)\n",
    "prompt = generate_prompt(topic=topic, fallacy_type=fallacy_type)\n",
    "print(topic)\n",
    "print()\n",
    "print(prompt)"
   ]
  }
 ],
 "metadata": {
  "kernelspec": {
   "display_name": "logicalfallacies",
   "language": "python",
   "name": "python3"
  },
  "language_info": {
   "codemirror_mode": {
    "name": "ipython",
    "version": 3
   },
   "file_extension": ".py",
   "mimetype": "text/x-python",
   "name": "python",
   "nbconvert_exporter": "python",
   "pygments_lexer": "ipython3",
   "version": "3.8.10"
  }
 },
 "nbformat": 4,
 "nbformat_minor": 2
}
