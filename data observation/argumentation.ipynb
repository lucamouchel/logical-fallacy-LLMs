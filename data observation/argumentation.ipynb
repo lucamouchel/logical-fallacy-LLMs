{
 "cells": [
  {
   "cell_type": "code",
   "execution_count": 2,
   "metadata": {},
   "outputs": [],
   "source": [
    "import pandas as pd\n",
    "import os"
   ]
  },
  {
   "cell_type": "code",
   "execution_count": 3,
   "metadata": {},
   "outputs": [],
   "source": [
    "data_dir = '../data/argumentation/'\n",
    "LOGIC_dir = '../data/LOGIC'"
   ]
  },
  {
   "cell_type": "code",
   "execution_count": 4,
   "metadata": {},
   "outputs": [],
   "source": [
    "df_cckg = pd.read_csv(os.path.join(data_dir, 'train_cckg.tsv'), sep='\\t')\n",
    "df_iam = pd.read_csv(os.path.join(data_dir, 'train_iam.tsv'), sep='\\t')"
   ]
  },
  {
   "cell_type": "code",
   "execution_count": 5,
   "metadata": {},
   "outputs": [],
   "source": [
    "examples = pd.read_json(os.path.join(data_dir, 'fallacies_arguments_support.json'))\n",
    "df_mapping = pd.read_csv(os.path.join(LOGIC_dir, 'mappings.csv'))\n",
    "df_logic = pd.read_csv(os.path.join(LOGIC_dir, 'train.csv'))"
   ]
  },
  {
   "cell_type": "code",
   "execution_count": 6,
   "metadata": {},
   "outputs": [
    {
     "data": {
      "text/plain": [
       "Index(['faulty generalization', 'false causality', 'circular reasoning',\n",
       "       'ad populum', 'ad hominem', 'fallacy of logic', 'appeal to emotion',\n",
       "       'false dilemma', 'equivocation', 'fallacy of extension',\n",
       "       'fallacy of relevance', 'fallacy of credibility', 'intentional'],\n",
       "      dtype='object')"
      ]
     },
     "execution_count": 6,
     "metadata": {},
     "output_type": "execute_result"
    }
   ],
   "source": [
    "examples.keys()"
   ]
  },
  {
   "cell_type": "code",
   "execution_count": 7,
   "metadata": {},
   "outputs": [],
   "source": [
    "def generate_prompt(topic, fallacy_type, supporting=True):\n",
    "    data = examples[fallacy_type]\n",
    "    supporting_args = [data['exampleArg1'], data['exampleArg2']]\n",
    "    fallacies = [data['example1'], data['example2']]\n",
    "    \n",
    "     \n",
    "    text =  f\"\"\"You are given a topic.  \n",
    "    Your task is to generate a {'supporting' if supporting else 'counter'} {fallacy_type} logical fallacy argument in the context of the topic. \n",
    "    It should not be longer than 25 words. \n",
    "    \n",
    "    {fallacy_type} fallacy is defined as: {examples[fallacy_type]['definition']}\n",
    "    examples of {fallacy_type} fallacy are: \n",
    "    {fallacies[0]}\n",
    "    {fallacies[1]}\n",
    "        \n",
    "    Here is an example of a supporting {fallacy_type} fallacy: \n",
    "    {supporting_args[0]}\n",
    "    \n",
    "    return the following using this json format:\n",
    "    {\"{\"}\n",
    "        \"topic\": {topic},\n",
    "        \"fallacy type\": {fallacy_type},\n",
    "        \"{fallacy_type} fallacy support\": <> \n",
    "    {\"}\"}\n",
    "    \"\"\"\n",
    "    return text"
   ]
  },
  {
   "cell_type": "code",
   "execution_count": 8,
   "metadata": {},
   "outputs": [
    {
     "data": {
      "text/plain": [
       "'Should the death penalty be abolished'"
      ]
     },
     "execution_count": 8,
     "metadata": {},
     "output_type": "execute_result"
    }
   ],
   "source": [
    "df_iam.topic.sample(1).values[0]"
   ]
  },
  {
   "cell_type": "code",
   "execution_count": 9,
   "metadata": {},
   "outputs": [
    {
     "data": {
      "text/html": [
       "<div>\n",
       "<style scoped>\n",
       "    .dataframe tbody tr th:only-of-type {\n",
       "        vertical-align: middle;\n",
       "    }\n",
       "\n",
       "    .dataframe tbody tr th {\n",
       "        vertical-align: top;\n",
       "    }\n",
       "\n",
       "    .dataframe thead th {\n",
       "        text-align: right;\n",
       "    }\n",
       "</style>\n",
       "<table border=\"1\" class=\"dataframe\">\n",
       "  <thead>\n",
       "    <tr style=\"text-align: right;\">\n",
       "      <th></th>\n",
       "      <th>topic</th>\n",
       "      <th>argument</th>\n",
       "      <th>label</th>\n",
       "      <th>stuff</th>\n",
       "    </tr>\n",
       "  </thead>\n",
       "  <tbody>\n",
       "    <tr>\n",
       "      <th>1929</th>\n",
       "      <td>People should not claim to be gender-neutral.</td>\n",
       "      <td>The idea of gender is a construct we invented ...</td>\n",
       "      <td>counter</td>\n",
       "      <td>(redefine; has property; gender-neutral)(gende...</td>\n",
       "    </tr>\n",
       "  </tbody>\n",
       "</table>\n",
       "</div>"
      ],
      "text/plain": [
       "                                              topic  \\\n",
       "1929  People should not claim to be gender-neutral.   \n",
       "\n",
       "                                               argument    label  \\\n",
       "1929  The idea of gender is a construct we invented ...  counter   \n",
       "\n",
       "                                                  stuff  \n",
       "1929  (redefine; has property; gender-neutral)(gende...  "
      ]
     },
     "execution_count": 9,
     "metadata": {},
     "output_type": "execute_result"
    }
   ],
   "source": [
    "df_cckg[df_cckg.topic=='People should not claim to be gender-neutral.']"
   ]
  },
  {
   "cell_type": "code",
   "execution_count": 10,
   "metadata": {},
   "outputs": [
    {
     "name": "stdout",
     "output_type": "stream",
     "text": [
      "You are given a topic.  \n",
      "    Your task is to generate a supporting faulty generalization logical fallacy argument in the context of the topic. \n",
      "    It should not be longer than 25 words. \n",
      "    \n",
      "    faulty generalization fallacy is defined as: an informal fallacy wherein a conclusion is drawn about all or many instances of a phenomenon on the basis of one or a few instances of that phenomenon. is an example of jumping to conclusions.\n",
      "    examples of faulty generalization fallacy are: \n",
      "    Flight attendants are the nicest people. I should know—I’ve taken two flights.\n",
      "    The two courses I took at UWI were not very interesting. I don't think its a good university.\n",
      "        \n",
      "    Here is an example of a supporting faulty generalization fallacy: \n",
      "    {'topic': 'Misconceptions and Stereotypes Surrounding Poverty', 'fallacy type': 'faulty generalization', 'faulty generalization fallacy support': 'I know four poor families. They are lazy drug addicts. Therefore, all poor people are lazy drug addicts.'}\n",
      "    \n",
      "    return the following using this json format:\n",
      "    {\n",
      "        \"topic\": Missionary work enriches the lives of missionaries.,\n",
      "        \"fallacy type\": faulty generalization,\n",
      "        \"faulty generalization fallacy support\": <> \n",
      "    }\n",
      "    \n",
      "######################################\n",
      "\n",
      "You are given a topic.  \n",
      "    Your task is to generate a supporting false causality logical fallacy argument in the context of the topic. \n",
      "    It should not be longer than 25 words. \n",
      "    \n",
      "    false causality fallacy is defined as: statement that jumps to a conclusion implying a causal relationship without supporting evidence\n",
      "    examples of false causality fallacy are: \n",
      "    The bigger a child's shoe size, the better the child's handwriting\n",
      "    I failed Pre-Cal because my teacher doesn’t like me.\n",
      "        \n",
      "    Here is an example of a supporting false causality fallacy: \n",
      "    {'topic': 'People should not be forced to exercise their right to vote.', 'fallacy type': 'false causality', 'false causality fallacy support': 'If people are made to vote, it goes against their rights. It might result in people voting without knowing much and not really participating in democracy.'}\n",
      "    \n",
      "    return the following using this json format:\n",
      "    {\n",
      "        \"topic\": oppression of countries on others can be protected by using economic sanctions,\n",
      "        \"fallacy type\": false causality,\n",
      "        \"false causality fallacy support\": <> \n",
      "    }\n",
      "    \n",
      "######################################\n",
      "\n",
      "You are given a topic.  \n",
      "    Your task is to generate a supporting circular reasoning logical fallacy argument in the context of the topic. \n",
      "    It should not be longer than 25 words. \n",
      "    \n",
      "    circular reasoning fallacy is defined as: when the end of an argument comes back to the beginning without having proven itself.\n",
      "    examples of circular reasoning fallacy are: \n",
      "    Mr. Casal was very tired because he had no energy.\n",
      "    The news is fake because so much of the news is fake.\n",
      "        \n",
      "    Here is an example of a supporting circular reasoning fallacy: \n",
      "    {'topic': 'People should not be forced to exercise their right to vote.', 'fallacy type': 'circular reasoning', 'circular reasoning fallacy support': \"Forcing people to vote is wrong because it's not right to make them do something they shouldn't be forced to do.\"}\n",
      "    \n",
      "    return the following using this json format:\n",
      "    {\n",
      "        \"topic\": A blockade crates stagnation.,\n",
      "        \"fallacy type\": circular reasoning,\n",
      "        \"circular reasoning fallacy support\": <> \n",
      "    }\n",
      "    \n",
      "######################################\n",
      "\n",
      "You are given a topic.  \n",
      "    Your task is to generate a supporting ad populum logical fallacy argument in the context of the topic. \n",
      "    It should not be longer than 25 words. \n",
      "    \n",
      "    ad populum fallacy is defined as: a fallacious argument which is based on affirming that something is real or better because the majority thinks so\n",
      "    examples of ad populum fallacy are: \n",
      "    Everyone is wearing the new skinny jeans from American Eagle. Are you?\n",
      "    An increasing number of people are keeping ferrets as pets, so they must make wonderful companion animals.\n",
      "        \n",
      "    Here is an example of a supporting ad populum fallacy: \n",
      "    {'topic': 'People should not be forced to exercise their right to vote.', 'fallacy type': 'ad populum', 'ad populum fallacy support': \"Most people believe that forcing citizens to vote goes against their rights. Therefore, it's wrong to compel individuals to vote.\"}\n",
      "    \n",
      "    return the following using this json format:\n",
      "    {\n",
      "        \"topic\": Targeted killing makes the country safer.,\n",
      "        \"fallacy type\": ad populum,\n",
      "        \"ad populum fallacy support\": <> \n",
      "    }\n",
      "    \n",
      "######################################\n",
      "\n",
      "You are given a topic.  \n",
      "    Your task is to generate a supporting ad hominem logical fallacy argument in the context of the topic. \n",
      "    It should not be longer than 25 words. \n",
      "    \n",
      "    ad hominem fallacy is defined as:  instead of addressing someone's argument or position, you irrelevantly attack the person or some aspect of the person who is making the argument.\n",
      "    examples of ad hominem fallacy are: \n",
      "    She is a teacher in a public school, so any claims that she makes about the public school system are biased and untrue.\n",
      "    Vote for me because the other candidate is a cheat and a liar!\n",
      "        \n",
      "    Here is an example of a supporting ad hominem fallacy: \n",
      "    {'topic': 'Mathematics should be a Compulsory Course', 'fallacy type': 'ad hominem', 'ad hominem fallacy support': 'Those who oppose Mathematics as compulsory lack intelligence and are against progress.'}\n",
      "    \n",
      "    return the following using this json format:\n",
      "    {\n",
      "        \"topic\": Libertarians are unrealistically optimistic about their beliefs.,\n",
      "        \"fallacy type\": ad hominem,\n",
      "        \"ad hominem fallacy support\": <> \n",
      "    }\n",
      "    \n",
      "######################################\n",
      "\n",
      "You are given a topic.  \n",
      "    Your task is to generate a supporting fallacy of logic logical fallacy argument in the context of the topic. \n",
      "    It should not be longer than 25 words. \n",
      "    \n",
      "    fallacy of logic fallacy is defined as: an error in the logical structure of an argument.\n",
      "    examples of fallacy of logic fallacy are: \n",
      "    Not tipping your waiter is like stealing money right out of someone's wallet.\n",
      "    Most heroin users started out smoking pot. If you start smoking pot, you’ll end up a heroin user, too.\n",
      "        \n",
      "    Here is an example of a supporting fallacy of logic fallacy: \n",
      "    {'topic': 'Mandatory retirement hurts elderly workers', 'fallacy type': 'fallacy of logic', 'fallacy of logic fallacy support': 'All elderly people who retire at a certain age become less productive. Therefore, making retirement optional will instantly make them more productive.'}\n",
      "    \n",
      "    return the following using this json format:\n",
      "    {\n",
      "        \"topic\": mandating the use of public defenders will help all get the best lawyers.,\n",
      "        \"fallacy type\": fallacy of logic,\n",
      "        \"fallacy of logic fallacy support\": <> \n",
      "    }\n",
      "    \n",
      "######################################\n",
      "\n",
      "You are given a topic.  \n",
      "    Your task is to generate a supporting appeal to emotion logical fallacy argument in the context of the topic. \n",
      "    It should not be longer than 25 words. \n",
      "    \n",
      "    appeal to emotion fallacy is defined as: manipulation of the recipient's emotions in order to win an argument\n",
      "    examples of appeal to emotion fallacy are: \n",
      "    You have to give me a passing grade. I spent 150 hours on that project and missed every party this quarter.\n",
      "    Salesguy: You should definitely buy this car.  You look so good in it -- you look at least ten years younger behind that wheel.Tamera: I’ll take it!\n",
      "        \n",
      "    Here is an example of a supporting appeal to emotion fallacy: \n",
      "    {'topic': 'Banning animal experiments', 'fallacy type': 'appeal to emotion', 'appeal to emotion fallacy support': 'We must stop animal experiments because just the thought of those innocent animals suffering is heartbreaking.'}\n",
      "    \n",
      "    return the following using this json format:\n",
      "    {\n",
      "        \"topic\": A job title doesn't entitle an executive to more money.,\n",
      "        \"fallacy type\": appeal to emotion,\n",
      "        \"appeal to emotion fallacy support\": <> \n",
      "    }\n",
      "    \n",
      "######################################\n",
      "\n",
      "You are given a topic.  \n",
      "    Your task is to generate a supporting false dilemma logical fallacy argument in the context of the topic. \n",
      "    It should not be longer than 25 words. \n",
      "    \n",
      "    false dilemma fallacy is defined as: presenting only two options or sides when there are many options or sides.\n",
      "    examples of false dilemma fallacy are: \n",
      "    Either go to the party or spend the night in your room crying.\n",
      "    You could either pursue your dream job or stay where you are and be miserable for the rest of your life.\n",
      "        \n",
      "    Here is an example of a supporting false dilemma fallacy: \n",
      "    {'topic': 'Social media allows people to connect with people that they otherwise could not connect with', 'fallacy type': 'false dilemma', 'false dilemma fallacy support': \"You can either use social media to connect with people you wouldn't otherwise, or you can remain isolated and disconnected from the world.\"}\n",
      "    \n",
      "    return the following using this json format:\n",
      "    {\n",
      "        \"topic\": Since it promotes believing in the church, it should be banned.,\n",
      "        \"fallacy type\": false dilemma,\n",
      "        \"false dilemma fallacy support\": <> \n",
      "    }\n",
      "    \n",
      "######################################\n",
      "\n",
      "You are given a topic.  \n",
      "    Your task is to generate a supporting equivocation logical fallacy argument in the context of the topic. \n",
      "    It should not be longer than 25 words. \n",
      "    \n",
      "    equivocation fallacy is defined as: when a key term or phrase in an argument is used in an ambiguous way, with one meaning in one portion of the argument and then another meaning in another portion of the argument.\n",
      "    examples of equivocation fallacy are: \n",
      "    The officer told me to freeze but it was too hot out to be freezing, so I was justified in running away.\n",
      "    Science shows us that improved quality of life comes through research and invention.\n",
      "        \n",
      "    Here is an example of a supporting equivocation fallacy: \n",
      "    {'topic': 'Television is valuable.', 'fallacy type': 'equivocation', 'equivocation fallacy support': 'Television is valuable because it holds significant monetary value in the entertainment industry.'}\n",
      "    \n",
      "    return the following using this json format:\n",
      "    {\n",
      "        \"topic\": Using social media can lead to low self esteem and feeling excluded.,\n",
      "        \"fallacy type\": equivocation,\n",
      "        \"equivocation fallacy support\": <> \n",
      "    }\n",
      "    \n",
      "######################################\n",
      "\n",
      "You are given a topic.  \n",
      "    Your task is to generate a supporting fallacy of extension logical fallacy argument in the context of the topic. \n",
      "    It should not be longer than 25 words. \n",
      "    \n",
      "    fallacy of extension fallacy is defined as: attacking an exaggerated or caricatured version of your opponent's position.\n",
      "    examples of fallacy of extension fallacy are: \n",
      "    Person 1: I think pollution is the cause of climate change. Person 2: So you think humans cause hurricanes and tsunamis?\n",
      "    Coronavirus originated in China, therefore all Chinese people are sick.\n",
      "        \n",
      "    Here is an example of a supporting fallacy of extension fallacy: \n",
      "    {'topic': 'restricting animal testing', 'fallacy type': 'fallacy of extension', 'fallacy of extension support': 'Painting restrictions as total ban misrepresents responsible, humane testing practices in scientific research.'}\n",
      "    \n",
      "    return the following using this json format:\n",
      "    {\n",
      "        \"topic\": Public defenders make for fair cases,\n",
      "        \"fallacy type\": fallacy of extension,\n",
      "        \"fallacy of extension fallacy support\": <> \n",
      "    }\n",
      "    \n",
      "######################################\n",
      "\n",
      "You are given a topic.  \n",
      "    Your task is to generate a supporting fallacy of relevance logical fallacy argument in the context of the topic. \n",
      "    It should not be longer than 25 words. \n",
      "    \n",
      "    fallacy of relevance fallacy is defined as: introducing premises or conclusions that have nothing to do with the subject matter.\n",
      "    examples of fallacy of relevance fallacy are: \n",
      "    nan\n",
      "    Why should we be worrying about how the government treats Native people, when people in our city can't get a job?\n",
      "        \n",
      "    Here is an example of a supporting fallacy of relevance fallacy: \n",
      "    {'topic': 'The importance of mathematics in schools', 'fallacy type': 'fallacy of relevance', 'fallacy of relevance fallacy support': 'Mathematics should be mandatory. it builds character, like tasting exotic foods, enriching life experiences.'}\n",
      "    \n",
      "    return the following using this json format:\n",
      "    {\n",
      "        \"topic\": Voting should not be mandated.,\n",
      "        \"fallacy type\": fallacy of relevance,\n",
      "        \"fallacy of relevance fallacy support\": <> \n",
      "    }\n",
      "    \n",
      "######################################\n",
      "\n",
      "You are given a topic.  \n",
      "    Your task is to generate a supporting fallacy of credibility logical fallacy argument in the context of the topic. \n",
      "    It should not be longer than 25 words. \n",
      "    \n",
      "    fallacy of credibility fallacy is defined as: attempts to disprove an argument by attacking the character of the speaker.\n",
      "    examples of fallacy of credibility fallacy are: \n",
      "    Beyond Meat burgers are healthy for us because they do not have any meat in them.\n",
      "    I saw Ashton Kutcher in a commercial for male skin care. He's looking good for his age, so I'm willing to try the product. He must know what he's talking about.\n",
      "        \n",
      "    Here is an example of a supporting fallacy of credibility fallacy: \n",
      "    {'topic': 'banning the death penalty', 'fallacy type': 'fallacy of credibility', 'fallacy of credibility fallacy support': 'We should abolish the death penalty. Many respected people, such as actor Guy Handsome, have publicly stated their opposition to it.'}\n",
      "    \n",
      "    return the following using this json format:\n",
      "    {\n",
      "        \"topic\": Parades that celebrate cisgender beliefs are bad for society.,\n",
      "        \"fallacy type\": fallacy of credibility,\n",
      "        \"fallacy of credibility fallacy support\": <> \n",
      "    }\n",
      "    \n",
      "######################################\n",
      "\n",
      "You are given a topic.  \n",
      "    Your task is to generate a supporting intentional logical fallacy argument in the context of the topic. \n",
      "    It should not be longer than 25 words. \n",
      "    \n",
      "    intentional fallacy is defined as: some intentional (sometimes subconscious) action/choice to incorrectly support an argument\n",
      "    examples of intentional fallacy are: \n",
      "    Yes, I do think that all drunk drivers should go to prison, but your honor, he is my son! He is a good boy who just made a mistake!\n",
      "    Bill: I think that some people have psychic powers.  Jill: What is your proof? Bill: No one has been able to prove that people do not have psychic powers.\n",
      "        \n",
      "    Here is an example of a supporting intentional fallacy: \n",
      "    {'topic': 'Are aliens real', 'fallacy type': 'intentional fallacy', 'intentional fallacy support': \"You can't prove that aliens don't exist, so they must be real\"}\n",
      "    \n",
      "    return the following using this json format:\n",
      "    {\n",
      "        \"topic\": Three-strike laws help reduce crime rates.,\n",
      "        \"fallacy type\": intentional,\n",
      "        \"intentional fallacy support\": <> \n",
      "    }\n",
      "    \n",
      "######################################\n",
      "\n"
     ]
    }
   ],
   "source": [
    "fallacy_types = examples.keys()\n",
    "\n",
    "for fallacy_type in fallacy_types:\n",
    "    topic =  df_cckg.topic.sample(1).values[0]\n",
    "    prompt = generate_prompt(topic=topic, fallacy_type=fallacy_type)\n",
    "    print(prompt)\n",
    "    print(\"######################################\\n\")"
   ]
  },
  {
   "cell_type": "markdown",
   "metadata": {},
   "source": [
    "if we ask to generate different supporting fallacy arguments -- can we select those that are most relevant. Say we ask to create 3 supporting arguments, can we say okay, argument 2 is best given the arguments we have on this topic because maybe semantically it's better?"
   ]
  },
  {
   "cell_type": "code",
   "execution_count": 11,
   "metadata": {},
   "outputs": [
    {
     "name": "stdout",
     "output_type": "stream",
     "text": [
      "model not found, loading from api\n"
     ]
    }
   ],
   "source": [
    "from gensim.models import KeyedVectors\n",
    "import gensim.downloader as api\n",
    "try:\n",
    "    model = KeyedVectors.load('data/glove.model.d2v')\n",
    "except:\n",
    "    print(\"model not found, loading from api\")\n",
    "    model = api.load(\"glove-wiki-gigaword-50\")"
   ]
  },
  {
   "cell_type": "code",
   "execution_count": 12,
   "metadata": {},
   "outputs": [
    {
     "data": {
      "text/html": [
       "<div>\n",
       "<style scoped>\n",
       "    .dataframe tbody tr th:only-of-type {\n",
       "        vertical-align: middle;\n",
       "    }\n",
       "\n",
       "    .dataframe tbody tr th {\n",
       "        vertical-align: top;\n",
       "    }\n",
       "\n",
       "    .dataframe thead th {\n",
       "        text-align: right;\n",
       "    }\n",
       "</style>\n",
       "<table border=\"1\" class=\"dataframe\">\n",
       "  <thead>\n",
       "    <tr style=\"text-align: right;\">\n",
       "      <th></th>\n",
       "      <th>topic</th>\n",
       "      <th>argument</th>\n",
       "      <th>label</th>\n",
       "      <th>stuff</th>\n",
       "    </tr>\n",
       "  </thead>\n",
       "  <tbody>\n",
       "    <tr>\n",
       "      <th>0</th>\n",
       "      <td>Cannabis should be legal.</td>\n",
       "      <td>It's not a bad thing to make marijuana more av...</td>\n",
       "      <td>support</td>\n",
       "      <td>(cannabis; synonym of; marijuana)(legal; cause...</td>\n",
       "    </tr>\n",
       "    <tr>\n",
       "      <th>1</th>\n",
       "      <td>Women should not be in combat.</td>\n",
       "      <td>Women and men have the same rights.</td>\n",
       "      <td>counter</td>\n",
       "      <td>(women and men; is a; citizens)(citizens; caus...</td>\n",
       "    </tr>\n",
       "  </tbody>\n",
       "</table>\n",
       "</div>"
      ],
      "text/plain": [
       "                            topic  \\\n",
       "0       Cannabis should be legal.   \n",
       "1  Women should not be in combat.   \n",
       "\n",
       "                                            argument    label  \\\n",
       "0  It's not a bad thing to make marijuana more av...  support   \n",
       "1                Women and men have the same rights.  counter   \n",
       "\n",
       "                                               stuff  \n",
       "0  (cannabis; synonym of; marijuana)(legal; cause...  \n",
       "1  (women and men; is a; citizens)(citizens; caus...  "
      ]
     },
     "execution_count": 12,
     "metadata": {},
     "output_type": "execute_result"
    }
   ],
   "source": [
    "df_cckg.head(2)"
   ]
  },
  {
   "cell_type": "code",
   "execution_count": 13,
   "metadata": {},
   "outputs": [],
   "source": [
    "import numpy as np\n",
    "import scipy\n",
    "import smart_open\n",
    "import string\n",
    "topic = 'Adopting gender-neutral language is too costly of a venture.'\n",
    "\n",
    "def preprocess(text):\n",
    "    translator = str.maketrans(string.punctuation, ' ' * len(string.punctuation))\n",
    "    return text.translate(translator)\n",
    "\n",
    "def get_vector(sentence):\n",
    "    vec = []\n",
    "    for word in sentence.split(' '):\n",
    "        try:\n",
    "            vec.append(model[word])\n",
    "        except:\n",
    "            continue\n",
    "    return np.mean(vec, axis=0)\n",
    "    \n",
    "    \n",
    "relevant_topics = df_cckg[df_cckg.topic==topic]\n",
    "vecs = []\n",
    "for arg in relevant_topics.argument:\n",
    "    vec = get_vector(preprocess(arg))\n",
    "    vecs.append(vec)\n",
    "\n",
    "vecs = np.mean(vecs, axis=0)"
   ]
  },
  {
   "cell_type": "code",
   "execution_count": 14,
   "metadata": {},
   "outputs": [],
   "source": [
    "def cosine_sim(vec1, vec2):\n",
    "    return np.dot(vec1, vec2)/(np.linalg.norm(vec1)*np.linalg.norm(vec2))"
   ]
  },
  {
   "cell_type": "code",
   "execution_count": 15,
   "metadata": {},
   "outputs": [
    {
     "data": {
      "text/plain": [
       "0.82103854"
      ]
     },
     "execution_count": 15,
     "metadata": {},
     "output_type": "execute_result"
    }
   ],
   "source": [
    "first = \"Developing gender-neutral terms requires extensive resources without ensuring effective communication or societal acceptance.\"\n",
    "second = \"Switching to gender-neutral language poses financial burdens on educational institutions without guaranteed academic improvements.\"\n",
    "third = \"Enforcing gender-neutral language policies entails excessive costs, ignoring traditional linguistic structures and cultural norms.\"\n",
    "\n",
    "first_vec = get_vector(preprocess(third))\n",
    "cosine_sim(first_vec, vecs)"
   ]
  },
  {
   "cell_type": "code",
   "execution_count": 16,
   "metadata": {},
   "outputs": [
    {
     "data": {
      "text/plain": [
       "array([ 3.37170541e-01, -1.65743586e-02, -5.24969026e-03, -1.27383307e-01,\n",
       "        2.58584231e-01,  2.85847813e-01, -2.21693918e-01, -3.34187716e-01,\n",
       "       -2.20025167e-01, -1.35492282e-02,  1.53116912e-01,  2.16282845e-01,\n",
       "       -8.98733735e-02, -2.23413020e-01,  4.35957462e-01,  2.87058592e-01,\n",
       "       -7.97293335e-02, -2.51641810e-01,  7.70857409e-02, -3.33267689e-01,\n",
       "        1.18010938e-02, -1.34714618e-02,  2.52462804e-01, -4.59917672e-02,\n",
       "        9.56015959e-02, -1.47948301e+00, -4.00172561e-01, -1.80584453e-02,\n",
       "        1.21767074e-02, -2.22831249e-01,  3.08530736e+00, -8.13211277e-02,\n",
       "       -3.70791376e-01, -4.12182927e-01, -1.16167963e-03, -1.36338204e-01,\n",
       "        6.34142905e-02, -2.73390859e-02, -1.02138385e-01, -2.12419689e-01,\n",
       "       -2.90850699e-02,  5.30688278e-02,  1.44261092e-01,  2.40551621e-01,\n",
       "       -1.67453468e-01, -3.57831642e-02, -2.38804482e-02,  3.02665710e-01,\n",
       "       -6.65420070e-02, -8.69345218e-02], dtype=float32)"
      ]
     },
     "execution_count": 16,
     "metadata": {},
     "output_type": "execute_result"
    }
   ],
   "source": [
    "vecs"
   ]
  }
 ],
 "metadata": {
  "kernelspec": {
   "display_name": "logicalfallacies",
   "language": "python",
   "name": "python3"
  },
  "language_info": {
   "codemirror_mode": {
    "name": "ipython",
    "version": 3
   },
   "file_extension": ".py",
   "mimetype": "text/x-python",
   "name": "python",
   "nbconvert_exporter": "python",
   "pygments_lexer": "ipython3",
   "version": "3.8.10"
  }
 },
 "nbformat": 4,
 "nbformat_minor": 2
}
