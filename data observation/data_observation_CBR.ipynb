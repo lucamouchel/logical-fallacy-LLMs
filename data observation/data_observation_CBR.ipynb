{
 "cells": [
  {
   "cell_type": "code",
   "execution_count": 1,
   "metadata": {},
   "outputs": [],
   "source": [
    "import pandas as pd\n",
    "pd.set_option('display.max_colwidth', 100)"
   ]
  },
  {
   "cell_type": "code",
   "execution_count": 2,
   "metadata": {},
   "outputs": [],
   "source": [
    "df_mapping = pd.read_csv('../data/mappings.csv')"
   ]
  },
  {
   "cell_type": "code",
   "execution_count": 3,
   "metadata": {},
   "outputs": [
    {
     "data": {
      "text/html": [
       "<div>\n",
       "<style scoped>\n",
       "    .dataframe tbody tr th:only-of-type {\n",
       "        vertical-align: middle;\n",
       "    }\n",
       "\n",
       "    .dataframe tbody tr th {\n",
       "        vertical-align: top;\n",
       "    }\n",
       "\n",
       "    .dataframe thead th {\n",
       "        text-align: right;\n",
       "    }\n",
       "</style>\n",
       "<table border=\"1\" class=\"dataframe\">\n",
       "  <thead>\n",
       "    <tr style=\"text-align: right;\">\n",
       "      <th></th>\n",
       "      <th>label</th>\n",
       "      <th>text</th>\n",
       "    </tr>\n",
       "  </thead>\n",
       "  <tbody>\n",
       "    <tr>\n",
       "      <th>0</th>\n",
       "      <td>ad hominem</td>\n",
       "      <td>He was born to Catholic parents and raised as a Catholic until his confirmation in 8th grade.  Therefore, he is bound to want to defend some Catholic traditions and, therefore,...</td>\n",
       "    </tr>\n",
       "    <tr>\n",
       "      <th>1</th>\n",
       "      <td>ad populum</td>\n",
       "      <td>Justin Beiber wears Ray Bans, so you should buy a pair to wear in the sun.</td>\n",
       "    </tr>\n",
       "    <tr>\n",
       "      <th>2</th>\n",
       "      <td>appeal to emotion</td>\n",
       "      <td>“All those opposed to my arguments for the opening of a new department, signify by saying, ‘I quit.’\"</td>\n",
       "    </tr>\n",
       "    <tr>\n",
       "      <th>3</th>\n",
       "      <td>circular reasoning</td>\n",
       "      <td>Mr. Casal was very tired because he had no energy.</td>\n",
       "    </tr>\n",
       "    <tr>\n",
       "      <th>4</th>\n",
       "      <td>equivocation</td>\n",
       "      <td>All living beings come from other living beings.  Therefore, the first forms of life must have come from a living being.  That living being is God.</td>\n",
       "    </tr>\n",
       "    <tr>\n",
       "      <th>5</th>\n",
       "      <td>fallacy of credibility</td>\n",
       "      <td>“four out of five dentists agree that brushing your teeth makes your life meaningful”</td>\n",
       "    </tr>\n",
       "    <tr>\n",
       "      <th>6</th>\n",
       "      <td>fallacy of extension</td>\n",
       "      <td>If you don't drive a car, you hate the Earth.</td>\n",
       "    </tr>\n",
       "    <tr>\n",
       "      <th>7</th>\n",
       "      <td>fallacy of logic</td>\n",
       "      <td>\"Politicians and diapers must be changed often, and for the same reason.\"</td>\n",
       "    </tr>\n",
       "    <tr>\n",
       "      <th>8</th>\n",
       "      <td>fallacy of relevance</td>\n",
       "      <td>Service Tech: Your car could use some new tires. Bart: You have a financial interest in selling me tires, why should I trust you? Service Tech: You brought your car to me to ha...</td>\n",
       "    </tr>\n",
       "    <tr>\n",
       "      <th>9</th>\n",
       "      <td>false causality</td>\n",
       "      <td>The accident was caused by the taxi parking in the street</td>\n",
       "    </tr>\n",
       "    <tr>\n",
       "      <th>10</th>\n",
       "      <td>false dilemma</td>\n",
       "      <td>People either like coffee or hate it.</td>\n",
       "    </tr>\n",
       "    <tr>\n",
       "      <th>11</th>\n",
       "      <td>faulty generalization</td>\n",
       "      <td>10 of the last 14 National Spelling Bee Champions have been Indian American. Indian Americans must all be great spellers!</td>\n",
       "    </tr>\n",
       "    <tr>\n",
       "      <th>12</th>\n",
       "      <td>intentional</td>\n",
       "      <td>Did the pollution you caused increase or decrease your profits?</td>\n",
       "    </tr>\n",
       "  </tbody>\n",
       "</table>\n",
       "</div>"
      ],
      "text/plain": [
       "                     label  \\\n",
       "0               ad hominem   \n",
       "1               ad populum   \n",
       "2        appeal to emotion   \n",
       "3       circular reasoning   \n",
       "4             equivocation   \n",
       "5   fallacy of credibility   \n",
       "6     fallacy of extension   \n",
       "7         fallacy of logic   \n",
       "8     fallacy of relevance   \n",
       "9          false causality   \n",
       "10           false dilemma   \n",
       "11   faulty generalization   \n",
       "12             intentional   \n",
       "\n",
       "                                                                                                                                                                                   text  \n",
       "0   He was born to Catholic parents and raised as a Catholic until his confirmation in 8th grade.  Therefore, he is bound to want to defend some Catholic traditions and, therefore,...  \n",
       "1                                                                                                            Justin Beiber wears Ray Bans, so you should buy a pair to wear in the sun.  \n",
       "2                                                                                 “All those opposed to my arguments for the opening of a new department, signify by saying, ‘I quit.’\"  \n",
       "3                                                                                                                                    Mr. Casal was very tired because he had no energy.  \n",
       "4                                   All living beings come from other living beings.  Therefore, the first forms of life must have come from a living being.  That living being is God.  \n",
       "5                                                                                                 “four out of five dentists agree that brushing your teeth makes your life meaningful”  \n",
       "6                                                                                                                                         If you don't drive a car, you hate the Earth.  \n",
       "7                                                                                                             \"Politicians and diapers must be changed often, and for the same reason.\"  \n",
       "8   Service Tech: Your car could use some new tires. Bart: You have a financial interest in selling me tires, why should I trust you? Service Tech: You brought your car to me to ha...  \n",
       "9                                                                                                                             The accident was caused by the taxi parking in the street  \n",
       "10                                                                                                                                                People either like coffee or hate it.  \n",
       "11                                                            10 of the last 14 National Spelling Bee Champions have been Indian American. Indian Americans must all be great spellers!  \n",
       "12                                                                                                                      Did the pollution you caused increase or decrease your profits?  "
      ]
     },
     "execution_count": 3,
     "metadata": {},
     "output_type": "execute_result"
    }
   ],
   "source": [
    "df = pd.read_csv('../data/train.csv')\n",
    "pd.set_option('display.max_colwidth', 180)\n",
    "df.groupby('label')['text'].first().reset_index()"
   ]
  },
  {
   "cell_type": "markdown",
   "metadata": {},
   "source": [
    "### How CBR augments the original Data"
   ]
  },
  {
   "cell_type": "markdown",
   "metadata": {},
   "source": [
    "with examples"
   ]
  },
  {
   "cell_type": "code",
   "execution_count": 4,
   "metadata": {},
   "outputs": [
    {
     "name": "stdout",
     "output_type": "stream",
     "text": [
      "ad hominem: He was born to Catholic parents and raised as a Catholic until his confirmation in 8th grade.  Therefore, he is bound to want to defend some Catholic traditions and, therefore, cannot be taken seriously.\n"
     ]
    }
   ],
   "source": [
    "sample = df.iloc[8]\n",
    "print(f\"{sample['label']}: {sample['text']}\")"
   ]
  },
  {
   "cell_type": "markdown",
   "metadata": {},
   "source": [
    "They provide explanatations, goals of the premise and a counter argument"
   ]
  },
  {
   "cell_type": "code",
   "execution_count": 5,
   "metadata": {},
   "outputs": [
    {
     "data": {
      "text/plain": [
       "' It presents a generalization about a group of people (in this case, Catholics) without sufficient evidence to support the claim.  it relies on oversimplification and ignores the diversity and individuality within the group. It is also problematic because it perpetuates negative stereotypes and can lead to discrimination and prejudice. \\n'"
      ]
     },
     "execution_count": 5,
     "metadata": {},
     "output_type": "execute_result"
    }
   ],
   "source": [
    "sample['explanations']"
   ]
  },
  {
   "cell_type": "code",
   "execution_count": 6,
   "metadata": {},
   "outputs": [
    {
     "data": {
      "text/plain": [
       "'It\\'s possible that the goal of the argument \"He was born to Catholic parents and raised as a Catholic until his confirmation in 8th grade.  Therefore, he is bound to want to defend some Catholic traditions and, therefore, cannot be taken seriously.\" is to discredit the person being discussed. The speaker may be trying to convince the listener that the person being discussed is biased and cannot be trusted, or they may be trying to persuade the listener to disregard the person\\'s opinions.\\n'"
      ]
     },
     "execution_count": 6,
     "metadata": {},
     "output_type": "execute_result"
    }
   ],
   "source": [
    "sample['goals']"
   ]
  },
  {
   "cell_type": "code",
   "execution_count": 7,
   "metadata": {},
   "outputs": [
    {
     "data": {
      "text/plain": [
       "\"It's not fair to assume that someone's religious upbringing will automatically influence their views on a particular issue. It's possible that someone can have a nuanced or balanced view that doesn't align with their religious upbringing.\\n\""
      ]
     },
     "execution_count": 7,
     "metadata": {},
     "output_type": "execute_result"
    }
   ],
   "source": [
    "sample['counter']"
   ]
  }
 ],
 "metadata": {
  "kernelspec": {
   "display_name": "title",
   "language": "python",
   "name": "python3"
  },
  "language_info": {
   "codemirror_mode": {
    "name": "ipython",
    "version": 3
   },
   "file_extension": ".py",
   "mimetype": "text/x-python",
   "name": "python",
   "nbconvert_exporter": "python",
   "pygments_lexer": "ipython3",
   "version": "3.9.18"
  },
  "orig_nbformat": 4
 },
 "nbformat": 4,
 "nbformat_minor": 2
}
