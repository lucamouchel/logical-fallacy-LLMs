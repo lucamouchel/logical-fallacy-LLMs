{
 "cells": [
  {
   "cell_type": "code",
   "execution_count": 1,
   "metadata": {},
   "outputs": [],
   "source": [
    "import pandas as pd\n",
    "pd.set_option('display.max_colwidth', 1000)"
   ]
  },
  {
   "cell_type": "code",
   "execution_count": 2,
   "metadata": {},
   "outputs": [],
   "source": [
    "df_mapping = pd.read_csv('../data/LOGIC/mappings.csv')"
   ]
  },
  {
   "cell_type": "code",
   "execution_count": 3,
   "metadata": {},
   "outputs": [
    {
     "data": {
      "text/plain": [
       "array(['faulty generalization', 'false causality', 'circular reasoning',\n",
       "       'ad populum', 'ad hominem', 'fallacy of logic',\n",
       "       'appeal to emotion', 'false dilemma', 'equivocation',\n",
       "       'fallacy of extension', 'fallacy of relevance',\n",
       "       'fallacy of credibility', 'miscellaneous', 'intentional'],\n",
       "      dtype=object)"
      ]
     },
     "execution_count": 3,
     "metadata": {},
     "output_type": "execute_result"
    }
   ],
   "source": [
    "df_mapping['Original Name'].values"
   ]
  },
  {
   "cell_type": "markdown",
   "metadata": {},
   "source": [
    "Mapping types of logical fallacies to understandable language and their descriptions"
   ]
  },
  {
   "cell_type": "code",
   "execution_count": 8,
   "metadata": {},
   "outputs": [
    {
     "data": {
      "text/plain": [
       "array([['faulty generalization'],\n",
       "       ['false causality'],\n",
       "       ['circular reasoning'],\n",
       "       ['ad populum'],\n",
       "       ['ad hominem'],\n",
       "       ['fallacy of logic'],\n",
       "       ['appeal to emotion'],\n",
       "       ['false dilemma'],\n",
       "       ['equivocation'],\n",
       "       ['fallacy of extension'],\n",
       "       ['fallacy of relevance'],\n",
       "       ['fallacy of credibility'],\n",
       "       ['miscellaneous'],\n",
       "       ['intentional']], dtype=object)"
      ]
     },
     "execution_count": 8,
     "metadata": {},
     "output_type": "execute_result"
    }
   ],
   "source": [
    "df_mapping[['Original Name']].values"
   ]
  },
  {
   "cell_type": "code",
   "execution_count": 4,
   "metadata": {},
   "outputs": [
    {
     "data": {
      "text/html": [
       "<div>\n",
       "<style scoped>\n",
       "    .dataframe tbody tr th:only-of-type {\n",
       "        vertical-align: middle;\n",
       "    }\n",
       "\n",
       "    .dataframe tbody tr th {\n",
       "        vertical-align: top;\n",
       "    }\n",
       "\n",
       "    .dataframe thead th {\n",
       "        text-align: right;\n",
       "    }\n",
       "</style>\n",
       "<table border=\"1\" class=\"dataframe\">\n",
       "  <thead>\n",
       "    <tr style=\"text-align: right;\">\n",
       "      <th></th>\n",
       "      <th>Original Name</th>\n",
       "      <th>Understandable Name</th>\n",
       "      <th>Description</th>\n",
       "    </tr>\n",
       "  </thead>\n",
       "  <tbody>\n",
       "    <tr>\n",
       "      <th>0</th>\n",
       "      <td>faulty generalization</td>\n",
       "      <td>faulty generalization</td>\n",
       "      <td>an informal fallacy wherein a conclusion is drawn about all or many instances of a phenomenon on the basis of one or a few instances of that phenomenon. is an example of jumping to conclusions.</td>\n",
       "    </tr>\n",
       "    <tr>\n",
       "      <th>1</th>\n",
       "      <td>false causality</td>\n",
       "      <td>false causality</td>\n",
       "      <td>statement that jumps to a conclusion implying a causal relationship without supporting evidence</td>\n",
       "    </tr>\n",
       "    <tr>\n",
       "      <th>2</th>\n",
       "      <td>circular reasoning</td>\n",
       "      <td>circular reasoning</td>\n",
       "      <td>when the end of an argument comes back to the beginning without having proven itself.</td>\n",
       "    </tr>\n",
       "    <tr>\n",
       "      <th>3</th>\n",
       "      <td>ad populum</td>\n",
       "      <td>appeal to popularity</td>\n",
       "      <td>a fallacious argument which is based on affirming that something is real or better because the majority thinks so</td>\n",
       "    </tr>\n",
       "    <tr>\n",
       "      <th>4</th>\n",
       "      <td>ad hominem</td>\n",
       "      <td>personal attack</td>\n",
       "      <td>instead of addressing someone's argument or position, you irrelevantly attack the person or some aspect of the person who is making the argument.</td>\n",
       "    </tr>\n",
       "    <tr>\n",
       "      <th>5</th>\n",
       "      <td>fallacy of logic</td>\n",
       "      <td>logical error</td>\n",
       "      <td>an error in the logical structure of an argument.</td>\n",
       "    </tr>\n",
       "    <tr>\n",
       "      <th>6</th>\n",
       "      <td>appeal to emotion</td>\n",
       "      <td>appeal to emotion</td>\n",
       "      <td>manipulation of the recipient's emotions in order to win an argument</td>\n",
       "    </tr>\n",
       "    <tr>\n",
       "      <th>7</th>\n",
       "      <td>false dilemma</td>\n",
       "      <td>excluding viable alternatives</td>\n",
       "      <td>presenting only two options or sides when there are many options or sides.</td>\n",
       "    </tr>\n",
       "    <tr>\n",
       "      <th>8</th>\n",
       "      <td>equivocation</td>\n",
       "      <td>use of ambiguous language</td>\n",
       "      <td>when a key term or phrase in an argument is used in an ambiguous way, with one meaning in one portion of the argument and then another meaning in another portion of the argument.</td>\n",
       "    </tr>\n",
       "    <tr>\n",
       "      <th>9</th>\n",
       "      <td>fallacy of extension</td>\n",
       "      <td>exaggerating</td>\n",
       "      <td>attacking an exaggerated or caricatured version of your opponent's position.</td>\n",
       "    </tr>\n",
       "    <tr>\n",
       "      <th>10</th>\n",
       "      <td>fallacy of relevance</td>\n",
       "      <td>irrelevant argument</td>\n",
       "      <td>introducing premises or conclusions that have nothing to do with the subject matter.</td>\n",
       "    </tr>\n",
       "    <tr>\n",
       "      <th>11</th>\n",
       "      <td>fallacy of credibility</td>\n",
       "      <td>attacking the character of the speaker</td>\n",
       "      <td>attempts to disprove an argument by attacking the character of the speaker.</td>\n",
       "    </tr>\n",
       "    <tr>\n",
       "      <th>12</th>\n",
       "      <td>miscellaneous</td>\n",
       "      <td>miscellaneous</td>\n",
       "      <td>miscellaneous</td>\n",
       "    </tr>\n",
       "    <tr>\n",
       "      <th>13</th>\n",
       "      <td>intentional</td>\n",
       "      <td>intentionally wrong argument</td>\n",
       "      <td>some intentional (sometimes subconscious) action/choice to incorrectly support an argument</td>\n",
       "    </tr>\n",
       "  </tbody>\n",
       "</table>\n",
       "</div>"
      ],
      "text/plain": [
       "             Original Name                     Understandable Name  \\\n",
       "0    faulty generalization                   faulty generalization   \n",
       "1          false causality                         false causality   \n",
       "2       circular reasoning                      circular reasoning   \n",
       "3               ad populum                    appeal to popularity   \n",
       "4               ad hominem                         personal attack   \n",
       "5         fallacy of logic                           logical error   \n",
       "6        appeal to emotion                       appeal to emotion   \n",
       "7            false dilemma           excluding viable alternatives   \n",
       "8             equivocation               use of ambiguous language   \n",
       "9     fallacy of extension                            exaggerating   \n",
       "10    fallacy of relevance                     irrelevant argument   \n",
       "11  fallacy of credibility  attacking the character of the speaker   \n",
       "12           miscellaneous                           miscellaneous   \n",
       "13             intentional            intentionally wrong argument   \n",
       "\n",
       "                                                                                                                                                                                          Description  \n",
       "0   an informal fallacy wherein a conclusion is drawn about all or many instances of a phenomenon on the basis of one or a few instances of that phenomenon. is an example of jumping to conclusions.  \n",
       "1                                                                                                     statement that jumps to a conclusion implying a causal relationship without supporting evidence  \n",
       "2                                                                                                               when the end of an argument comes back to the beginning without having proven itself.  \n",
       "3                                                                                   a fallacious argument which is based on affirming that something is real or better because the majority thinks so  \n",
       "4                                                   instead of addressing someone's argument or position, you irrelevantly attack the person or some aspect of the person who is making the argument.  \n",
       "5                                                                                                                                                   an error in the logical structure of an argument.  \n",
       "6                                                                                                                                manipulation of the recipient's emotions in order to win an argument  \n",
       "7                                                                                                                          presenting only two options or sides when there are many options or sides.  \n",
       "8                  when a key term or phrase in an argument is used in an ambiguous way, with one meaning in one portion of the argument and then another meaning in another portion of the argument.  \n",
       "9                                                                                                                        attacking an exaggerated or caricatured version of your opponent's position.  \n",
       "10                                                                                                               introducing premises or conclusions that have nothing to do with the subject matter.  \n",
       "11                                                                                                                        attempts to disprove an argument by attacking the character of the speaker.  \n",
       "12                                                                                                                                                                                      miscellaneous  \n",
       "13                                                                                                         some intentional (sometimes subconscious) action/choice to incorrectly support an argument  "
      ]
     },
     "execution_count": 4,
     "metadata": {},
     "output_type": "execute_result"
    }
   ],
   "source": [
    "df_mapping[['Original Name', 'Understandable Name', 'Description']]"
   ]
  },
  {
   "cell_type": "markdown",
   "metadata": {},
   "source": [
    "Some examples"
   ]
  },
  {
   "cell_type": "code",
   "execution_count": 6,
   "metadata": {},
   "outputs": [
    {
     "ename": "FileNotFoundError",
     "evalue": "[Errno 2] No such file or directory: '../data/train.csv'",
     "output_type": "error",
     "traceback": [
      "\u001b[0;31m---------------------------------------------------------------------------\u001b[0m",
      "\u001b[0;31mFileNotFoundError\u001b[0m                         Traceback (most recent call last)",
      "\u001b[1;32m/root/lucaM/LogicalFallacyRepo/logical-fallacy-LLMs/data observation/data_observation.ipynb Cell 7\u001b[0m line \u001b[0;36m1\n\u001b[0;32m----> <a href='vscode-notebook-cell://ssh-remote%2Biccluster042.iccluster.epfl.ch/root/lucaM/LogicalFallacyRepo/logical-fallacy-LLMs/data%20observation/data_observation.ipynb#W6sdnNjb2RlLXJlbW90ZQ%3D%3D?line=0'>1</a>\u001b[0m df \u001b[39m=\u001b[39m pd\u001b[39m.\u001b[39;49mread_csv(\u001b[39m'\u001b[39;49m\u001b[39m../data/train.csv\u001b[39;49m\u001b[39m'\u001b[39;49m)\n\u001b[1;32m      <a href='vscode-notebook-cell://ssh-remote%2Biccluster042.iccluster.epfl.ch/root/lucaM/LogicalFallacyRepo/logical-fallacy-LLMs/data%20observation/data_observation.ipynb#W6sdnNjb2RlLXJlbW90ZQ%3D%3D?line=1'>2</a>\u001b[0m pd\u001b[39m.\u001b[39mset_option(\u001b[39m'\u001b[39m\u001b[39mdisplay.max_colwidth\u001b[39m\u001b[39m'\u001b[39m, \u001b[39m180\u001b[39m)\n\u001b[1;32m      <a href='vscode-notebook-cell://ssh-remote%2Biccluster042.iccluster.epfl.ch/root/lucaM/LogicalFallacyRepo/logical-fallacy-LLMs/data%20observation/data_observation.ipynb#W6sdnNjb2RlLXJlbW90ZQ%3D%3D?line=2'>3</a>\u001b[0m df\u001b[39m.\u001b[39mgroupby(\u001b[39m'\u001b[39m\u001b[39mlabel\u001b[39m\u001b[39m'\u001b[39m)[\u001b[39m'\u001b[39m\u001b[39mtext\u001b[39m\u001b[39m'\u001b[39m]\u001b[39m.\u001b[39mfirst()\u001b[39m.\u001b[39mreset_index()\n",
      "File \u001b[0;32m~/lucaM/LogicalFallacyRepo/logical-fallacy-LLMs/logicalfallacies/lib/python3.8/site-packages/pandas/io/parsers/readers.py:912\u001b[0m, in \u001b[0;36mread_csv\u001b[0;34m(filepath_or_buffer, sep, delimiter, header, names, index_col, usecols, dtype, engine, converters, true_values, false_values, skipinitialspace, skiprows, skipfooter, nrows, na_values, keep_default_na, na_filter, verbose, skip_blank_lines, parse_dates, infer_datetime_format, keep_date_col, date_parser, date_format, dayfirst, cache_dates, iterator, chunksize, compression, thousands, decimal, lineterminator, quotechar, quoting, doublequote, escapechar, comment, encoding, encoding_errors, dialect, on_bad_lines, delim_whitespace, low_memory, memory_map, float_precision, storage_options, dtype_backend)\u001b[0m\n\u001b[1;32m    899\u001b[0m kwds_defaults \u001b[39m=\u001b[39m _refine_defaults_read(\n\u001b[1;32m    900\u001b[0m     dialect,\n\u001b[1;32m    901\u001b[0m     delimiter,\n\u001b[0;32m   (...)\u001b[0m\n\u001b[1;32m    908\u001b[0m     dtype_backend\u001b[39m=\u001b[39mdtype_backend,\n\u001b[1;32m    909\u001b[0m )\n\u001b[1;32m    910\u001b[0m kwds\u001b[39m.\u001b[39mupdate(kwds_defaults)\n\u001b[0;32m--> 912\u001b[0m \u001b[39mreturn\u001b[39;00m _read(filepath_or_buffer, kwds)\n",
      "File \u001b[0;32m~/lucaM/LogicalFallacyRepo/logical-fallacy-LLMs/logicalfallacies/lib/python3.8/site-packages/pandas/io/parsers/readers.py:577\u001b[0m, in \u001b[0;36m_read\u001b[0;34m(filepath_or_buffer, kwds)\u001b[0m\n\u001b[1;32m    574\u001b[0m _validate_names(kwds\u001b[39m.\u001b[39mget(\u001b[39m\"\u001b[39m\u001b[39mnames\u001b[39m\u001b[39m\"\u001b[39m, \u001b[39mNone\u001b[39;00m))\n\u001b[1;32m    576\u001b[0m \u001b[39m# Create the parser.\u001b[39;00m\n\u001b[0;32m--> 577\u001b[0m parser \u001b[39m=\u001b[39m TextFileReader(filepath_or_buffer, \u001b[39m*\u001b[39;49m\u001b[39m*\u001b[39;49mkwds)\n\u001b[1;32m    579\u001b[0m \u001b[39mif\u001b[39;00m chunksize \u001b[39mor\u001b[39;00m iterator:\n\u001b[1;32m    580\u001b[0m     \u001b[39mreturn\u001b[39;00m parser\n",
      "File \u001b[0;32m~/lucaM/LogicalFallacyRepo/logical-fallacy-LLMs/logicalfallacies/lib/python3.8/site-packages/pandas/io/parsers/readers.py:1407\u001b[0m, in \u001b[0;36mTextFileReader.__init__\u001b[0;34m(self, f, engine, **kwds)\u001b[0m\n\u001b[1;32m   1404\u001b[0m     \u001b[39mself\u001b[39m\u001b[39m.\u001b[39moptions[\u001b[39m\"\u001b[39m\u001b[39mhas_index_names\u001b[39m\u001b[39m\"\u001b[39m] \u001b[39m=\u001b[39m kwds[\u001b[39m\"\u001b[39m\u001b[39mhas_index_names\u001b[39m\u001b[39m\"\u001b[39m]\n\u001b[1;32m   1406\u001b[0m \u001b[39mself\u001b[39m\u001b[39m.\u001b[39mhandles: IOHandles \u001b[39m|\u001b[39m \u001b[39mNone\u001b[39;00m \u001b[39m=\u001b[39m \u001b[39mNone\u001b[39;00m\n\u001b[0;32m-> 1407\u001b[0m \u001b[39mself\u001b[39m\u001b[39m.\u001b[39m_engine \u001b[39m=\u001b[39m \u001b[39mself\u001b[39;49m\u001b[39m.\u001b[39;49m_make_engine(f, \u001b[39mself\u001b[39;49m\u001b[39m.\u001b[39;49mengine)\n",
      "File \u001b[0;32m~/lucaM/LogicalFallacyRepo/logical-fallacy-LLMs/logicalfallacies/lib/python3.8/site-packages/pandas/io/parsers/readers.py:1661\u001b[0m, in \u001b[0;36mTextFileReader._make_engine\u001b[0;34m(self, f, engine)\u001b[0m\n\u001b[1;32m   1659\u001b[0m     \u001b[39mif\u001b[39;00m \u001b[39m\"\u001b[39m\u001b[39mb\u001b[39m\u001b[39m\"\u001b[39m \u001b[39mnot\u001b[39;00m \u001b[39min\u001b[39;00m mode:\n\u001b[1;32m   1660\u001b[0m         mode \u001b[39m+\u001b[39m\u001b[39m=\u001b[39m \u001b[39m\"\u001b[39m\u001b[39mb\u001b[39m\u001b[39m\"\u001b[39m\n\u001b[0;32m-> 1661\u001b[0m \u001b[39mself\u001b[39m\u001b[39m.\u001b[39mhandles \u001b[39m=\u001b[39m get_handle(\n\u001b[1;32m   1662\u001b[0m     f,\n\u001b[1;32m   1663\u001b[0m     mode,\n\u001b[1;32m   1664\u001b[0m     encoding\u001b[39m=\u001b[39;49m\u001b[39mself\u001b[39;49m\u001b[39m.\u001b[39;49moptions\u001b[39m.\u001b[39;49mget(\u001b[39m\"\u001b[39;49m\u001b[39mencoding\u001b[39;49m\u001b[39m\"\u001b[39;49m, \u001b[39mNone\u001b[39;49;00m),\n\u001b[1;32m   1665\u001b[0m     compression\u001b[39m=\u001b[39;49m\u001b[39mself\u001b[39;49m\u001b[39m.\u001b[39;49moptions\u001b[39m.\u001b[39;49mget(\u001b[39m\"\u001b[39;49m\u001b[39mcompression\u001b[39;49m\u001b[39m\"\u001b[39;49m, \u001b[39mNone\u001b[39;49;00m),\n\u001b[1;32m   1666\u001b[0m     memory_map\u001b[39m=\u001b[39;49m\u001b[39mself\u001b[39;49m\u001b[39m.\u001b[39;49moptions\u001b[39m.\u001b[39;49mget(\u001b[39m\"\u001b[39;49m\u001b[39mmemory_map\u001b[39;49m\u001b[39m\"\u001b[39;49m, \u001b[39mFalse\u001b[39;49;00m),\n\u001b[1;32m   1667\u001b[0m     is_text\u001b[39m=\u001b[39;49mis_text,\n\u001b[1;32m   1668\u001b[0m     errors\u001b[39m=\u001b[39;49m\u001b[39mself\u001b[39;49m\u001b[39m.\u001b[39;49moptions\u001b[39m.\u001b[39;49mget(\u001b[39m\"\u001b[39;49m\u001b[39mencoding_errors\u001b[39;49m\u001b[39m\"\u001b[39;49m, \u001b[39m\"\u001b[39;49m\u001b[39mstrict\u001b[39;49m\u001b[39m\"\u001b[39;49m),\n\u001b[1;32m   1669\u001b[0m     storage_options\u001b[39m=\u001b[39;49m\u001b[39mself\u001b[39;49m\u001b[39m.\u001b[39;49moptions\u001b[39m.\u001b[39;49mget(\u001b[39m\"\u001b[39;49m\u001b[39mstorage_options\u001b[39;49m\u001b[39m\"\u001b[39;49m, \u001b[39mNone\u001b[39;49;00m),\n\u001b[1;32m   1670\u001b[0m )\n\u001b[1;32m   1671\u001b[0m \u001b[39massert\u001b[39;00m \u001b[39mself\u001b[39m\u001b[39m.\u001b[39mhandles \u001b[39mis\u001b[39;00m \u001b[39mnot\u001b[39;00m \u001b[39mNone\u001b[39;00m\n\u001b[1;32m   1672\u001b[0m f \u001b[39m=\u001b[39m \u001b[39mself\u001b[39m\u001b[39m.\u001b[39mhandles\u001b[39m.\u001b[39mhandle\n",
      "File \u001b[0;32m~/lucaM/LogicalFallacyRepo/logical-fallacy-LLMs/logicalfallacies/lib/python3.8/site-packages/pandas/io/common.py:859\u001b[0m, in \u001b[0;36mget_handle\u001b[0;34m(path_or_buf, mode, encoding, compression, memory_map, is_text, errors, storage_options)\u001b[0m\n\u001b[1;32m    854\u001b[0m \u001b[39melif\u001b[39;00m \u001b[39misinstance\u001b[39m(handle, \u001b[39mstr\u001b[39m):\n\u001b[1;32m    855\u001b[0m     \u001b[39m# Check whether the filename is to be opened in binary mode.\u001b[39;00m\n\u001b[1;32m    856\u001b[0m     \u001b[39m# Binary mode does not support 'encoding' and 'newline'.\u001b[39;00m\n\u001b[1;32m    857\u001b[0m     \u001b[39mif\u001b[39;00m ioargs\u001b[39m.\u001b[39mencoding \u001b[39mand\u001b[39;00m \u001b[39m\"\u001b[39m\u001b[39mb\u001b[39m\u001b[39m\"\u001b[39m \u001b[39mnot\u001b[39;00m \u001b[39min\u001b[39;00m ioargs\u001b[39m.\u001b[39mmode:\n\u001b[1;32m    858\u001b[0m         \u001b[39m# Encoding\u001b[39;00m\n\u001b[0;32m--> 859\u001b[0m         handle \u001b[39m=\u001b[39m \u001b[39mopen\u001b[39;49m(\n\u001b[1;32m    860\u001b[0m             handle,\n\u001b[1;32m    861\u001b[0m             ioargs\u001b[39m.\u001b[39;49mmode,\n\u001b[1;32m    862\u001b[0m             encoding\u001b[39m=\u001b[39;49mioargs\u001b[39m.\u001b[39;49mencoding,\n\u001b[1;32m    863\u001b[0m             errors\u001b[39m=\u001b[39;49merrors,\n\u001b[1;32m    864\u001b[0m             newline\u001b[39m=\u001b[39;49m\u001b[39m\"\u001b[39;49m\u001b[39m\"\u001b[39;49m,\n\u001b[1;32m    865\u001b[0m         )\n\u001b[1;32m    866\u001b[0m     \u001b[39melse\u001b[39;00m:\n\u001b[1;32m    867\u001b[0m         \u001b[39m# Binary mode\u001b[39;00m\n\u001b[1;32m    868\u001b[0m         handle \u001b[39m=\u001b[39m \u001b[39mopen\u001b[39m(handle, ioargs\u001b[39m.\u001b[39mmode)\n",
      "\u001b[0;31mFileNotFoundError\u001b[0m: [Errno 2] No such file or directory: '../data/train.csv'"
     ]
    }
   ],
   "source": [
    "df = pd.read_csv('../data/train.csv')\n",
    "pd.set_option('display.max_colwidth', 180)\n",
    "df.groupby('label')['text'].first().reset_index()\n"
   ]
  },
  {
   "cell_type": "markdown",
   "metadata": {},
   "source": [
    "Methodology of https://arxiv.org/pdf/2202.13758.pdf _\"Logical Fallacy Detection\"_ illustrated"
   ]
  },
  {
   "cell_type": "code",
   "execution_count": 8,
   "metadata": {},
   "outputs": [
    {
     "data": {
      "text/html": [
       "<div>\n",
       "<style scoped>\n",
       "    .dataframe tbody tr th:only-of-type {\n",
       "        vertical-align: middle;\n",
       "    }\n",
       "\n",
       "    .dataframe tbody tr th {\n",
       "        vertical-align: top;\n",
       "    }\n",
       "\n",
       "    .dataframe thead th {\n",
       "        text-align: right;\n",
       "    }\n",
       "</style>\n",
       "<table border=\"1\" class=\"dataframe\">\n",
       "  <thead>\n",
       "    <tr style=\"text-align: right;\">\n",
       "      <th></th>\n",
       "      <th>text</th>\n",
       "      <th>structure</th>\n",
       "    </tr>\n",
       "    <tr>\n",
       "      <th>label</th>\n",
       "      <th></th>\n",
       "      <th></th>\n",
       "    </tr>\n",
       "  </thead>\n",
       "  <tbody>\n",
       "    <tr>\n",
       "      <th>ad hominem</th>\n",
       "      <td>He was born to Catholic parents and raised as a Catholic until his confirmation in 8th grade.  Therefore, he is bound to want to defend some Catholic traditions and, therefore,...</td>\n",
       "      <td>He was x to y, and z as a y until his z in z. Therefore, he is bound to want to do z and, therefore, cannot be taken seriously.\\n</td>\n",
       "    </tr>\n",
       "    <tr>\n",
       "      <th>ad populum</th>\n",
       "      <td>Justin Beiber wears Ray Bans, so you should buy a pair to wear in the sun.</td>\n",
       "      <td>X wears Y, so you should buy a Y to wear in Z.\\n</td>\n",
       "    </tr>\n",
       "    <tr>\n",
       "      <th>appeal to emotion</th>\n",
       "      <td>“All those opposed to my arguments for the opening of a new department, signify by saying, ‘I quit.’\"</td>\n",
       "      <td>All those opposed to X for Y, signify by saying 'I quit.'\\n</td>\n",
       "    </tr>\n",
       "    <tr>\n",
       "      <th>circular reasoning</th>\n",
       "      <td>Mr. Casal was very tired because he had no energy.</td>\n",
       "      <td>X was very y because he had no z.\\n</td>\n",
       "    </tr>\n",
       "    <tr>\n",
       "      <th>equivocation</th>\n",
       "      <td>All living beings come from other living beings.  Therefore, the first forms of life must have come from a living being.  That living being is God.</td>\n",
       "      <td>All x come from y. Therefore, the first forms of y must have come from a z. That z is x.\\n</td>\n",
       "    </tr>\n",
       "    <tr>\n",
       "      <th>fallacy of credibility</th>\n",
       "      <td>“four out of five dentists agree that brushing your teeth makes your life meaningful”</td>\n",
       "      <td>X out of Y Zs agree that doing x makes your life y\\n</td>\n",
       "    </tr>\n",
       "    <tr>\n",
       "      <th>fallacy of extension</th>\n",
       "      <td>If you don't drive a car, you hate the Earth.</td>\n",
       "      <td>If you don't do x, you do y.\\n</td>\n",
       "    </tr>\n",
       "    <tr>\n",
       "      <th>fallacy of logic</th>\n",
       "      <td>\"Politicians and diapers must be changed often, and for the same reason.\"</td>\n",
       "      <td>X and Y must be changed often, and for the same reason.\\n\\n</td>\n",
       "    </tr>\n",
       "    <tr>\n",
       "      <th>fallacy of relevance</th>\n",
       "      <td>Service Tech: Your car could use some new tires. Bart: You have a financial interest in selling me tires, why should I trust you? Service Tech: You brought your car to me to ha...</td>\n",
       "      <td>X: You have a financial interest in y, why should I trust you? X: You brought your X to me to have it checked, sir. X: So should we forget about the y for now? X: I never sugg...</td>\n",
       "    </tr>\n",
       "    <tr>\n",
       "      <th>false causality</th>\n",
       "      <td>The accident was caused by the taxi parking in the street</td>\n",
       "      <td>The accident was caused by the x parking in the street.\\n</td>\n",
       "    </tr>\n",
       "    <tr>\n",
       "      <th>false dilemma</th>\n",
       "      <td>People either like coffee or hate it.</td>\n",
       "      <td>X either like Y or hate Y.\\n</td>\n",
       "    </tr>\n",
       "    <tr>\n",
       "      <th>faulty generalization</th>\n",
       "      <td>10 of the last 14 National Spelling Bee Champions have been Indian American. Indian Americans must all be great spellers!</td>\n",
       "      <td>10 out of the last x z have been A. As must all be B.\\n</td>\n",
       "    </tr>\n",
       "    <tr>\n",
       "      <th>intentional</th>\n",
       "      <td>Did the pollution you caused increase or decrease your profits?</td>\n",
       "      <td>Did x cause y or z?\\n</td>\n",
       "    </tr>\n",
       "  </tbody>\n",
       "</table>\n",
       "</div>"
      ],
      "text/plain": [
       "                                                                                                                                                                                                       text  \\\n",
       "label                                                                                                                                                                                                         \n",
       "ad hominem              He was born to Catholic parents and raised as a Catholic until his confirmation in 8th grade.  Therefore, he is bound to want to defend some Catholic traditions and, therefore,...   \n",
       "ad populum                                                                                                                       Justin Beiber wears Ray Bans, so you should buy a pair to wear in the sun.   \n",
       "appeal to emotion                                                                                     “All those opposed to my arguments for the opening of a new department, signify by saying, ‘I quit.’\"   \n",
       "circular reasoning                                                                                                                                       Mr. Casal was very tired because he had no energy.   \n",
       "equivocation                                            All living beings come from other living beings.  Therefore, the first forms of life must have come from a living being.  That living being is God.   \n",
       "fallacy of credibility                                                                                                “four out of five dentists agree that brushing your teeth makes your life meaningful”   \n",
       "fallacy of extension                                                                                                                                          If you don't drive a car, you hate the Earth.   \n",
       "fallacy of logic                                                                                                                  \"Politicians and diapers must be changed often, and for the same reason.\"   \n",
       "fallacy of relevance    Service Tech: Your car could use some new tires. Bart: You have a financial interest in selling me tires, why should I trust you? Service Tech: You brought your car to me to ha...   \n",
       "false causality                                                                                                                                   The accident was caused by the taxi parking in the street   \n",
       "false dilemma                                                                                                                                                         People either like coffee or hate it.   \n",
       "faulty generalization                                                             10 of the last 14 National Spelling Bee Champions have been Indian American. Indian Americans must all be great spellers!   \n",
       "intentional                                                                                                                                 Did the pollution you caused increase or decrease your profits?   \n",
       "\n",
       "                                                                                                                                                                                                  structure  \n",
       "label                                                                                                                                                                                                        \n",
       "ad hominem                                                                He was x to y, and z as a y until his z in z. Therefore, he is bound to want to do z and, therefore, cannot be taken seriously.\\n  \n",
       "ad populum                                                                                                                                                 X wears Y, so you should buy a Y to wear in Z.\\n  \n",
       "appeal to emotion                                                                                                                               All those opposed to X for Y, signify by saying 'I quit.'\\n  \n",
       "circular reasoning                                                                                                                                                      X was very y because he had no z.\\n  \n",
       "equivocation                                                                                                     All x come from y. Therefore, the first forms of y must have come from a z. That z is x.\\n  \n",
       "fallacy of credibility                                                                                                                                 X out of Y Zs agree that doing x makes your life y\\n  \n",
       "fallacy of extension                                                                                                                                                         If you don't do x, you do y.\\n  \n",
       "fallacy of logic                                                                                                                                X and Y must be changed often, and for the same reason.\\n\\n  \n",
       "fallacy of relevance     X: You have a financial interest in y, why should I trust you? X: You brought your X to me to have it checked, sir. X: So should we forget about the y for now? X: I never sugg...  \n",
       "false causality                                                                                                                                   The accident was caused by the x parking in the street.\\n  \n",
       "false dilemma                                                                                                                                                                  X either like Y or hate Y.\\n  \n",
       "faulty generalization                                                                                                                               10 out of the last x z have been A. As must all be B.\\n  \n",
       "intentional                                                                                                                                                                           Did x cause y or z?\\n  "
      ]
     },
     "execution_count": 8,
     "metadata": {},
     "output_type": "execute_result"
    }
   ],
   "source": [
    "df_train = pd.read_csv('../data/train.csv')\n",
    "df_train.groupby('label')[['text', 'structure']].first()"
   ]
  }
 ],
 "metadata": {
  "kernelspec": {
   "display_name": "Python 3",
   "language": "python",
   "name": "python3"
  },
  "language_info": {
   "codemirror_mode": {
    "name": "ipython",
    "version": 3
   },
   "file_extension": ".py",
   "mimetype": "text/x-python",
   "name": "python",
   "nbconvert_exporter": "python",
   "pygments_lexer": "ipython3",
   "version": "3.8.10"
  },
  "orig_nbformat": 4
 },
 "nbformat": 4,
 "nbformat_minor": 2
}
