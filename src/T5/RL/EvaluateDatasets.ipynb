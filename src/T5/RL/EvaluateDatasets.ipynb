{
 "cells": [
  {
   "cell_type": "code",
   "execution_count": 66,
   "metadata": {},
   "outputs": [],
   "source": [
    "import pandas as pd"
   ]
  },
  {
   "cell_type": "code",
   "execution_count": 67,
   "metadata": {},
   "outputs": [],
   "source": [
    "argotario = pd.read_csv('../../../data/argumentation/argotario.tsv', sep='\\t')[['Text', 'Topic', 'Intended Fallacy']]"
   ]
  },
  {
   "cell_type": "code",
   "execution_count": 68,
   "metadata": {},
   "outputs": [],
   "source": [
    "argotario = argotario.rename(columns={'Text': 'argument', 'Intended Fallacy': 'fallacy type'})\n",
    "argotario = argotario[~argotario['fallacy type'].isna()]\n",
    "\n",
    "argotario['fallacy type'] = argotario['fallacy type'].replace({\n",
    "'Red Herring': 'fallacy of relevance', \n",
    "'Appeal to Emotion': 'appeal to emotion',\n",
    "'No Fallacy': 'no fallacy',\n",
    "'Hasty Generalization': 'faulty generalization',\n",
    "'Irrelevant Authority':'fallacy of credibility',\n",
    "'Ad Hominem': 'ad hominem'\n",
    "})\n",
    "\n"
   ]
  },
  {
   "cell_type": "code",
   "execution_count": null,
   "metadata": {},
   "outputs": [],
   "source": []
  },
  {
   "cell_type": "code",
   "execution_count": 69,
   "metadata": {},
   "outputs": [],
   "source": [
    "from Evaluate import Eval"
   ]
  },
  {
   "cell_type": "code",
   "execution_count": 70,
   "metadata": {},
   "outputs": [],
   "source": [
    "evaluator_model_name = 'google/t5-v1_1-small'\n",
    "ckpt_path = '../../../runs/train/model/ckp_25000.pth'\n",
    "evaluator = Eval(\n",
    "    ckpt_path=ckpt_path, \n",
    "    score_model_name=evaluator_model_name, \n",
    "    classify_model_name='../../../models/electra-base-mnli-M2/')  "
   ]
  },
  {
   "cell_type": "code",
   "execution_count": null,
   "metadata": {},
   "outputs": [],
   "source": [
    "scores = []\n",
    "fallacies = []\n",
    "for i, item in argotario.iterrows():\n",
    "    sentence = item['argument']\n",
    "    score = evaluator.score(sentence)\n",
    "    pred = evaluator.classify_as_fallacy(sentence)\n",
    "    scores.append(score.item())\n",
    "    fallacies.append(item['fallacy type'])\n",
    "    #print(f\"TOPIC: {item['Topic']}\\nArgument: {sentence}\\nScore: {score}\\nPredicted Fallacy: {pred}\\nActual Fallacy: {item['fallacy type']}\\n===================================\")\n",
    "  \n",
    "import numpy as np\n",
    "fallacies = np.array(fallacies)\n",
    "scores = np.array(scores)"
   ]
  },
  {
   "cell_type": "code",
   "execution_count": null,
   "metadata": {},
   "outputs": [
    {
     "data": {
      "text/plain": [
       "array([False, False, False, ...,  True,  True,  True])"
      ]
     },
     "execution_count": 44,
     "metadata": {},
     "output_type": "execute_result"
    }
   ],
   "source": [
    "(fallacies=='no fallacy')"
   ]
  },
  {
   "cell_type": "code",
   "execution_count": null,
   "metadata": {},
   "outputs": [
    {
     "data": {
      "text/html": [
       "<div>\n",
       "<style scoped>\n",
       "    .dataframe tbody tr th:only-of-type {\n",
       "        vertical-align: middle;\n",
       "    }\n",
       "\n",
       "    .dataframe tbody tr th {\n",
       "        vertical-align: top;\n",
       "    }\n",
       "\n",
       "    .dataframe thead th {\n",
       "        text-align: right;\n",
       "    }\n",
       "</style>\n",
       "<table border=\"1\" class=\"dataframe\">\n",
       "  <thead>\n",
       "    <tr style=\"text-align: right;\">\n",
       "      <th></th>\n",
       "      <th>0</th>\n",
       "    </tr>\n",
       "  </thead>\n",
       "  <tbody>\n",
       "    <tr>\n",
       "      <th>count</th>\n",
       "      <td>909.000000</td>\n",
       "    </tr>\n",
       "    <tr>\n",
       "      <th>mean</th>\n",
       "      <td>0.316970</td>\n",
       "    </tr>\n",
       "    <tr>\n",
       "      <th>std</th>\n",
       "      <td>0.421411</td>\n",
       "    </tr>\n",
       "    <tr>\n",
       "      <th>min</th>\n",
       "      <td>0.001639</td>\n",
       "    </tr>\n",
       "    <tr>\n",
       "      <th>25%</th>\n",
       "      <td>0.002873</td>\n",
       "    </tr>\n",
       "    <tr>\n",
       "      <th>50%</th>\n",
       "      <td>0.020316</td>\n",
       "    </tr>\n",
       "    <tr>\n",
       "      <th>75%</th>\n",
       "      <td>0.846987</td>\n",
       "    </tr>\n",
       "    <tr>\n",
       "      <th>max</th>\n",
       "      <td>0.998820</td>\n",
       "    </tr>\n",
       "  </tbody>\n",
       "</table>\n",
       "</div>"
      ],
      "text/plain": [
       "                0\n",
       "count  909.000000\n",
       "mean     0.316970\n",
       "std      0.421411\n",
       "min      0.001639\n",
       "25%      0.002873\n",
       "50%      0.020316\n",
       "75%      0.846987\n",
       "max      0.998820"
      ]
     },
     "execution_count": 64,
     "metadata": {},
     "output_type": "execute_result"
    }
   ],
   "source": [
    "idx = np.where(fallacies!='no fallacy')[0]\n",
    "import pandas as pd\n",
    "pd.DataFrame(scores[idx]).describe()"
   ]
  },
  {
   "cell_type": "code",
   "execution_count": null,
   "metadata": {},
   "outputs": [],
   "source": [
    "#for score, fallacy_type in zip(scores, fallacies):\n",
    " #   if score > 0.8:\n",
    "  #      print(score, fallacy_type)"
   ]
  }
 ],
 "metadata": {
  "kernelspec": {
   "display_name": "logicalfallacies",
   "language": "python",
   "name": "python3"
  },
  "language_info": {
   "codemirror_mode": {
    "name": "ipython",
    "version": 3
   },
   "file_extension": ".py",
   "mimetype": "text/x-python",
   "name": "python",
   "nbconvert_exporter": "python",
   "pygments_lexer": "ipython3",
   "version": "3.8.10"
  }
 },
 "nbformat": 4,
 "nbformat_minor": 2
}
