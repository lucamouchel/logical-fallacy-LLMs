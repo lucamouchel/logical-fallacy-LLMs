{
 "cells": [
  {
   "cell_type": "code",
   "execution_count": 1,
   "metadata": {},
   "outputs": [
    {
     "name": "stderr",
     "output_type": "stream",
     "text": [
      "/usr/local/lib/python3.8/dist-packages/tqdm/auto.py:21: TqdmWarning: IProgress not found. Please update jupyter and ipywidgets. See https://ipywidgets.readthedocs.io/en/stable/user_install.html\n",
      "  from .autonotebook import tqdm as notebook_tqdm\n"
     ]
    }
   ],
   "source": [
    "from transformers import GPT2Tokenizer, GPT2ForSequenceClassification\n",
    "import torch\n",
    "import pandas as pd"
   ]
  },
  {
   "cell_type": "code",
   "execution_count": 2,
   "metadata": {},
   "outputs": [
    {
     "name": "stderr",
     "output_type": "stream",
     "text": [
      "Some weights of GPT2ForSequenceClassification were not initialized from the model checkpoint at gpt2 and are newly initialized: ['score.weight']\n",
      "You should probably TRAIN this model on a down-stream task to be able to use it for predictions and inference.\n"
     ]
    }
   ],
   "source": [
    "model_name = \"gpt2\"  # You can replace with a specific fine-tuned model name if available\n",
    "tokenizer = GPT2Tokenizer.from_pretrained(model_name)\n",
    "model = GPT2ForSequenceClassification.from_pretrained(model_name)"
   ]
  },
  {
   "cell_type": "code",
   "execution_count": 8,
   "metadata": {},
   "outputs": [],
   "source": [
    "def gpt2_classify(text):\n",
    "    \n",
    "    labels = ['ad hominem', 'ad populum', 'appeal to emotion', 'circular reasoning', 'equivocation', 'fallacy of credibility', 'fallacy of extension', 'fallacy of logic', 'fallacy of relevance', 'false causality', 'false dilemma', 'faulty generalization', 'intentional']\n",
    "    prompt = f\"Classify the following text as one of the following logical fallacies: {labels}. {text}. Return only the label.\"\n",
    "\n",
    "\n",
    "    input_ids = tokenizer.encode(prompt, return_tensors=\"pt\", max_length=256)  # Adjust max_length as needed\n",
    "    with torch.no_grad():\n",
    "        outputs = model(input_ids)\n",
    "    return labels[torch.argmax(outputs.logits, dim=1).item()]\n"
   ]
  },
  {
   "cell_type": "code",
   "execution_count": 9,
   "metadata": {},
   "outputs": [
    {
     "name": "stdout",
     "output_type": "stream",
     "text": [
      "accuracy so far: 0.0\n",
      "accuracy so far: 0.11764705882352941\n",
      "accuracy so far: 0.09900990099009901\n",
      "accuracy so far: 0.07947019867549669\n",
      "accuracy so far: 0.08955223880597014\n",
      "accuracy so far: 0.09561752988047809\n",
      "0.1\n"
     ]
    }
   ],
   "source": [
    "df = pd.read_csv('data/edu_test.csv')\n",
    "\n",
    "df = df[['source_article', 'updated_label']]\n",
    "accurate = 0\n",
    "\n",
    "for  index, sample in df.iterrows():\n",
    "    pred = gpt2_classify(sample['source_article'])\n",
    "    actual = sample['updated_label']\n",
    "    if (pred == actual):\n",
    "        accurate += 1\n",
    "    if index % 50 == 1:\n",
    "        print(\"accuracy so far:\", accurate / index)\n",
    "    \n",
    "    \n",
    "accuracy = accurate/len(df)\n",
    "print(accuracy)"
   ]
  }
 ],
 "metadata": {
  "kernelspec": {
   "display_name": "Python 3",
   "language": "python",
   "name": "python3"
  },
  "language_info": {
   "codemirror_mode": {
    "name": "ipython",
    "version": 3
   },
   "file_extension": ".py",
   "mimetype": "text/x-python",
   "name": "python",
   "nbconvert_exporter": "python",
   "pygments_lexer": "ipython3",
   "version": "3.8.10"
  },
  "orig_nbformat": 4
 },
 "nbformat": 4,
 "nbformat_minor": 2
}
