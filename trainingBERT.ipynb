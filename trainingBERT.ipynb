{
 "cells": [
  {
   "cell_type": "markdown",
   "metadata": {},
   "source": [
    "Loading a pre-trained BERT model"
   ]
  },
  {
   "cell_type": "code",
   "execution_count": 102,
   "metadata": {},
   "outputs": [],
   "source": [
    "from transformers import AutoTokenizer, AutoModelForSequenceClassification, Trainer, TrainingArguments, EvalPrediction\n",
    "from sklearn.preprocessing import LabelEncoder\n",
    "from sklearn.metrics import accuracy_score, f1_score, precision_score, recall_score\n",
    "import torch\n",
    "import pandas as pd\n",
    "import numpy as np"
   ]
  },
  {
   "cell_type": "code",
   "execution_count": 103,
   "metadata": {},
   "outputs": [
    {
     "name": "stderr",
     "output_type": "stream",
     "text": [
      "Downloading (…)lve/main/config.json: 100%|██████████| 571/571 [00:00<00:00, 53.0kB/s]\n",
      "Downloading model.safetensors: 100%|██████████| 1.34G/1.34G [00:04<00:00, 313MB/s] \n",
      "Some weights of BertForSequenceClassification were not initialized from the model checkpoint at bert-large-uncased and are newly initialized: ['classifier.bias', 'classifier.weight']\n",
      "You should probably TRAIN this model on a down-stream task to be able to use it for predictions and inference.\n",
      "Downloading (…)okenizer_config.json: 100%|██████████| 28.0/28.0 [00:00<00:00, 14.8kB/s]\n",
      "Downloading (…)solve/main/vocab.txt: 100%|██████████| 232k/232k [00:00<00:00, 1.28MB/s]\n",
      "Downloading (…)/main/tokenizer.json: 100%|██████████| 466k/466k [00:00<00:00, 5.13MB/s]\n"
     ]
    }
   ],
   "source": [
    "model_name = \"bert-large-uncased\"\n",
    "model = AutoModelForSequenceClassification.from_pretrained(model_name, num_labels=13)\n",
    "if torch.cuda.is_available():\n",
    "    model = model.cuda()\n",
    "tokenizer = AutoTokenizer.from_pretrained(model_name)"
   ]
  },
  {
   "cell_type": "code",
   "execution_count": 104,
   "metadata": {},
   "outputs": [],
   "source": [
    "train_data = pd.read_csv('data/edu_train.csv')\n",
    "dev_data = pd.read_csv('data/edu_dev.csv')\n",
    "test_data = pd.read_csv('data/edu_test.csv')"
   ]
  },
  {
   "cell_type": "code",
   "execution_count": 105,
   "metadata": {},
   "outputs": [],
   "source": [
    "def tokenize_text(text):\n",
    "    return tokenizer(text, padding=True, truncation=True, add_special_tokens=True ,return_tensors=\"pt\")"
   ]
  },
  {
   "cell_type": "code",
   "execution_count": 106,
   "metadata": {},
   "outputs": [],
   "source": [
    "train_texts = train_data['source_article'].tolist()\n",
    "train_labels = train_data['updated_label'].tolist()\n",
    "train_encodings = tokenizer(train_texts, padding=True, truncation=True, return_tensors=\"pt\")\n",
    "\n",
    "dev_texts = dev_data['source_article'].tolist()\n",
    "dev_labels = dev_data['updated_label'].tolist()\n",
    "dev_encodings = tokenizer(dev_texts, padding=True, truncation=True, return_tensors=\"pt\")\n",
    "\n",
    "test_texts = test_data['source_article'].tolist()\n",
    "test_labels = test_data['updated_label'].tolist()\n",
    "test_encodings = tokenizer(test_texts, padding=True, truncation=True, return_tensors=\"pt\")\n"
   ]
  },
  {
   "cell_type": "code",
   "execution_count": 107,
   "metadata": {},
   "outputs": [
    {
     "name": "stderr",
     "output_type": "stream",
     "text": [
      "/tmp/ipykernel_12132/788479976.py:8: UserWarning: To copy construct from a tensor, it is recommended to use sourceTensor.clone().detach() or sourceTensor.clone().detach().requires_grad_(True), rather than torch.tensor(sourceTensor).\n",
      "  train_input_ids = torch.tensor(train_encodings.input_ids)\n",
      "/tmp/ipykernel_12132/788479976.py:9: UserWarning: To copy construct from a tensor, it is recommended to use sourceTensor.clone().detach() or sourceTensor.clone().detach().requires_grad_(True), rather than torch.tensor(sourceTensor).\n",
      "  train_attention_mask = torch.tensor(train_encodings.attention_mask)\n",
      "/tmp/ipykernel_12132/788479976.py:18: UserWarning: To copy construct from a tensor, it is recommended to use sourceTensor.clone().detach() or sourceTensor.clone().detach().requires_grad_(True), rather than torch.tensor(sourceTensor).\n",
      "  dev_input_ids = torch.tensor(dev_encodings.input_ids)\n",
      "/tmp/ipykernel_12132/788479976.py:19: UserWarning: To copy construct from a tensor, it is recommended to use sourceTensor.clone().detach() or sourceTensor.clone().detach().requires_grad_(True), rather than torch.tensor(sourceTensor).\n",
      "  dev_attention_mask = torch.tensor(dev_encodings.attention_mask)\n",
      "/tmp/ipykernel_12132/788479976.py:22: UserWarning: To copy construct from a tensor, it is recommended to use sourceTensor.clone().detach() or sourceTensor.clone().detach().requires_grad_(True), rather than torch.tensor(sourceTensor).\n",
      "  test_input_ids = torch.tensor(test_encodings.input_ids)\n",
      "/tmp/ipykernel_12132/788479976.py:23: UserWarning: To copy construct from a tensor, it is recommended to use sourceTensor.clone().detach() or sourceTensor.clone().detach().requires_grad_(True), rather than torch.tensor(sourceTensor).\n",
      "  test_attention_mask = torch.tensor(test_encodings.attention_mask)\n"
     ]
    }
   ],
   "source": [
    "label_encoder = LabelEncoder()\n",
    "train_labels_encoded = label_encoder.fit_transform(train_labels)\n",
    "dev_labels_encoded = label_encoder.fit_transform(dev_labels)\n",
    "test_labels_encoded = label_encoder.fit_transform(test_labels)\n",
    "\n",
    "# Ensure that tensors have the same number of samples\n",
    "\n",
    "train_input_ids = torch.tensor(train_encodings.input_ids)\n",
    "train_attention_mask = torch.tensor(train_encodings.attention_mask)\n",
    "train_labels_tensor = torch.tensor(train_labels_encoded)\n",
    "\n",
    "\n",
    "#if torch.cuda.is_available():\n",
    " #   train_input_ids = train_input_ids.cuda()\n",
    "  #  train_attention_mask = train_attention_mask.cuda()\n",
    "   # train_labels_tensor = train_labels_tensor.cuda()\n",
    "\n",
    "dev_input_ids = torch.tensor(dev_encodings.input_ids)\n",
    "dev_attention_mask = torch.tensor(dev_encodings.attention_mask)\n",
    "dev_labels_tensor = torch.tensor(dev_labels_encoded)\n",
    "\n",
    "test_input_ids = torch.tensor(test_encodings.input_ids)\n",
    "test_attention_mask = torch.tensor(test_encodings.attention_mask)\n",
    "test_labels_tensor = torch.tensor(test_labels_encoded)"
   ]
  },
  {
   "cell_type": "code",
   "execution_count": 110,
   "metadata": {},
   "outputs": [],
   "source": [
    "def compute_metrics(pred: EvalPrediction):\n",
    "    predictions, labels = pred.predictions, pred.label_ids\n",
    "    predictions = np.argmax(predictions, axis=1)\n",
    "    \n",
    "    accuracy = accuracy_score(labels, predictions)\n",
    "    f1 = f1_score(labels, predictions, average='micro')\n",
    "    precision = precision_score(labels, predictions, average='macro')\n",
    "    recall = recall_score(labels, predictions, average='macro')\n",
    "\n",
    "    return {\n",
    "        'accuracy': accuracy,\n",
    "        'f1': f1,\n",
    "        'precision': precision,\n",
    "        'recall': recall\n",
    "    }\n",
    "    "
   ]
  },
  {
   "cell_type": "code",
   "execution_count": null,
   "metadata": {},
   "outputs": [],
   "source": [
    "training_args = TrainingArguments(\n",
    "    output_dir='./results',\n",
    "    num_train_epochs=3,\n",
    "    per_device_train_batch_size=8,\n",
    "    per_device_eval_batch_size=8,\n",
    "    evaluation_strategy=\"steps\",\n",
    "    eval_steps=500,\n",
    "    logging_dir='./logs',\n",
    "    logging_steps=50,\n",
    "    save_steps=1000,\n",
    "    save_total_limit=2,\n",
    "    load_best_model_at_end=True\n",
    ")"
   ]
  },
  {
   "cell_type": "code",
   "execution_count": 111,
   "metadata": {},
   "outputs": [],
   "source": [
    "trainer = Trainer(\n",
    "    model=model,\n",
    "    args=training_args,\n",
    "    compute_metrics=compute_metrics,\n",
    "    data_collator=lambda data: {\n",
    "        'input_ids': torch.stack([item[0] for item in data]),\n",
    "        'attention_mask': torch.stack([item[1] for item in data]),\n",
    "        'labels': torch.stack([item[2] for item in data])\n",
    "    },\n",
    "    train_dataset=torch.utils.data.TensorDataset(train_input_ids, train_attention_mask, train_labels_tensor),\n",
    "    eval_dataset=torch.utils.data.TensorDataset(dev_input_ids, dev_attention_mask, dev_labels_tensor),\n",
    "\n",
    "    )    "
   ]
  },
  {
   "cell_type": "code",
   "execution_count": 112,
   "metadata": {},
   "outputs": [
    {
     "name": "stderr",
     "output_type": "stream",
     "text": [
      "/usr/local/lib/python3.8/dist-packages/torch/nn/parallel/_functions.py:68: UserWarning: Was asked to gather along dimension 0, but all input tensors were scalars; will instead unsqueeze and return a vector.\n",
      "  warnings.warn('Was asked to gather along dimension 0, but all '\n"
     ]
    },
    {
     "data": {
      "text/html": [
       "\n",
       "    <div>\n",
       "      \n",
       "      <progress value='348' max='348' style='width:300px; height:20px; vertical-align: middle;'></progress>\n",
       "      [348/348 08:19, Epoch 3/3]\n",
       "    </div>\n",
       "    <table border=\"1\" class=\"dataframe\">\n",
       "  <thead>\n",
       " <tr style=\"text-align: left;\">\n",
       "      <th>Step</th>\n",
       "      <th>Training Loss</th>\n",
       "      <th>Validation Loss</th>\n",
       "    </tr>\n",
       "  </thead>\n",
       "  <tbody>\n",
       "  </tbody>\n",
       "</table><p>"
      ],
      "text/plain": [
       "<IPython.core.display.HTML object>"
      ]
     },
     "metadata": {},
     "output_type": "display_data"
    },
    {
     "data": {
      "text/plain": [
       "TrainOutput(global_step=348, training_loss=1.7492202999948085, metrics={'train_runtime': 501.104, 'train_samples_per_second': 11.07, 'train_steps_per_second': 0.694, 'total_flos': 2403063409853484.0, 'train_loss': 1.7492202999948085, 'epoch': 3.0})"
      ]
     },
     "execution_count": 112,
     "metadata": {},
     "output_type": "execute_result"
    }
   ],
   "source": [
    "# Fine-tune the model on your training data\n",
    "trainer.train()"
   ]
  },
  {
   "cell_type": "code",
   "execution_count": 113,
   "metadata": {},
   "outputs": [
    {
     "data": {
      "text/html": [
       "\n",
       "    <div>\n",
       "      \n",
       "      <progress value='19' max='19' style='width:300px; height:20px; vertical-align: middle;'></progress>\n",
       "      [19/19 00:12]\n",
       "    </div>\n",
       "    "
      ],
      "text/plain": [
       "<IPython.core.display.HTML object>"
      ]
     },
     "metadata": {},
     "output_type": "display_data"
    },
    {
     "name": "stderr",
     "output_type": "stream",
     "text": [
      "/usr/local/lib/python3.8/dist-packages/sklearn/metrics/_classification.py:1469: UndefinedMetricWarning: Precision is ill-defined and being set to 0.0 in labels with no predicted samples. Use `zero_division` parameter to control this behavior.\n",
      "  _warn_prf(average, modifier, msg_start, len(result))\n"
     ]
    }
   ],
   "source": [
    "# Evaluate the model on the test set\n",
    "\n",
    "results = trainer.evaluate(eval_dataset=torch.utils.data.TensorDataset(test_input_ids, test_attention_mask, test_labels_tensor))"
   ]
  },
  {
   "cell_type": "code",
   "execution_count": 114,
   "metadata": {},
   "outputs": [
    {
     "name": "stdout",
     "output_type": "stream",
     "text": [
      "{'eval_loss': 1.3919514417648315, 'eval_accuracy': 0.6, 'eval_f1': 0.6, 'eval_precision': 0.5407530055220289, 'eval_recall': 0.5318547332671499, 'eval_runtime': 13.2662, 'eval_samples_per_second': 22.614, 'eval_steps_per_second': 1.432, 'epoch': 3.0}\n"
     ]
    }
   ],
   "source": [
    "print(results)"
   ]
  },
  {
   "cell_type": "markdown",
   "metadata": {},
   "source": [
    "## TESTING"
   ]
  },
  {
   "cell_type": "code",
   "execution_count": 119,
   "metadata": {},
   "outputs": [
    {
     "name": "stdout",
     "output_type": "stream",
     "text": [
      "9\n",
      "false causality\n"
     ]
    }
   ],
   "source": [
    "# Your own sentence\n",
    "your_sentence = \"I felt nauseated both times I ate pizza from Georgio’s, so I must be allergic to something in pizza. \"\n",
    "\n",
    "\n",
    "# Tokenize and preprocess your sentence\n",
    "input_ids = tokenizer.encode(your_sentence, add_special_tokens=True, return_tensors=\"pt\").to(model.device)\n",
    "\n",
    "model.eval()\n",
    "with torch.no_grad():\n",
    "    outputs = model(input_ids)\n",
    "    logits = outputs.logits\n",
    "\n",
    "# Get the predicted cla.ss (label) for your sentence\n",
    "predicted_class = torch.argmax(logits, dim=1).item()\n",
    "\n",
    "print(predicted_class)\n",
    "print(label_encoder.classes_[predicted_class])"
   ]
  }
 ],
 "metadata": {
  "kernelspec": {
   "display_name": "Python 3",
   "language": "python",
   "name": "python3"
  },
  "language_info": {
   "codemirror_mode": {
    "name": "ipython",
    "version": 3
   },
   "file_extension": ".py",
   "mimetype": "text/x-python",
   "name": "python",
   "nbconvert_exporter": "python",
   "pygments_lexer": "ipython3",
   "version": "3.8.10"
  },
  "orig_nbformat": 4
 },
 "nbformat": 4,
 "nbformat_minor": 2
}
