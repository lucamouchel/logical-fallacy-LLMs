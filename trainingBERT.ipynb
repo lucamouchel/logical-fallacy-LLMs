{
 "cells": [
  {
   "cell_type": "markdown",
   "metadata": {},
   "source": [
    "Loading a pre-trained BERT model"
   ]
  },
  {
   "cell_type": "code",
   "execution_count": null,
   "metadata": {},
   "outputs": [],
   "source": [
    "from transformers import AutoTokenizer, AutoModelForSequenceClassification, Trainer, TrainingArguments\n",
    "import torch\n",
    "from sklearn.preprocessing import LabelEncoder\n",
    "import pandas as pd"
   ]
  },
  {
   "cell_type": "code",
   "execution_count": null,
   "metadata": {},
   "outputs": [],
   "source": [
    "model_name = \"bert-base-uncased\"\n",
    "model = AutoModelForSequenceClassification.from_pretrained(model_name, num_labels=13)\n",
    "tokenizer = AutoTokenizer.from_pretrained(model_name)"
   ]
  },
  {
   "cell_type": "code",
   "execution_count": null,
   "metadata": {},
   "outputs": [],
   "source": [
    "train_data = pd.read_csv('data/edu_train.csv')\n",
    "dev_data = pd.read_csv('data/edu_dev.csv')\n",
    "test_data = pd.read_csv('data/edu_test.csv')"
   ]
  },
  {
   "cell_type": "code",
   "execution_count": null,
   "metadata": {},
   "outputs": [],
   "source": [
    "def tokenize_text(text):\n",
    "    return tokenizer(text, padding=True, truncation=True, add_special_tokens=True ,return_tensors=\"pt\")"
   ]
  },
  {
   "cell_type": "code",
   "execution_count": null,
   "metadata": {},
   "outputs": [],
   "source": [
    "train_texts = train_data['masked_articles'].tolist()\n",
    "train_labels = train_data['updated_label'].tolist()\n",
    "train_encodings = tokenizer(train_texts, padding=True, truncation=True, return_tensors=\"pt\")\n",
    "\n",
    "dev_texts = dev_data['masked_articles'].tolist()\n",
    "dev_labels = dev_data['updated_label'].tolist()\n",
    "dev_encodings = tokenizer(dev_texts, padding=True, truncation=True, return_tensors=\"pt\")\n",
    "\n",
    "test_texts = test_data['masked_articles'].tolist()\n",
    "test_labels = test_data['updated_label'].tolist()\n",
    "test_encodings = tokenizer(test_texts, padding=True, truncation=True, return_tensors=\"pt\")\n"
   ]
  },
  {
   "cell_type": "code",
   "execution_count": null,
   "metadata": {},
   "outputs": [],
   "source": [
    "label_encoder = LabelEncoder()\n",
    "train_labels_encoded = label_encoder.fit_transform(train_labels)\n",
    "dev_labels_encoded = label_encoder.fit_transform(dev_labels)\n",
    "test_labels_encoded = label_encoder.fit_transform(test_labels)\n",
    "# Ensure that tensors have the same number of samples\n",
    "\n",
    "train_input_ids = torch.tensor(train_encodings.input_ids)\n",
    "train_attention_mask = torch.tensor(train_encodings.attention_mask)\n",
    "train_labels_tensor = torch.tensor(train_labels_encoded)\n",
    "\n",
    "\n",
    "dev_input_ids = torch.tensor(dev_encodings.input_ids)\n",
    "dev_attention_mask = torch.tensor(dev_encodings.attention_mask)\n",
    "dev_labels_tensor = torch.tensor(dev_labels_encoded)\n",
    "\n",
    "test_input_ids = torch.tensor(test_encodings.input_ids)\n",
    "test_attention_mask = torch.tensor(test_encodings.attention_mask)\n",
    "test_labels_tensor = torch.tensor(test_labels_encoded)\n",
    "\n",
    "print(train_labels_tensor)"
   ]
  },
  {
   "cell_type": "code",
   "execution_count": null,
   "metadata": {},
   "outputs": [],
   "source": [
    "training_args = TrainingArguments(\n",
    "    output_dir='./results',\n",
    "    num_train_epochs=3,\n",
    "    per_device_train_batch_size=8,\n",
    "    per_device_eval_batch_size=8,\n",
    "    evaluation_strategy=\"steps\",\n",
    "    eval_steps=500,\n",
    "    logging_dir='./logs',\n",
    "    save_steps=1000,\n",
    "    save_total_limit=2,\n",
    "    load_best_model_at_end=True\n",
    ")"
   ]
  },
  {
   "cell_type": "code",
   "execution_count": null,
   "metadata": {},
   "outputs": [],
   "source": [
    "from sklearn.metrics import accuracy_score, f1_score, precision_score, recall_score\n",
    "from transformers import EvalPrediction\n",
    "\n",
    "def compute_metrics(pred: EvalPrediction):\n",
    "    predictions, labels = pred.predictions, pred.label_ids\n",
    "    accuracy = accuracy_score(labels, predictions)\n",
    "    f1 = f1_score(labels, predictions, average='micro')\n",
    "    precision = precision_score(labels, predictions, average='macro')\n",
    "    recall = recall_score(labels, predictions, average='macro')\n",
    "\n",
    "    return {\n",
    "        'accuracy': accuracy,\n",
    "        'f1': f1,\n",
    "        'precision': precision,\n",
    "        'recall': recall\n",
    "    }\n",
    "    "
   ]
  },
  {
   "cell_type": "code",
   "execution_count": null,
   "metadata": {},
   "outputs": [],
   "source": [
    "trainer = Trainer(\n",
    "    model=model,\n",
    "    args=training_args,\n",
    "    compute_metrics=compute_metrics,\n",
    "    data_collator=lambda data: {\n",
    "        'input_ids': torch.stack([item[0] for item in data]),\n",
    "        'attention_mask': torch.stack([item[1] for item in data]),\n",
    "        'labels': torch.stack([item[2] for item in data])\n",
    "    },\n",
    "    train_dataset=torch.utils.data.TensorDataset(train_input_ids, train_attention_mask, train_labels_tensor),\n",
    "    eval_dataset=torch.utils.data.TensorDataset(dev_input_ids, dev_attention_mask, dev_labels_tensor)\n",
    "    )\n",
    "    "
   ]
  },
  {
   "cell_type": "code",
   "execution_count": null,
   "metadata": {},
   "outputs": [],
   "source": [
    "# Fine-tune the cmodel on your training data\n",
    "#trainer.train()"
   ]
  },
  {
   "cell_type": "code",
   "execution_count": null,
   "metadata": {},
   "outputs": [],
   "source": [
    "# Evaluate the model on the test set\n",
    "\n",
    "#results = trainer.evaluate(eval_dataset=torch.utils.data.TensorDataset(test_input_ids, test_attention_mask, test_labels_tensor))"
   ]
  },
  {
   "cell_type": "code",
   "execution_count": null,
   "metadata": {},
   "outputs": [],
   "source": [
    "print(results)"
   ]
  },
  {
   "cell_type": "markdown",
   "metadata": {},
   "source": [
    "## TESTING"
   ]
  },
  {
   "cell_type": "code",
   "execution_count": null,
   "metadata": {},
   "outputs": [],
   "source": [
    "# Your own sentence\n",
    "your_sentence = \"Your input sentence goes here.\"\n",
    "\n",
    "# Tokenize and preprocess your sentence\n",
    "input_ids = tokenizer.encode(your_sentence, add_special_tokens=True, return_tensors=\"pt\")\n"
   ]
  },
  {
   "cell_type": "code",
   "execution_count": null,
   "metadata": {},
   "outputs": [],
   "source": [
    "model.eval()\n",
    "with torch.no_grad():\n",
    "    outputs = model(input_ids)\n",
    "    logits = outputs.logits\n",
    "\n",
    "# Get the predicted class (label) for your sentence\n",
    "predicted_class = torch.argmax(logits, dim=1).item()\n",
    "\n",
    "print(predicted_class)"
   ]
  }
 ],
 "metadata": {
  "kernelspec": {
   "display_name": "Python 3",
   "language": "python",
   "name": "python3"
  },
  "language_info": {
   "codemirror_mode": {
    "name": "ipython",
    "version": 3
   },
   "file_extension": ".py",
   "mimetype": "text/x-python",
   "name": "python",
   "nbconvert_exporter": "python",
   "pygments_lexer": "ipython3",
   "version": "3.9.13"
  },
  "orig_nbformat": 4
 },
 "nbformat": 4,
 "nbformat_minor": 2
}
