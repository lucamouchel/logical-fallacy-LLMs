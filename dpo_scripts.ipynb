{
 "cells": [
  {
   "cell_type": "markdown",
   "metadata": {},
   "source": [
    "# SFT"
   ]
  },
  {
   "cell_type": "code",
   "execution_count": 19,
   "metadata": {},
   "outputs": [
    {
     "data": {
      "text/plain": [
       "7636"
      ]
     },
     "execution_count": 19,
     "metadata": {},
     "output_type": "execute_result"
    }
   ],
   "source": [
    "import pandas as pd\n",
    "import json\n",
    "\n",
    "with open('data/dpo/train.json', 'r') as f:\n",
    "    data = json.load(f)\n",
    "\n",
    "len(data)\n"
   ]
  },
  {
   "cell_type": "code",
   "execution_count": 38,
   "metadata": {},
   "outputs": [
    {
     "name": "stdout",
     "output_type": "stream",
     "text": [
      "7636\n"
     ]
    },
    {
     "data": {
      "text/plain": [
       "7636"
      ]
     },
     "execution_count": 38,
     "metadata": {},
     "output_type": "execute_result"
    }
   ],
   "source": [
    "g = []\n",
    "i=0\n",
    "for dic in data:\n",
    "    value_dict = list(dic.values())[0]\n",
    "    g.append(value_dict['responses'][1])\n",
    "    i+=1\n",
    "\n",
    "print(i)\n",
    "len(\n",
    "    (g))"
   ]
  },
  {
   "cell_type": "markdown",
   "metadata": {},
   "source": [
    "### T5"
   ]
  },
  {
   "cell_type": "markdown",
   "metadata": {},
   "source": [
    "python3.8 DPO/train.py model=t5-base datasets=[cckg] loss=sft exp_name=t5_cckg_sft gradient_accumulation_steps=2 batch_size=16 eval_batch_size=16 trainer=FSDPTrainer"
   ]
  },
  {
   "cell_type": "markdown",
   "metadata": {},
   "source": [
    "### Pythia1"
   ]
  },
  {
   "cell_type": "markdown",
   "metadata": {},
   "source": [
    "python3.8 src/DPO/train.py model=pythia1 datasets=[cckg] loss=sft exp_name=pythia1_cckg_sft gradient_accumulation_steps=2 batch_size=16 eval_batch_size=16 trainer=FSDPTrainer sample_during_eval=false"
   ]
  },
  {
   "cell_type": "markdown",
   "metadata": {},
   "source": [
    "# DPO"
   ]
  },
  {
   "cell_type": "markdown",
   "metadata": {},
   "source": [
    "### T5"
   ]
  },
  {
   "cell_type": "markdown",
   "metadata": {},
   "source": [
    "python3.8 -u src/DPO/train.py model=t5-base datasets=[cckg] loss=dpo loss.beta=0.1 exp_name=t5_cckg_dpo gradient_accumulation_steps=2 batch_size=16 eval_batch_size=16 trainer=BasicTrainer sample_during_eval=false model.fsdp_policy_mp=bfloat16 model.archive=.cache/root/t5_cckg_sft_2023-12-09_14-32-43_811574/LATEST/policy.pt"
   ]
  },
  {
   "cell_type": "markdown",
   "metadata": {},
   "source": []
  },
  {
   "cell_type": "markdown",
   "metadata": {},
   "source": [
    "### pythia1"
   ]
  },
  {
   "cell_type": "markdown",
   "metadata": {},
   "source": [
    "python3.8 -u src/DPO/train.py model=pythia1 datasets=[cckg] loss=dpo loss.beta=0.1 exp_name=pythia1_cckg_DPO gradient_accumulation_steps=2 batch_size=32 eval_batch_size=16 trainer=FSDPTrainer sample_during_eval=false model.fsdp_policy_mp=bfloat16 model.archive=.cache/root/pythia1_cckg_sft_2023-12-10_14-55-25_745175/LATEST/policy.pt"
   ]
  },
  {
   "cell_type": "markdown",
   "metadata": {},
   "source": [
    "## HH dataset"
   ]
  },
  {
   "cell_type": "markdown",
   "metadata": {},
   "source": [
    "python src/DPO/train.py model=t5-base datasets=[hh] loss=sft exp_name=t5_hh_sft gradient_accumulation_steps=2 batch_size=16 eval_batch_size=16 trainer=FSDPTrainer sample_during_eval=false"
   ]
  },
  {
   "cell_type": "markdown",
   "metadata": {},
   "source": [
    "python3.8 -u src/DPO/train.py model=t5-base datasets=[cckg] loss=dpo loss.beta=0.1 exp_name=t5_cckg_DPO gradient_accumulation_steps=2 batch_size=16 eval_batch_size=16 trainer=BasicTrainer sample_during_eval=false model.fsdp_policy_mp=bfloat16 model.archive=.cache/root/t5_hh_sft_2023-12-07_17-35-15_270465/LATEST/policy.pt"
   ]
  },
  {
   "cell_type": "markdown",
   "metadata": {},
   "source": []
  },
  {
   "cell_type": "markdown",
   "metadata": {},
   "source": []
  },
  {
   "cell_type": "code",
   "execution_count": null,
   "metadata": {},
   "outputs": [],
   "source": [
    "python3.8 src/DPO/eval.py reference_ckpt=.cache/root/t5_cckg_sft_2023-12-09_11-40-16_449255/LATEST/policy.pt dpo_ckpt=.cache/root/t5_cckg_dpo_2023-12-09_11-53-56_660827/LATEST/policy.pt model=t5-base"
   ]
  },
  {
   "cell_type": "markdown",
   "metadata": {},
   "source": []
  }
 ],
 "metadata": {
  "kernelspec": {
   "display_name": "base",
   "language": "python",
   "name": "python3"
  },
  "language_info": {
   "codemirror_mode": {
    "name": "ipython",
    "version": 3
   },
   "file_extension": ".py",
   "mimetype": "text/x-python",
   "name": "python",
   "nbconvert_exporter": "python",
   "pygments_lexer": "ipython3",
   "version": "3.8.10"
  }
 },
 "nbformat": 4,
 "nbformat_minor": 2
}
