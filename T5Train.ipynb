{
 "cells": [
  {
   "cell_type": "code",
   "execution_count": null,
   "metadata": {},
   "outputs": [],
   "source": []
  },
  {
   "cell_type": "code",
   "execution_count": null,
   "metadata": {},
   "outputs": [],
   "source": []
  },
  {
   "cell_type": "code",
   "execution_count": 3,
   "metadata": {},
   "outputs": [],
   "source": [
    "from sklearn.preprocessing import LabelEncoder\n",
    "import pandas as pd\n",
    "import numpy as np\n",
    "from datasets import Dataset, DatasetDict\n",
    "import os\n",
    "from transformers import AutoModelForSeq2SeqLM, DataCollatorForSeq2Seq, Seq2SeqTrainingArguments, Seq2SeqTrainer\n",
    "import evaluate\n",
    "import nltk\n",
    "import warnings\n",
    "warnings.filterwarnings(\"ignore\")\n",
    "\n",
    "AUGMENT_WITH_NEUTRAL_ARGS = True\n",
    "data_dir = \"data/argumentation\"\n",
    "\n",
    "train_iam = pd.read_csv(os.path.join(data_dir, 'train_iam.tsv'), sep='\\t')[['topic', 'argument', 'label']]\n",
    "dev_iam = pd.read_csv(os.path.join(data_dir, 'dev_iam.txt'), sep='\\t')[['topic', 'argument', 'label']]\n",
    "test_iam = pd.read_csv(os.path.join(data_dir, 'test_iam.txt'), sep='\\t')[['topic', 'argument', 'label']]\n",
    "\n",
    "train_cckg = pd.read_csv(os.path.join(data_dir, 'train_cckg.tsv'), sep='\\t')[['topic', 'argument', 'label']]\n",
    "dev_cckg = pd.read_csv(os.path.join(data_dir, 'dev_cckg.tsv'), sep='\\t')[['topic', 'argument', 'label']]\n",
    "test_cckg = pd.read_csv(os.path.join(data_dir, 'test_cckg.tsv'), sep='\\t')[['topic', 'argument', 'label']]\n",
    "\n",
    "def transform_cckg_labels(data):\n",
    "    data.loc[data.label=='support', 'label']=1\n",
    "    data.loc[data.label=='counter', 'label']=-1\n",
    "    return data\n",
    "\n",
    "train_cckg = transform_cckg_labels(train_cckg)\n",
    "dev_cckg = transform_cckg_labels(dev_cckg)\n",
    "test_cckg = transform_cckg_labels(test_cckg)\n",
    "\n",
    "train_df = pd.concat([train_iam, train_cckg]).sample(frac=1) #shuffle these bad boys\n",
    "dev_df = pd.concat([dev_iam, dev_cckg]).sample(frac=1)\n",
    "test_df = pd.concat([test_iam, test_cckg]).sample(frac=1)\n",
    "\n",
    "\n",
    "train_df = train_cckg #shuffle these bad boys\n",
    "dev_df = dev_cckg\n",
    "test_df = test_cckg\n",
    "\n",
    "all_claims = pd.read_csv(os.path.join(data_dir, 'claims.tsv'), sep='\\t')\n",
    "\n",
    "np.random.seed(42)\n",
    "\n",
    "if AUGMENT_WITH_NEUTRAL_ARGS:\n",
    "    neutral_claims = all_claims[all_claims.type=='O'] \n",
    "    lower_bound = 0\n",
    "    \n",
    "    min_train_label = min(train_df['label'].value_counts())\n",
    "    train_sample = neutral_claims.iloc[:min_train_label]\n",
    "    train_sample = train_sample[['topic', 'argument', 'label']]\n",
    "    train_df = pd.concat([train_df, train_sample]).sample(frac=1)\n",
    "    lower_bound = min_train_label\n",
    "    \n",
    "    min_dev_label = min(dev_df['label'].value_counts())\n",
    "    dev_sample = neutral_claims.iloc[lower_bound: lower_bound + min_dev_label]  \n",
    "    dev_sample = dev_sample[['topic', 'argument', 'label']]  \n",
    "    dev_df = pd.concat([dev_df, dev_sample]).sample(frac=1)\n",
    "    lower_bound = lower_bound + min_dev_label\n",
    "    \n",
    "    min_test_label = min(test_df['label'].value_counts())\n",
    "    test_sample = neutral_claims.iloc[lower_bound: lower_bound + min_test_label]    \n",
    "    test_sample = test_sample[['topic', 'argument', 'label']]\n",
    "    test_df = pd.concat([test_df, test_sample]).sample(frac=1)\n",
    "\n",
    "label_encoder = LabelEncoder()\n",
    "label_encoder.fit(train_df['label'])\n",
    "train_df['label'] = label_encoder.transform(train_df['label'])\n",
    "dev_df['label'] = label_encoder.transform(dev_df['label'])\n",
    "test_df['label'] = label_encoder.transform(test_df['label'])\n",
    "\n",
    "dataset = DatasetDict({\n",
    "    'train': Dataset.from_pandas(train_df),\n",
    "    'validation': Dataset.from_pandas(dev_df),\n",
    "    'test': Dataset.from_pandas(test_df)\n",
    "})"
   ]
  },
  {
   "cell_type": "code",
   "execution_count": 4,
   "metadata": {},
   "outputs": [
    {
     "data": {
      "text/plain": [
       "array([-1, 0, 1], dtype=object)"
      ]
     },
     "execution_count": 4,
     "metadata": {},
     "output_type": "execute_result"
    }
   ],
   "source": [
    "label_encoder.classes_"
   ]
  },
  {
   "cell_type": "code",
   "execution_count": 5,
   "metadata": {},
   "outputs": [],
   "source": [
    "model_name = 'google/flan-t5-base'"
   ]
  },
  {
   "cell_type": "code",
   "execution_count": null,
   "metadata": {},
   "outputs": [],
   "source": []
  },
  {
   "cell_type": "code",
   "execution_count": 6,
   "metadata": {},
   "outputs": [],
   "source": [
    "from transformers import AutoTokenizer\n",
    "model_name = 'google/flan-t5-base'\n",
    "model = AutoModelForSeq2SeqLM.from_pretrained(model_name)\n",
    "tokenizer = AutoTokenizer.from_pretrained(model_name)\n",
    "data_collator = DataCollatorForSeq2Seq(tokenizer, model=model)\n",
    "metric = evaluate.load('rouge')"
   ]
  },
  {
   "cell_type": "code",
   "execution_count": 7,
   "metadata": {},
   "outputs": [],
   "source": [
    "\"\"\"    \n",
    "need to be careful cause we cant give the same prefix to every type of \n",
    "arguments otherwise the model generalises and considers counter arguments as \n",
    "supporting arguments if we give the prefix : 'generate a supporting argument'   \n",
    "\"\"\"\n",
    "def preprocess_function(sample):\n",
    "    def process_by_type(label_type):\n",
    "        if AUGMENT_WITH_NEUTRAL_ARGS:\n",
    "            if label_type==2:\n",
    "                label = 'supporting'\n",
    "            elif label_type == 1:\n",
    "                label = 'neutral'\n",
    "            elif label_type==0:\n",
    "                label = 'counter'\n",
    "            else:\n",
    "                raise ValueError\n",
    "        else:\n",
    "            if label_type == 1:\n",
    "                label = 'supporting'\n",
    "            else:\n",
    "                label = 'counter'\n",
    "        \n",
    "        label_indices = [i for i, label in enumerate(sample['label']) if label == label_type]        \n",
    "        prefix = f\"Given the following topic, generate a good {label} argument. Topic=\"\n",
    "        labeled_samples = {key: [sample[key][i] for i in label_indices] for key in sample.keys()}\n",
    "        inputs = [prefix + doc for doc in labeled_samples['topic']]\n",
    "\n",
    "        model_inputs = tokenizer(inputs, max_length=4096, truncation=True)\n",
    "        with tokenizer.as_target_tokenizer():\n",
    "            labels = tokenizer(labeled_samples['argument'], max_length=4096, truncation=True)\n",
    "        model_inputs['labels'] = labels['input_ids']\n",
    "        return model_inputs\n",
    "    \n",
    "    if AUGMENT_WITH_NEUTRAL_ARGS:\n",
    "        model_inputs_supporting=process_by_type(label_type=2) ## supporting\n",
    "        model_inputs_neutral=process_by_type(label_type=1) ## neutral\n",
    "        model_inputs_counter=process_by_type(label_type=0) ## counter\n",
    "        \n",
    "        combined_model_inputs = {\n",
    "        'input_ids': model_inputs_supporting['input_ids'] + model_inputs_neutral['input_ids'] + model_inputs_counter['input_ids'],\n",
    "        'attention_mask': model_inputs_supporting['attention_mask'] + model_inputs_neutral['attention_mask'] + model_inputs_counter['attention_mask'],\n",
    "        'labels': model_inputs_supporting['labels'] + model_inputs_neutral['labels'] + model_inputs_counter['labels']\n",
    "        }\n",
    "        \n",
    "    else:\n",
    "        model_inputs_supporting=process_by_type(label_type=1) ## supporting\n",
    "        model_inputs_counter=process_by_type(label_type=0) ## counter\n",
    "        \n",
    "        combined_model_inputs = {\n",
    "        'input_ids': model_inputs_supporting['input_ids'] + model_inputs_counter['input_ids'],\n",
    "        'attention_mask': model_inputs_supporting['attention_mask'] + model_inputs_counter['attention_mask'],\n",
    "        'labels': model_inputs_supporting['labels'] + model_inputs_counter['labels']\n",
    "        }\n",
    "    \n",
    "    return combined_model_inputs\n",
    "        \n"
   ]
  },
  {
   "cell_type": "code",
   "execution_count": 8,
   "metadata": {},
   "outputs": [
    {
     "data": {
      "application/vnd.jupyter.widget-view+json": {
       "model_id": "791a01e9546d444d87db96396d1817b3",
       "version_major": 2,
       "version_minor": 0
      },
      "text/plain": [
       "Map:   0%|          | 0/2706 [00:00<?, ? examples/s]"
      ]
     },
     "metadata": {},
     "output_type": "display_data"
    },
    {
     "data": {
      "application/vnd.jupyter.widget-view+json": {
       "model_id": "8d230c5c938e416e8081320ad27851d3",
       "version_major": 2,
       "version_minor": 0
      },
      "text/plain": [
       "Map:   0%|          | 0/597 [00:00<?, ? examples/s]"
      ]
     },
     "metadata": {},
     "output_type": "display_data"
    },
    {
     "data": {
      "application/vnd.jupyter.widget-view+json": {
       "model_id": "c4bf3ecef38b43038c48a0991c3ada48",
       "version_major": 2,
       "version_minor": 0
      },
      "text/plain": [
       "Map:   0%|          | 0/505 [00:00<?, ? examples/s]"
      ]
     },
     "metadata": {},
     "output_type": "display_data"
    }
   ],
   "source": [
    "tokenized_dataset = dataset.map(preprocess_function, batched=True, remove_columns=['label'])"
   ]
  },
  {
   "cell_type": "code",
   "execution_count": 13,
   "metadata": {},
   "outputs": [],
   "source": [
    "batch_size = 8\n",
    "training_arguments = Seq2SeqTrainingArguments(\n",
    "    output_dir='results/',\n",
    "    evaluation_strategy='epoch',\n",
    "    learning_rate=1e-5,\n",
    "    per_device_train_batch_size=batch_size,\n",
    "    per_device_eval_batch_size=batch_size,\n",
    "    weight_decay=0.01,\n",
    "    save_total_limit=3,\n",
    "    num_train_epochs=5,\n",
    "    predict_with_generate=True,\n",
    "    load_best_model_at_end=True,\n",
    "    save_strategy=\"epoch\",\n",
    "    logging_strategy=\"steps\",\n",
    "    fp16=True, # for cuda\n",
    "    push_to_hub=False,\n",
    "    logging_steps=50,\n",
    "    eval_steps=50,\n",
    "    save_steps=50,\n",
    ")\n",
    "\n",
    "\n",
    "def compute_metrics(eval_preds):\n",
    "    preds, labels = eval_preds\n",
    "    if isinstance(preds, tuple):\n",
    "        preds = preds[0]\n",
    "    decoded_preds = tokenizer.batch_decode(preds, skip_special_tokens=True)\n",
    "    # Replace -100 in the labels as we can't decode them.\n",
    "    labels = np.where(labels != -100, labels, tokenizer.pad_token_id)\n",
    "    decoded_labels = tokenizer.batch_decode(labels, skip_special_tokens=True)\n",
    "\n",
    "    # Some simple post-processing\n",
    "    decoded_preds = [\"\\n\".join(nltk.sent_tokenize(pred.strip())) for pred in decoded_preds]\n",
    "    decoded_labels = [\"\\n\".join(nltk.sent_tokenize(label.strip())) for label in decoded_labels]\n",
    "    \n",
    "    result = metric.compute(predictions=decoded_preds, references=decoded_labels, use_stemmer=True)\n",
    "    result = {k: round(v * 100, 4) for k, v in result.items()}\n",
    "    prediction_lens = [np.count_nonzero(pred != tokenizer.pad_token_id) for pred in preds]\n",
    "    result[\"gen_len\"] = np.mean(prediction_lens)\n",
    "    return result"
   ]
  },
  {
   "cell_type": "code",
   "execution_count": 14,
   "metadata": {},
   "outputs": [
    {
     "name": "stderr",
     "output_type": "stream",
     "text": [
      "huggingface/tokenizers: The current process just got forked, after parallelism has already been used. Disabling parallelism to avoid deadlocks...\n",
      "To disable this warning, you can either:\n",
      "\t- Avoid using `tokenizers` before the fork if possible\n",
      "\t- Explicitly set the environment variable TOKENIZERS_PARALLELISM=(true | false)\n",
      "huggingface/tokenizers: The current process just got forked, after parallelism has already been used. Disabling parallelism to avoid deadlocks...\n",
      "To disable this warning, you can either:\n",
      "\t- Avoid using `tokenizers` before the fork if possible\n",
      "\t- Explicitly set the environment variable TOKENIZERS_PARALLELISM=(true | false)\n",
      "huggingface/tokenizers: The current process just got forked, after parallelism has already been used. Disabling parallelism to avoid deadlocks...\n",
      "To disable this warning, you can either:\n",
      "\t- Avoid using `tokenizers` before the fork if possible\n",
      "\t- Explicitly set the environment variable TOKENIZERS_PARALLELISM=(true | false)\n"
     ]
    }
   ],
   "source": [
    "trainer = Seq2SeqTrainer(\n",
    "    model=model,\n",
    "    args=training_arguments,\n",
    "    train_dataset=tokenized_dataset['train'],\n",
    "    eval_dataset=tokenized_dataset['validation'],\n",
    "    data_collator=data_collator,\n",
    "    tokenizer=tokenizer,\n",
    "    compute_metrics=compute_metrics\n",
    ")"
   ]
  },
  {
   "cell_type": "code",
   "execution_count": 15,
   "metadata": {},
   "outputs": [
    {
     "name": "stderr",
     "output_type": "stream",
     "text": [
      "Failed to detect the name of this notebook, you can set it manually with the WANDB_NOTEBOOK_NAME environment variable to enable code saving.\n",
      "huggingface/tokenizers: The current process just got forked, after parallelism has already been used. Disabling parallelism to avoid deadlocks...\n",
      "To disable this warning, you can either:\n",
      "\t- Avoid using `tokenizers` before the fork if possible\n",
      "\t- Explicitly set the environment variable TOKENIZERS_PARALLELISM=(true | false)\n",
      "\u001b[34m\u001b[1mwandb\u001b[0m: Currently logged in as: \u001b[33mluca-mouchel\u001b[0m (\u001b[33mlia_epfl\u001b[0m). Use \u001b[1m`wandb login --relogin`\u001b[0m to force relogin\n",
      "huggingface/tokenizers: The current process just got forked, after parallelism has already been used. Disabling parallelism to avoid deadlocks...\n",
      "To disable this warning, you can either:\n",
      "\t- Avoid using `tokenizers` before the fork if possible\n",
      "\t- Explicitly set the environment variable TOKENIZERS_PARALLELISM=(true | false)\n",
      "huggingface/tokenizers: The current process just got forked, after parallelism has already been used. Disabling parallelism to avoid deadlocks...\n",
      "To disable this warning, you can either:\n",
      "\t- Avoid using `tokenizers` before the fork if possible\n",
      "\t- Explicitly set the environment variable TOKENIZERS_PARALLELISM=(true | false)\n"
     ]
    },
    {
     "data": {
      "text/html": [
       "Tracking run with wandb version 0.16.0"
      ],
      "text/plain": [
       "<IPython.core.display.HTML object>"
      ]
     },
     "metadata": {},
     "output_type": "display_data"
    },
    {
     "data": {
      "text/html": [
       "Run data is saved locally in <code>/root/lucaM/LogicalFallacyRepo/logical-fallacy-LLMs/wandb/run-20231112_163502-9l6u5xgj</code>"
      ],
      "text/plain": [
       "<IPython.core.display.HTML object>"
      ]
     },
     "metadata": {},
     "output_type": "display_data"
    },
    {
     "data": {
      "text/html": [
       "Syncing run <strong><a href='https://wandb.ai/lia_epfl/huggingface/runs/9l6u5xgj' target=\"_blank\">peachy-darkness-39</a></strong> to <a href='https://wandb.ai/lia_epfl/huggingface' target=\"_blank\">Weights & Biases</a> (<a href='https://wandb.me/run' target=\"_blank\">docs</a>)<br/>"
      ],
      "text/plain": [
       "<IPython.core.display.HTML object>"
      ]
     },
     "metadata": {},
     "output_type": "display_data"
    },
    {
     "data": {
      "text/html": [
       " View project at <a href='https://wandb.ai/lia_epfl/huggingface' target=\"_blank\">https://wandb.ai/lia_epfl/huggingface</a>"
      ],
      "text/plain": [
       "<IPython.core.display.HTML object>"
      ]
     },
     "metadata": {},
     "output_type": "display_data"
    },
    {
     "data": {
      "text/html": [
       " View run at <a href='https://wandb.ai/lia_epfl/huggingface/runs/9l6u5xgj' target=\"_blank\">https://wandb.ai/lia_epfl/huggingface/runs/9l6u5xgj</a>"
      ],
      "text/plain": [
       "<IPython.core.display.HTML object>"
      ]
     },
     "metadata": {},
     "output_type": "display_data"
    },
    {
     "name": "stderr",
     "output_type": "stream",
     "text": [
      "You're using a T5TokenizerFast tokenizer. Please note that with a fast tokenizer, using the `__call__` method is faster than using a method to encode the text followed by a call to the `pad` method to get a padded encoding.\n"
     ]
    },
    {
     "data": {
      "text/html": [
       "\n",
       "    <div>\n",
       "      \n",
       "      <progress value='850' max='850' style='width:300px; height:20px; vertical-align: middle;'></progress>\n",
       "      [850/850 09:50, Epoch 5/5]\n",
       "    </div>\n",
       "    <table border=\"1\" class=\"dataframe\">\n",
       "  <thead>\n",
       " <tr style=\"text-align: left;\">\n",
       "      <th>Epoch</th>\n",
       "      <th>Training Loss</th>\n",
       "      <th>Validation Loss</th>\n",
       "      <th>Rouge1</th>\n",
       "      <th>Rouge2</th>\n",
       "      <th>Rougel</th>\n",
       "      <th>Rougelsum</th>\n",
       "      <th>Gen Len</th>\n",
       "    </tr>\n",
       "  </thead>\n",
       "  <tbody>\n",
       "    <tr>\n",
       "      <td>1</td>\n",
       "      <td>3.231300</td>\n",
       "      <td>2.764040</td>\n",
       "      <td>21.020800</td>\n",
       "      <td>8.577100</td>\n",
       "      <td>19.578300</td>\n",
       "      <td>19.526100</td>\n",
       "      <td>12.497487</td>\n",
       "    </tr>\n",
       "    <tr>\n",
       "      <td>2</td>\n",
       "      <td>3.097100</td>\n",
       "      <td>2.738573</td>\n",
       "      <td>22.936500</td>\n",
       "      <td>8.188700</td>\n",
       "      <td>20.952700</td>\n",
       "      <td>20.902300</td>\n",
       "      <td>14.050251</td>\n",
       "    </tr>\n",
       "    <tr>\n",
       "      <td>3</td>\n",
       "      <td>3.065100</td>\n",
       "      <td>2.726497</td>\n",
       "      <td>23.044900</td>\n",
       "      <td>7.946800</td>\n",
       "      <td>20.918100</td>\n",
       "      <td>20.863900</td>\n",
       "      <td>14.286432</td>\n",
       "    </tr>\n",
       "    <tr>\n",
       "      <td>4</td>\n",
       "      <td>3.009000</td>\n",
       "      <td>2.720764</td>\n",
       "      <td>22.886000</td>\n",
       "      <td>7.917500</td>\n",
       "      <td>20.806200</td>\n",
       "      <td>20.767700</td>\n",
       "      <td>14.316583</td>\n",
       "    </tr>\n",
       "    <tr>\n",
       "      <td>5</td>\n",
       "      <td>3.043700</td>\n",
       "      <td>2.717869</td>\n",
       "      <td>22.860300</td>\n",
       "      <td>7.903600</td>\n",
       "      <td>20.775700</td>\n",
       "      <td>20.737500</td>\n",
       "      <td>14.331658</td>\n",
       "    </tr>\n",
       "  </tbody>\n",
       "</table><p>"
      ],
      "text/plain": [
       "<IPython.core.display.HTML object>"
      ]
     },
     "metadata": {},
     "output_type": "display_data"
    },
    {
     "name": "stderr",
     "output_type": "stream",
     "text": [
      "There were missing keys in the checkpoint model loaded: ['encoder.embed_tokens.weight', 'decoder.embed_tokens.weight'].\n"
     ]
    },
    {
     "data": {
      "text/plain": [
       "TrainOutput(global_step=850, training_loss=3.073619025735294, metrics={'train_runtime': 596.1691, 'train_samples_per_second': 22.695, 'train_steps_per_second': 1.426, 'total_flos': 678351126435840.0, 'train_loss': 3.073619025735294, 'epoch': 5.0})"
      ]
     },
     "execution_count": 15,
     "metadata": {},
     "output_type": "execute_result"
    }
   ],
   "source": [
    "trainer.train()\n"
   ]
  },
  {
   "cell_type": "code",
   "execution_count": 16,
   "metadata": {},
   "outputs": [],
   "source": [
    "saved_model = f\"models/{model_name.split('/')[-1]}/w_neutral_CCKG/\"\n",
    "trainer.save_model(saved_model)"
   ]
  },
  {
   "cell_type": "code",
   "execution_count": 17,
   "metadata": {},
   "outputs": [
    {
     "data": {
      "text/html": [],
      "text/plain": [
       "<IPython.core.display.HTML object>"
      ]
     },
     "metadata": {},
     "output_type": "display_data"
    }
   ],
   "source": [
    "predictions = trainer.predict(tokenized_dataset[\"test\"])"
   ]
  },
  {
   "cell_type": "code",
   "execution_count": null,
   "metadata": {},
   "outputs": [
    {
     "data": {
      "text/plain": [
       "{'test_loss': 3.1586780548095703,\n",
       " 'test_rouge1': 19.3503,\n",
       " 'test_rouge2': 3.9895,\n",
       " 'test_rougeL': 16.4591,\n",
       " 'test_rougeLsum': 16.4658,\n",
       " 'test_gen_len': 16.910714285714285,\n",
       " 'test_runtime': 54.0749,\n",
       " 'test_samples_per_second': 23.819,\n",
       " 'test_steps_per_second': 1.498}"
      ]
     },
     "execution_count": 77,
     "metadata": {},
     "output_type": "execute_result"
    }
   ],
   "source": [
    "predictions.metrics"
   ]
  },
  {
   "cell_type": "code",
   "execution_count": null,
   "metadata": {},
   "outputs": [
    {
     "ename": "NameError",
     "evalue": "name 'saved_model' is not defined",
     "output_type": "error",
     "traceback": [
      "\u001b[0;31m---------------------------------------------------------------------------\u001b[0m",
      "\u001b[0;31mNameError\u001b[0m                                 Traceback (most recent call last)",
      "\u001b[1;32m/root/lucaM/LogicalFallacyRepo/logical-fallacy-LLMs/T5Train.ipynb Cell 14\u001b[0m line \u001b[0;36m2\n\u001b[1;32m      <a href='vscode-notebook-cell://ssh-remote%2Biccluster042.iccluster.epfl.ch/root/lucaM/LogicalFallacyRepo/logical-fallacy-LLMs/T5Train.ipynb#X16sdnNjb2RlLXJlbW90ZQ%3D%3D?line=0'>1</a>\u001b[0m \u001b[39mfrom\u001b[39;00m \u001b[39mtransformers\u001b[39;00m \u001b[39mimport\u001b[39;00m T5ForConditionalGeneration, T5Tokenizer\n\u001b[0;32m----> <a href='vscode-notebook-cell://ssh-remote%2Biccluster042.iccluster.epfl.ch/root/lucaM/LogicalFallacyRepo/logical-fallacy-LLMs/T5Train.ipynb#X16sdnNjb2RlLXJlbW90ZQ%3D%3D?line=1'>2</a>\u001b[0m model \u001b[39m=\u001b[39m T5ForConditionalGeneration\u001b[39m.\u001b[39mfrom_pretrained(saved_model)\n\u001b[1;32m      <a href='vscode-notebook-cell://ssh-remote%2Biccluster042.iccluster.epfl.ch/root/lucaM/LogicalFallacyRepo/logical-fallacy-LLMs/T5Train.ipynb#X16sdnNjb2RlLXJlbW90ZQ%3D%3D?line=2'>3</a>\u001b[0m tokenizer \u001b[39m=\u001b[39m T5Tokenizer\u001b[39m.\u001b[39mfrom_pretrained(saved_model)\n",
      "\u001b[0;31mNameError\u001b[0m: name 'saved_model' is not defined"
     ]
    }
   ],
   "source": [
    "from transformers import T5ForConditionalGeneration, T5Tokenizer\n",
    "model = T5ForConditionalGeneration.from_pretrained(saved_model)\n",
    "tokenizer = T5Tokenizer.from_pretrained(saved_model)"
   ]
  },
  {
   "cell_type": "code",
   "execution_count": null,
   "metadata": {},
   "outputs": [],
   "source": [
    "def generate_arg(topic, arg_type='supporting'):\n",
    "    prefix = f\"Given the following topic, generate a good {arg_type} argument. Topic=\"\n",
    "    inputs = tokenizer(prefix + topic, return_tensors='pt', padding=True, truncation=True)\n",
    "    outputs = model.generate(**inputs, min_length=25, max_length=50)\n",
    "    return tokenizer.decode(outputs[0], skip_special_tokens=True)"
   ]
  },
  {
   "cell_type": "code",
   "execution_count": null,
   "metadata": {},
   "outputs": [
    {
     "name": "stdout",
     "output_type": "stream",
     "text": [
      "Shouldn't alcohol be forbidden\n"
     ]
    }
   ],
   "source": [
    "df_iam = pd.read_csv(os.path.join(data_dir, 'train_iam.tsv'), sep='\\t')\n",
    "df_cckg = pd.read_csv(os.path.join(data_dir, 'train_cckg.tsv'), sep='\\t')\n",
    "topic = df_iam['topic'].sample(1).values[0]\n",
    "print(topic)"
   ]
  },
  {
   "cell_type": "code",
   "execution_count": null,
   "metadata": {},
   "outputs": [
    {
     "name": "stdout",
     "output_type": "stream",
     "text": [
      "SHOULDN'T ALCOHOL BE FORBIDDEN\n"
     ]
    }
   ],
   "source": [
    "print(topic.upper())"
   ]
  },
  {
   "cell_type": "code",
   "execution_count": null,
   "metadata": {},
   "outputs": [
    {
     "name": "stdout",
     "output_type": "stream",
     "text": [
      "supporting---Alcohol is a dangerous drug that can cause serious health problems. [ref]. [ref]. Alcohol is a dangerous drug that can cause serious health problems.\n",
      "counter---Alcohol is a dangerous drug, and it can cause serious health problems. [ref]. [ref]. Alcohol is a dangerous drug, and it can cause serious health problems.\n",
      "neutral---The alcoholics are able to make a living by drinking alcohol, and they are able to make a living by consuming alcohol.\n"
     ]
    }
   ],
   "source": [
    "arg_types=['supporting', 'counter', 'neutral']\n",
    "\n",
    "for arg_type in arg_types:\n",
    "    print(f\"\"\"{arg_type}---{generate_arg(\"Should alcohol be forbidden\", arg_type=arg_type)}\"\"\")\n"
   ]
  },
  {
   "cell_type": "code",
   "execution_count": null,
   "metadata": {},
   "outputs": [
    {
     "name": "stderr",
     "output_type": "stream",
     "text": [
      "You are using the default legacy behaviour of the <class 'transformers.models.t5.tokenization_t5.T5Tokenizer'>. This is expected, and simply means that the `legacy` (previous) behavior will be used so nothing changes for you. If you want to use the new behaviour, set `legacy=False`. This should only be set if you understand what it means, and thouroughly read the reason why this was added as explained in https://github.com/huggingface/transformers/pull/24565\n",
      "Special tokens have been added in the vocabulary, make sure the associated word embeddings are fine-tuned or trained.\n"
     ]
    }
   ],
   "source": [
    "from transformers import T5ForConditionalGeneration, T5Tokenizer\n",
    "\n",
    "model_name = 'google/flan-t5-base'\n",
    "model_dir = f\"models/{model_name.split('/')[-1]}/w_neutral/\"\n",
    "data_dir = 'data/argumentation'\n",
    "\n",
    "model = T5ForConditionalGeneration.from_pretrained(model_dir)\n",
    "tokenizer = T5Tokenizer.from_pretrained(model_dir)\n"
   ]
  }
 ],
 "metadata": {
  "kernelspec": {
   "display_name": "logicalfallacies",
   "language": "python",
   "name": "python3"
  },
  "language_info": {
   "codemirror_mode": {
    "name": "ipython",
    "version": 3
   },
   "file_extension": ".py",
   "mimetype": "text/x-python",
   "name": "python",
   "nbconvert_exporter": "python",
   "pygments_lexer": "ipython3",
   "version": "3.8.10"
  }
 },
 "nbformat": 4,
 "nbformat_minor": 2
}
